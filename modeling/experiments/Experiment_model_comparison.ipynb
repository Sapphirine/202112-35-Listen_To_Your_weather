{
  "cells": [
    {
      "cell_type": "markdown",
      "metadata": {
        "id": "Dj0op5mZM7oe"
      },
      "source": [
        "### Import Dependencies\n"
      ]
    },
    {
      "cell_type": "code",
      "execution_count": 3,
      "metadata": {
        "colab": {
          "base_uri": "https://localhost:8080/"
        },
        "id": "UUeOHIsZM5ER",
        "outputId": "2e3b52b7-e6ef-46c2-8f05-829eca50a657"
      },
      "outputs": [
        {
          "output_type": "stream",
          "name": "stdout",
          "text": [
            "Requirement already satisfied: pyspark in /usr/local/lib/python3.7/dist-packages (3.2.0)\n",
            "Requirement already satisfied: py4j==0.10.9.2 in /usr/local/lib/python3.7/dist-packages (from pyspark) (0.10.9.2)\n"
          ]
        }
      ],
      "source": [
        "!pip install pyspark"
      ]
    },
    {
      "cell_type": "code",
      "execution_count": 4,
      "metadata": {
        "colab": {
          "base_uri": "https://localhost:8080/"
        },
        "id": "tkCIFvNuQyCi",
        "outputId": "90a138eb-2f1a-42ac-f64b-870d01d6e6ee"
      },
      "outputs": [
        {
          "output_type": "stream",
          "name": "stdout",
          "text": [
            "Requirement already satisfied: pmdarima in /usr/local/lib/python3.7/dist-packages (1.8.4)\n",
            "Requirement already satisfied: scipy>=1.3.2 in /usr/local/lib/python3.7/dist-packages (from pmdarima) (1.4.1)\n",
            "Requirement already satisfied: scikit-learn>=0.22 in /usr/local/lib/python3.7/dist-packages (from pmdarima) (1.0.1)\n",
            "Requirement already satisfied: pandas>=0.19 in /usr/local/lib/python3.7/dist-packages (from pmdarima) (1.1.5)\n",
            "Requirement already satisfied: urllib3 in /usr/local/lib/python3.7/dist-packages (from pmdarima) (1.24.3)\n",
            "Requirement already satisfied: setuptools!=50.0.0,>=38.6.0 in /usr/local/lib/python3.7/dist-packages (from pmdarima) (57.4.0)\n",
            "Requirement already satisfied: statsmodels!=0.12.0,>=0.11 in /usr/local/lib/python3.7/dist-packages (from pmdarima) (0.13.1)\n",
            "Requirement already satisfied: joblib>=0.11 in /usr/local/lib/python3.7/dist-packages (from pmdarima) (1.1.0)\n",
            "Requirement already satisfied: Cython!=0.29.18,>=0.29 in /usr/local/lib/python3.7/dist-packages (from pmdarima) (0.29.24)\n",
            "Requirement already satisfied: numpy>=1.19.3 in /usr/local/lib/python3.7/dist-packages (from pmdarima) (1.19.5)\n",
            "Requirement already satisfied: python-dateutil>=2.7.3 in /usr/local/lib/python3.7/dist-packages (from pandas>=0.19->pmdarima) (2.8.2)\n",
            "Requirement already satisfied: pytz>=2017.2 in /usr/local/lib/python3.7/dist-packages (from pandas>=0.19->pmdarima) (2018.9)\n",
            "Requirement already satisfied: six>=1.5 in /usr/local/lib/python3.7/dist-packages (from python-dateutil>=2.7.3->pandas>=0.19->pmdarima) (1.15.0)\n",
            "Requirement already satisfied: threadpoolctl>=2.0.0 in /usr/local/lib/python3.7/dist-packages (from scikit-learn>=0.22->pmdarima) (3.0.0)\n",
            "Requirement already satisfied: patsy>=0.5.2 in /usr/local/lib/python3.7/dist-packages (from statsmodels!=0.12.0,>=0.11->pmdarima) (0.5.2)\n"
          ]
        }
      ],
      "source": [
        "!pip install pmdarima"
      ]
    },
    {
      "cell_type": "code",
      "execution_count": 5,
      "metadata": {
        "colab": {
          "base_uri": "https://localhost:8080/"
        },
        "id": "7q6gefTjMXXL",
        "outputId": "d22d7f69-b452-4351-b468-14237b7a9c4f"
      },
      "outputs": [
        {
          "output_type": "stream",
          "name": "stderr",
          "text": [
            "/usr/local/lib/python3.7/dist-packages/pyspark/sql/context.py:79: FutureWarning: Deprecated in 3.0.0. Use SparkSession.builder.getOrCreate() instead.\n",
            "  FutureWarning\n"
          ]
        }
      ],
      "source": [
        "# Data wrangling\n",
        "import pandas as pd \n",
        "\n",
        "# Visualization\n",
        "import matplotlib.pyplot as plt \n",
        "import seaborn as sns \n",
        "\n",
        "# Date wrangling\n",
        "import datetime\n",
        "\n",
        "# Math operations\n",
        "import numpy as np\n",
        "\n",
        "# Random sampling\n",
        "import random\n",
        "\n",
        "# sklearn\n",
        "from sklearn.preprocessing import StandardScaler\n",
        "from sklearn.model_selection import train_test_split\n",
        "from sklearn.pipeline import make_pipeline\n",
        "\n",
        "# Keras API \n",
        "from tensorflow import keras\n",
        "from tensorflow.keras import layers\n",
        "\n",
        "# Deep learning \n",
        "from keras.models import Input, Model, Sequential\n",
        "from keras.layers import Dense, Dropout, LSTM, Concatenate, SimpleRNN, Masking, Flatten\n",
        "from keras import losses\n",
        "from keras.callbacks import EarlyStopping\n",
        "from keras.initializers import RandomNormal\n",
        "\n",
        "# Time Series\n",
        "import pmdarima as pm\n",
        "from pmdarima import model_selection\n",
        "from pmdarima.arima import auto_arima\n",
        "from statsmodels.tsa.arima.model import ARIMA\n",
        "\n",
        "# pyspark related\n",
        "# pip install pyspark\n",
        "import pyspark\n",
        "from pyspark.sql.functions import split, explode, to_timestamp, from_unixtime, from_utc_timestamp\n",
        "from pyspark import SparkConf, SparkContext,SQLContext\n",
        "from pyspark.sql import SparkSession\n",
        "from pyspark.sql.types import IntegerType,ArrayType,StringType,DoubleType\n",
        "from pyspark.sql.functions import *\n",
        "from pyspark.sql import Window\n",
        "# from pyspark.ml.feature import StandardScaler\n",
        "from pyspark.ml import Pipeline\n",
        "from pyspark.ml.feature import VectorAssembler\n",
        "#from ts.flint import FlintContext\n",
        "sc = SparkContext.getOrCreate()\n",
        "sqlContext = SQLContext(sc)"
      ]
    },
    {
      "cell_type": "markdown",
      "metadata": {
        "id": "WblQesf2Oj3L"
      },
      "source": [
        "### Get Cleaned Final Data"
      ]
    },
    {
      "cell_type": "code",
      "execution_count": 6,
      "metadata": {
        "colab": {
          "base_uri": "https://localhost:8080/"
        },
        "id": "al66N2vMOjis",
        "outputId": "b8af9ea2-acdc-49b8-c671-a9040d10d970"
      },
      "outputs": [
        {
          "output_type": "stream",
          "name": "stdout",
          "text": [
            "Dataset already downloaded in '/content/data'\n"
          ]
        }
      ],
      "source": [
        "%%bash\n",
        "if [ ! -d '/content/data' ]; then\n",
        "  git clone https://gitlab.com/Dimu_1020/big_data_final/ '/content/data'\n",
        "  cd '/content/data'\n",
        "else\n",
        "  echo \"Dataset already downloaded in '/content/data'\"\n",
        "fi"
      ]
    },
    {
      "cell_type": "code",
      "execution_count": 7,
      "metadata": {
        "colab": {
          "base_uri": "https://localhost:8080/",
          "height": 423
        },
        "id": "bcXgnBvHM9-2",
        "outputId": "f00efc3d-b930-4468-90dc-67e38c31dac4"
      },
      "outputs": [
        {
          "output_type": "execute_result",
          "data": {
            "text/html": [
              "\n",
              "  <div id=\"df-7679ce26-5424-48cf-8c0f-fa279e4b309c\">\n",
              "    <div class=\"colab-df-container\">\n",
              "      <div>\n",
              "<style scoped>\n",
              "    .dataframe tbody tr th:only-of-type {\n",
              "        vertical-align: middle;\n",
              "    }\n",
              "\n",
              "    .dataframe tbody tr th {\n",
              "        vertical-align: top;\n",
              "    }\n",
              "\n",
              "    .dataframe thead th {\n",
              "        text-align: right;\n",
              "    }\n",
              "</style>\n",
              "<table border=\"1\" class=\"dataframe\">\n",
              "  <thead>\n",
              "    <tr style=\"text-align: right;\">\n",
              "      <th></th>\n",
              "      <th>temp</th>\n",
              "      <th>day_cos</th>\n",
              "      <th>day_sin</th>\n",
              "      <th>month_sin</th>\n",
              "      <th>month_cos</th>\n",
              "      <th>pressure</th>\n",
              "      <th>wind_speed</th>\n",
              "      <th>weather_main</th>\n",
              "      <th>weather_id</th>\n",
              "    </tr>\n",
              "  </thead>\n",
              "  <tbody>\n",
              "    <tr>\n",
              "      <th>0</th>\n",
              "      <td>280.34</td>\n",
              "      <td>1.000000</td>\n",
              "      <td>0.000000</td>\n",
              "      <td>-0.004301</td>\n",
              "      <td>0.999991</td>\n",
              "      <td>1030.0</td>\n",
              "      <td>6.70</td>\n",
              "      <td>foggy</td>\n",
              "      <td>3</td>\n",
              "    </tr>\n",
              "    <tr>\n",
              "      <th>1</th>\n",
              "      <td>280.34</td>\n",
              "      <td>1.000000</td>\n",
              "      <td>0.000000</td>\n",
              "      <td>-0.004301</td>\n",
              "      <td>0.999991</td>\n",
              "      <td>1030.0</td>\n",
              "      <td>6.70</td>\n",
              "      <td>rainy</td>\n",
              "      <td>4</td>\n",
              "    </tr>\n",
              "    <tr>\n",
              "      <th>2</th>\n",
              "      <td>280.34</td>\n",
              "      <td>1.000000</td>\n",
              "      <td>0.000000</td>\n",
              "      <td>-0.004301</td>\n",
              "      <td>0.999991</td>\n",
              "      <td>1030.0</td>\n",
              "      <td>6.70</td>\n",
              "      <td>rainy</td>\n",
              "      <td>4</td>\n",
              "    </tr>\n",
              "    <tr>\n",
              "      <th>3</th>\n",
              "      <td>280.34</td>\n",
              "      <td>0.965926</td>\n",
              "      <td>0.258819</td>\n",
              "      <td>-0.003584</td>\n",
              "      <td>0.999994</td>\n",
              "      <td>1030.0</td>\n",
              "      <td>6.70</td>\n",
              "      <td>foggy</td>\n",
              "      <td>3</td>\n",
              "    </tr>\n",
              "    <tr>\n",
              "      <th>4</th>\n",
              "      <td>280.34</td>\n",
              "      <td>0.965926</td>\n",
              "      <td>0.258819</td>\n",
              "      <td>-0.003584</td>\n",
              "      <td>0.999994</td>\n",
              "      <td>1030.0</td>\n",
              "      <td>6.70</td>\n",
              "      <td>rainy</td>\n",
              "      <td>4</td>\n",
              "    </tr>\n",
              "    <tr>\n",
              "      <th>...</th>\n",
              "      <td>...</td>\n",
              "      <td>...</td>\n",
              "      <td>...</td>\n",
              "      <td>...</td>\n",
              "      <td>...</td>\n",
              "      <td>...</td>\n",
              "      <td>...</td>\n",
              "      <td>...</td>\n",
              "      <td>...</td>\n",
              "    </tr>\n",
              "    <tr>\n",
              "      <th>416544</th>\n",
              "      <td>289.09</td>\n",
              "      <td>0.258819</td>\n",
              "      <td>-0.965926</td>\n",
              "      <td>-0.340673</td>\n",
              "      <td>0.940182</td>\n",
              "      <td>1004.0</td>\n",
              "      <td>0.45</td>\n",
              "      <td>cloudy</td>\n",
              "      <td>1</td>\n",
              "    </tr>\n",
              "    <tr>\n",
              "      <th>416545</th>\n",
              "      <td>289.64</td>\n",
              "      <td>0.500000</td>\n",
              "      <td>-0.866025</td>\n",
              "      <td>-0.339999</td>\n",
              "      <td>0.940426</td>\n",
              "      <td>1003.0</td>\n",
              "      <td>0.45</td>\n",
              "      <td>cloudy</td>\n",
              "      <td>1</td>\n",
              "    </tr>\n",
              "    <tr>\n",
              "      <th>416546</th>\n",
              "      <td>291.16</td>\n",
              "      <td>0.707107</td>\n",
              "      <td>-0.707107</td>\n",
              "      <td>-0.339325</td>\n",
              "      <td>0.940669</td>\n",
              "      <td>1003.0</td>\n",
              "      <td>0.89</td>\n",
              "      <td>cloudy</td>\n",
              "      <td>1</td>\n",
              "    </tr>\n",
              "    <tr>\n",
              "      <th>416547</th>\n",
              "      <td>291.23</td>\n",
              "      <td>0.866025</td>\n",
              "      <td>-0.500000</td>\n",
              "      <td>-0.338650</td>\n",
              "      <td>0.940912</td>\n",
              "      <td>1003.0</td>\n",
              "      <td>0.89</td>\n",
              "      <td>rainy</td>\n",
              "      <td>4</td>\n",
              "    </tr>\n",
              "    <tr>\n",
              "      <th>416548</th>\n",
              "      <td>291.44</td>\n",
              "      <td>0.965926</td>\n",
              "      <td>-0.258819</td>\n",
              "      <td>-0.337976</td>\n",
              "      <td>0.941155</td>\n",
              "      <td>1002.0</td>\n",
              "      <td>0.45</td>\n",
              "      <td>cloudy</td>\n",
              "      <td>1</td>\n",
              "    </tr>\n",
              "  </tbody>\n",
              "</table>\n",
              "<p>416549 rows × 9 columns</p>\n",
              "</div>\n",
              "      <button class=\"colab-df-convert\" onclick=\"convertToInteractive('df-7679ce26-5424-48cf-8c0f-fa279e4b309c')\"\n",
              "              title=\"Convert this dataframe to an interactive table.\"\n",
              "              style=\"display:none;\">\n",
              "        \n",
              "  <svg xmlns=\"http://www.w3.org/2000/svg\" height=\"24px\"viewBox=\"0 0 24 24\"\n",
              "       width=\"24px\">\n",
              "    <path d=\"M0 0h24v24H0V0z\" fill=\"none\"/>\n",
              "    <path d=\"M18.56 5.44l.94 2.06.94-2.06 2.06-.94-2.06-.94-.94-2.06-.94 2.06-2.06.94zm-11 1L8.5 8.5l.94-2.06 2.06-.94-2.06-.94L8.5 2.5l-.94 2.06-2.06.94zm10 10l.94 2.06.94-2.06 2.06-.94-2.06-.94-.94-2.06-.94 2.06-2.06.94z\"/><path d=\"M17.41 7.96l-1.37-1.37c-.4-.4-.92-.59-1.43-.59-.52 0-1.04.2-1.43.59L10.3 9.45l-7.72 7.72c-.78.78-.78 2.05 0 2.83L4 21.41c.39.39.9.59 1.41.59.51 0 1.02-.2 1.41-.59l7.78-7.78 2.81-2.81c.8-.78.8-2.07 0-2.86zM5.41 20L4 18.59l7.72-7.72 1.47 1.35L5.41 20z\"/>\n",
              "  </svg>\n",
              "      </button>\n",
              "      \n",
              "  <style>\n",
              "    .colab-df-container {\n",
              "      display:flex;\n",
              "      flex-wrap:wrap;\n",
              "      gap: 12px;\n",
              "    }\n",
              "\n",
              "    .colab-df-convert {\n",
              "      background-color: #E8F0FE;\n",
              "      border: none;\n",
              "      border-radius: 50%;\n",
              "      cursor: pointer;\n",
              "      display: none;\n",
              "      fill: #1967D2;\n",
              "      height: 32px;\n",
              "      padding: 0 0 0 0;\n",
              "      width: 32px;\n",
              "    }\n",
              "\n",
              "    .colab-df-convert:hover {\n",
              "      background-color: #E2EBFA;\n",
              "      box-shadow: 0px 1px 2px rgba(60, 64, 67, 0.3), 0px 1px 3px 1px rgba(60, 64, 67, 0.15);\n",
              "      fill: #174EA6;\n",
              "    }\n",
              "\n",
              "    [theme=dark] .colab-df-convert {\n",
              "      background-color: #3B4455;\n",
              "      fill: #D2E3FC;\n",
              "    }\n",
              "\n",
              "    [theme=dark] .colab-df-convert:hover {\n",
              "      background-color: #434B5C;\n",
              "      box-shadow: 0px 1px 3px 1px rgba(0, 0, 0, 0.15);\n",
              "      filter: drop-shadow(0px 1px 2px rgba(0, 0, 0, 0.3));\n",
              "      fill: #FFFFFF;\n",
              "    }\n",
              "  </style>\n",
              "\n",
              "      <script>\n",
              "        const buttonEl =\n",
              "          document.querySelector('#df-7679ce26-5424-48cf-8c0f-fa279e4b309c button.colab-df-convert');\n",
              "        buttonEl.style.display =\n",
              "          google.colab.kernel.accessAllowed ? 'block' : 'none';\n",
              "\n",
              "        async function convertToInteractive(key) {\n",
              "          const element = document.querySelector('#df-7679ce26-5424-48cf-8c0f-fa279e4b309c');\n",
              "          const dataTable =\n",
              "            await google.colab.kernel.invokeFunction('convertToInteractive',\n",
              "                                                     [key], {});\n",
              "          if (!dataTable) return;\n",
              "\n",
              "          const docLinkHtml = 'Like what you see? Visit the ' +\n",
              "            '<a target=\"_blank\" href=https://colab.research.google.com/notebooks/data_table.ipynb>data table notebook</a>'\n",
              "            + ' to learn more about interactive tables.';\n",
              "          element.innerHTML = '';\n",
              "          dataTable['output_type'] = 'display_data';\n",
              "          await google.colab.output.renderOutput(dataTable, element);\n",
              "          const docLink = document.createElement('div');\n",
              "          docLink.innerHTML = docLinkHtml;\n",
              "          element.appendChild(docLink);\n",
              "        }\n",
              "      </script>\n",
              "    </div>\n",
              "  </div>\n",
              "  "
            ],
            "text/plain": [
              "          temp   day_cos   day_sin  ...  wind_speed  weather_main  weather_id\n",
              "0       280.34  1.000000  0.000000  ...        6.70         foggy           3\n",
              "1       280.34  1.000000  0.000000  ...        6.70         rainy           4\n",
              "2       280.34  1.000000  0.000000  ...        6.70         rainy           4\n",
              "3       280.34  0.965926  0.258819  ...        6.70         foggy           3\n",
              "4       280.34  0.965926  0.258819  ...        6.70         rainy           4\n",
              "...        ...       ...       ...  ...         ...           ...         ...\n",
              "416544  289.09  0.258819 -0.965926  ...        0.45        cloudy           1\n",
              "416545  289.64  0.500000 -0.866025  ...        0.45        cloudy           1\n",
              "416546  291.16  0.707107 -0.707107  ...        0.89        cloudy           1\n",
              "416547  291.23  0.866025 -0.500000  ...        0.89         rainy           4\n",
              "416548  291.44  0.965926 -0.258819  ...        0.45        cloudy           1\n",
              "\n",
              "[416549 rows x 9 columns]"
            ]
          },
          "metadata": {},
          "execution_count": 7
        }
      ],
      "source": [
        "data = pd.read_pickle(\"/content/data/pd_final.pkl\")\n",
        "data"
      ]
    },
    {
      "cell_type": "code",
      "execution_count": 8,
      "metadata": {
        "colab": {
          "base_uri": "https://localhost:8080/",
          "height": 423
        },
        "id": "XSrvJSztU8is",
        "outputId": "32108345-85bf-4f64-8ba1-8a55b0e5014b"
      },
      "outputs": [
        {
          "output_type": "execute_result",
          "data": {
            "text/html": [
              "\n",
              "  <div id=\"df-1582ae37-c9b1-4348-b660-e8bd6b4edca0\">\n",
              "    <div class=\"colab-df-container\">\n",
              "      <div>\n",
              "<style scoped>\n",
              "    .dataframe tbody tr th:only-of-type {\n",
              "        vertical-align: middle;\n",
              "    }\n",
              "\n",
              "    .dataframe tbody tr th {\n",
              "        vertical-align: top;\n",
              "    }\n",
              "\n",
              "    .dataframe thead th {\n",
              "        text-align: right;\n",
              "    }\n",
              "</style>\n",
              "<table border=\"1\" class=\"dataframe\">\n",
              "  <thead>\n",
              "    <tr style=\"text-align: right;\">\n",
              "      <th></th>\n",
              "      <th>dt</th>\n",
              "      <th>temp</th>\n",
              "    </tr>\n",
              "  </thead>\n",
              "  <tbody>\n",
              "    <tr>\n",
              "      <th>0</th>\n",
              "      <td>1979-01-01 00:00:00</td>\n",
              "      <td>280.34</td>\n",
              "    </tr>\n",
              "    <tr>\n",
              "      <th>1</th>\n",
              "      <td>1979-01-01 00:00:00</td>\n",
              "      <td>280.34</td>\n",
              "    </tr>\n",
              "    <tr>\n",
              "      <th>2</th>\n",
              "      <td>1979-01-01 00:00:00</td>\n",
              "      <td>280.34</td>\n",
              "    </tr>\n",
              "    <tr>\n",
              "      <th>3</th>\n",
              "      <td>1979-01-01 01:00:00</td>\n",
              "      <td>280.34</td>\n",
              "    </tr>\n",
              "    <tr>\n",
              "      <th>4</th>\n",
              "      <td>1979-01-01 01:00:00</td>\n",
              "      <td>280.34</td>\n",
              "    </tr>\n",
              "    <tr>\n",
              "      <th>...</th>\n",
              "      <td>...</td>\n",
              "      <td>...</td>\n",
              "    </tr>\n",
              "    <tr>\n",
              "      <th>416544</th>\n",
              "      <td>2021-12-11 19:00:00</td>\n",
              "      <td>289.09</td>\n",
              "    </tr>\n",
              "    <tr>\n",
              "      <th>416545</th>\n",
              "      <td>2021-12-11 20:00:00</td>\n",
              "      <td>289.64</td>\n",
              "    </tr>\n",
              "    <tr>\n",
              "      <th>416546</th>\n",
              "      <td>2021-12-11 21:00:00</td>\n",
              "      <td>291.16</td>\n",
              "    </tr>\n",
              "    <tr>\n",
              "      <th>416547</th>\n",
              "      <td>2021-12-11 22:00:00</td>\n",
              "      <td>291.23</td>\n",
              "    </tr>\n",
              "    <tr>\n",
              "      <th>416548</th>\n",
              "      <td>2021-12-11 23:00:00</td>\n",
              "      <td>291.44</td>\n",
              "    </tr>\n",
              "  </tbody>\n",
              "</table>\n",
              "<p>416549 rows × 2 columns</p>\n",
              "</div>\n",
              "      <button class=\"colab-df-convert\" onclick=\"convertToInteractive('df-1582ae37-c9b1-4348-b660-e8bd6b4edca0')\"\n",
              "              title=\"Convert this dataframe to an interactive table.\"\n",
              "              style=\"display:none;\">\n",
              "        \n",
              "  <svg xmlns=\"http://www.w3.org/2000/svg\" height=\"24px\"viewBox=\"0 0 24 24\"\n",
              "       width=\"24px\">\n",
              "    <path d=\"M0 0h24v24H0V0z\" fill=\"none\"/>\n",
              "    <path d=\"M18.56 5.44l.94 2.06.94-2.06 2.06-.94-2.06-.94-.94-2.06-.94 2.06-2.06.94zm-11 1L8.5 8.5l.94-2.06 2.06-.94-2.06-.94L8.5 2.5l-.94 2.06-2.06.94zm10 10l.94 2.06.94-2.06 2.06-.94-2.06-.94-.94-2.06-.94 2.06-2.06.94z\"/><path d=\"M17.41 7.96l-1.37-1.37c-.4-.4-.92-.59-1.43-.59-.52 0-1.04.2-1.43.59L10.3 9.45l-7.72 7.72c-.78.78-.78 2.05 0 2.83L4 21.41c.39.39.9.59 1.41.59.51 0 1.02-.2 1.41-.59l7.78-7.78 2.81-2.81c.8-.78.8-2.07 0-2.86zM5.41 20L4 18.59l7.72-7.72 1.47 1.35L5.41 20z\"/>\n",
              "  </svg>\n",
              "      </button>\n",
              "      \n",
              "  <style>\n",
              "    .colab-df-container {\n",
              "      display:flex;\n",
              "      flex-wrap:wrap;\n",
              "      gap: 12px;\n",
              "    }\n",
              "\n",
              "    .colab-df-convert {\n",
              "      background-color: #E8F0FE;\n",
              "      border: none;\n",
              "      border-radius: 50%;\n",
              "      cursor: pointer;\n",
              "      display: none;\n",
              "      fill: #1967D2;\n",
              "      height: 32px;\n",
              "      padding: 0 0 0 0;\n",
              "      width: 32px;\n",
              "    }\n",
              "\n",
              "    .colab-df-convert:hover {\n",
              "      background-color: #E2EBFA;\n",
              "      box-shadow: 0px 1px 2px rgba(60, 64, 67, 0.3), 0px 1px 3px 1px rgba(60, 64, 67, 0.15);\n",
              "      fill: #174EA6;\n",
              "    }\n",
              "\n",
              "    [theme=dark] .colab-df-convert {\n",
              "      background-color: #3B4455;\n",
              "      fill: #D2E3FC;\n",
              "    }\n",
              "\n",
              "    [theme=dark] .colab-df-convert:hover {\n",
              "      background-color: #434B5C;\n",
              "      box-shadow: 0px 1px 3px 1px rgba(0, 0, 0, 0.15);\n",
              "      filter: drop-shadow(0px 1px 2px rgba(0, 0, 0, 0.3));\n",
              "      fill: #FFFFFF;\n",
              "    }\n",
              "  </style>\n",
              "\n",
              "      <script>\n",
              "        const buttonEl =\n",
              "          document.querySelector('#df-1582ae37-c9b1-4348-b660-e8bd6b4edca0 button.colab-df-convert');\n",
              "        buttonEl.style.display =\n",
              "          google.colab.kernel.accessAllowed ? 'block' : 'none';\n",
              "\n",
              "        async function convertToInteractive(key) {\n",
              "          const element = document.querySelector('#df-1582ae37-c9b1-4348-b660-e8bd6b4edca0');\n",
              "          const dataTable =\n",
              "            await google.colab.kernel.invokeFunction('convertToInteractive',\n",
              "                                                     [key], {});\n",
              "          if (!dataTable) return;\n",
              "\n",
              "          const docLinkHtml = 'Like what you see? Visit the ' +\n",
              "            '<a target=\"_blank\" href=https://colab.research.google.com/notebooks/data_table.ipynb>data table notebook</a>'\n",
              "            + ' to learn more about interactive tables.';\n",
              "          element.innerHTML = '';\n",
              "          dataTable['output_type'] = 'display_data';\n",
              "          await google.colab.output.renderOutput(dataTable, element);\n",
              "          const docLink = document.createElement('div');\n",
              "          docLink.innerHTML = docLinkHtml;\n",
              "          element.appendChild(docLink);\n",
              "        }\n",
              "      </script>\n",
              "    </div>\n",
              "  </div>\n",
              "  "
            ],
            "text/plain": [
              "                        dt    temp\n",
              "0      1979-01-01 00:00:00  280.34\n",
              "1      1979-01-01 00:00:00  280.34\n",
              "2      1979-01-01 00:00:00  280.34\n",
              "3      1979-01-01 01:00:00  280.34\n",
              "4      1979-01-01 01:00:00  280.34\n",
              "...                    ...     ...\n",
              "416544 2021-12-11 19:00:00  289.09\n",
              "416545 2021-12-11 20:00:00  289.64\n",
              "416546 2021-12-11 21:00:00  291.16\n",
              "416547 2021-12-11 22:00:00  291.23\n",
              "416548 2021-12-11 23:00:00  291.44\n",
              "\n",
              "[416549 rows x 2 columns]"
            ]
          },
          "metadata": {},
          "execution_count": 8
        }
      ],
      "source": [
        "data_arima = pd.read_pickle(\"/content/data/pd_arima.pkl\")\n",
        "data_arima"
      ]
    },
    {
      "cell_type": "markdown",
      "metadata": {
        "id": "Q4CfkEuaPMy3"
      },
      "source": [
        "## Models"
      ]
    },
    {
      "cell_type": "markdown",
      "metadata": {
        "id": "gW6dVR0xPPRR"
      },
      "source": [
        "#### Set hyper-parameters"
      ]
    },
    {
      "cell_type": "code",
      "execution_count": 9,
      "metadata": {
        "id": "YZdy6v0tPO3X"
      },
      "outputs": [],
      "source": [
        "# Share of obs in testing \n",
        "train_test_split_share = 0.1\n",
        "\n",
        "# Number of lags (hours back) to use for models\n",
        "lag = 48\n",
        "\n",
        "# Steps ahead to forecast \n",
        "n_ahead = 1\n",
        "\n",
        "# select features\n",
        "features_to_use = ['temp', 'day_cos', 'day_sin', 'month_sin', 'month_cos', 'pressure', 'wind_speed']\n",
        "keep = ['weather_id']\n",
        "\n",
        "# features for two models\n",
        "feature_temp = features_to_use\n",
        "feature_id = features_to_use + keep"
      ]
    },
    {
      "cell_type": "markdown",
      "metadata": {
        "id": "8zXMCD6MQMAr"
      },
      "source": [
        "#### Scaler\n",
        "Apply Standardscaler to all related features"
      ]
    },
    {
      "cell_type": "code",
      "execution_count": 10,
      "metadata": {
        "colab": {
          "base_uri": "https://localhost:8080/",
          "height": 423
        },
        "id": "dPwzdeS_jUsk",
        "outputId": "2391a0a6-e34e-4026-b0f5-f9d56477ff3c"
      },
      "outputs": [
        {
          "output_type": "execute_result",
          "data": {
            "text/html": [
              "\n",
              "  <div id=\"df-4eadb14d-f0f8-4419-b336-b19ae9ab506d\">\n",
              "    <div class=\"colab-df-container\">\n",
              "      <div>\n",
              "<style scoped>\n",
              "    .dataframe tbody tr th:only-of-type {\n",
              "        vertical-align: middle;\n",
              "    }\n",
              "\n",
              "    .dataframe tbody tr th {\n",
              "        vertical-align: top;\n",
              "    }\n",
              "\n",
              "    .dataframe thead th {\n",
              "        text-align: right;\n",
              "    }\n",
              "</style>\n",
              "<table border=\"1\" class=\"dataframe\">\n",
              "  <thead>\n",
              "    <tr style=\"text-align: right;\">\n",
              "      <th></th>\n",
              "      <th>temp</th>\n",
              "      <th>day_cos</th>\n",
              "      <th>day_sin</th>\n",
              "      <th>month_sin</th>\n",
              "      <th>month_cos</th>\n",
              "      <th>pressure</th>\n",
              "      <th>wind_speed</th>\n",
              "    </tr>\n",
              "  </thead>\n",
              "  <tbody>\n",
              "    <tr>\n",
              "      <th>0</th>\n",
              "      <td>280.34</td>\n",
              "      <td>1.000000</td>\n",
              "      <td>0.000000</td>\n",
              "      <td>-0.004301</td>\n",
              "      <td>0.999991</td>\n",
              "      <td>1030.0</td>\n",
              "      <td>6.70</td>\n",
              "    </tr>\n",
              "    <tr>\n",
              "      <th>1</th>\n",
              "      <td>280.34</td>\n",
              "      <td>1.000000</td>\n",
              "      <td>0.000000</td>\n",
              "      <td>-0.004301</td>\n",
              "      <td>0.999991</td>\n",
              "      <td>1030.0</td>\n",
              "      <td>6.70</td>\n",
              "    </tr>\n",
              "    <tr>\n",
              "      <th>2</th>\n",
              "      <td>280.34</td>\n",
              "      <td>1.000000</td>\n",
              "      <td>0.000000</td>\n",
              "      <td>-0.004301</td>\n",
              "      <td>0.999991</td>\n",
              "      <td>1030.0</td>\n",
              "      <td>6.70</td>\n",
              "    </tr>\n",
              "    <tr>\n",
              "      <th>3</th>\n",
              "      <td>280.34</td>\n",
              "      <td>0.965926</td>\n",
              "      <td>0.258819</td>\n",
              "      <td>-0.003584</td>\n",
              "      <td>0.999994</td>\n",
              "      <td>1030.0</td>\n",
              "      <td>6.70</td>\n",
              "    </tr>\n",
              "    <tr>\n",
              "      <th>4</th>\n",
              "      <td>280.34</td>\n",
              "      <td>0.965926</td>\n",
              "      <td>0.258819</td>\n",
              "      <td>-0.003584</td>\n",
              "      <td>0.999994</td>\n",
              "      <td>1030.0</td>\n",
              "      <td>6.70</td>\n",
              "    </tr>\n",
              "    <tr>\n",
              "      <th>...</th>\n",
              "      <td>...</td>\n",
              "      <td>...</td>\n",
              "      <td>...</td>\n",
              "      <td>...</td>\n",
              "      <td>...</td>\n",
              "      <td>...</td>\n",
              "      <td>...</td>\n",
              "    </tr>\n",
              "    <tr>\n",
              "      <th>416544</th>\n",
              "      <td>289.09</td>\n",
              "      <td>0.258819</td>\n",
              "      <td>-0.965926</td>\n",
              "      <td>-0.340673</td>\n",
              "      <td>0.940182</td>\n",
              "      <td>1004.0</td>\n",
              "      <td>0.45</td>\n",
              "    </tr>\n",
              "    <tr>\n",
              "      <th>416545</th>\n",
              "      <td>289.64</td>\n",
              "      <td>0.500000</td>\n",
              "      <td>-0.866025</td>\n",
              "      <td>-0.339999</td>\n",
              "      <td>0.940426</td>\n",
              "      <td>1003.0</td>\n",
              "      <td>0.45</td>\n",
              "    </tr>\n",
              "    <tr>\n",
              "      <th>416546</th>\n",
              "      <td>291.16</td>\n",
              "      <td>0.707107</td>\n",
              "      <td>-0.707107</td>\n",
              "      <td>-0.339325</td>\n",
              "      <td>0.940669</td>\n",
              "      <td>1003.0</td>\n",
              "      <td>0.89</td>\n",
              "    </tr>\n",
              "    <tr>\n",
              "      <th>416547</th>\n",
              "      <td>291.23</td>\n",
              "      <td>0.866025</td>\n",
              "      <td>-0.500000</td>\n",
              "      <td>-0.338650</td>\n",
              "      <td>0.940912</td>\n",
              "      <td>1003.0</td>\n",
              "      <td>0.89</td>\n",
              "    </tr>\n",
              "    <tr>\n",
              "      <th>416548</th>\n",
              "      <td>291.44</td>\n",
              "      <td>0.965926</td>\n",
              "      <td>-0.258819</td>\n",
              "      <td>-0.337976</td>\n",
              "      <td>0.941155</td>\n",
              "      <td>1002.0</td>\n",
              "      <td>0.45</td>\n",
              "    </tr>\n",
              "  </tbody>\n",
              "</table>\n",
              "<p>416549 rows × 7 columns</p>\n",
              "</div>\n",
              "      <button class=\"colab-df-convert\" onclick=\"convertToInteractive('df-4eadb14d-f0f8-4419-b336-b19ae9ab506d')\"\n",
              "              title=\"Convert this dataframe to an interactive table.\"\n",
              "              style=\"display:none;\">\n",
              "        \n",
              "  <svg xmlns=\"http://www.w3.org/2000/svg\" height=\"24px\"viewBox=\"0 0 24 24\"\n",
              "       width=\"24px\">\n",
              "    <path d=\"M0 0h24v24H0V0z\" fill=\"none\"/>\n",
              "    <path d=\"M18.56 5.44l.94 2.06.94-2.06 2.06-.94-2.06-.94-.94-2.06-.94 2.06-2.06.94zm-11 1L8.5 8.5l.94-2.06 2.06-.94-2.06-.94L8.5 2.5l-.94 2.06-2.06.94zm10 10l.94 2.06.94-2.06 2.06-.94-2.06-.94-.94-2.06-.94 2.06-2.06.94z\"/><path d=\"M17.41 7.96l-1.37-1.37c-.4-.4-.92-.59-1.43-.59-.52 0-1.04.2-1.43.59L10.3 9.45l-7.72 7.72c-.78.78-.78 2.05 0 2.83L4 21.41c.39.39.9.59 1.41.59.51 0 1.02-.2 1.41-.59l7.78-7.78 2.81-2.81c.8-.78.8-2.07 0-2.86zM5.41 20L4 18.59l7.72-7.72 1.47 1.35L5.41 20z\"/>\n",
              "  </svg>\n",
              "      </button>\n",
              "      \n",
              "  <style>\n",
              "    .colab-df-container {\n",
              "      display:flex;\n",
              "      flex-wrap:wrap;\n",
              "      gap: 12px;\n",
              "    }\n",
              "\n",
              "    .colab-df-convert {\n",
              "      background-color: #E8F0FE;\n",
              "      border: none;\n",
              "      border-radius: 50%;\n",
              "      cursor: pointer;\n",
              "      display: none;\n",
              "      fill: #1967D2;\n",
              "      height: 32px;\n",
              "      padding: 0 0 0 0;\n",
              "      width: 32px;\n",
              "    }\n",
              "\n",
              "    .colab-df-convert:hover {\n",
              "      background-color: #E2EBFA;\n",
              "      box-shadow: 0px 1px 2px rgba(60, 64, 67, 0.3), 0px 1px 3px 1px rgba(60, 64, 67, 0.15);\n",
              "      fill: #174EA6;\n",
              "    }\n",
              "\n",
              "    [theme=dark] .colab-df-convert {\n",
              "      background-color: #3B4455;\n",
              "      fill: #D2E3FC;\n",
              "    }\n",
              "\n",
              "    [theme=dark] .colab-df-convert:hover {\n",
              "      background-color: #434B5C;\n",
              "      box-shadow: 0px 1px 3px 1px rgba(0, 0, 0, 0.15);\n",
              "      filter: drop-shadow(0px 1px 2px rgba(0, 0, 0, 0.3));\n",
              "      fill: #FFFFFF;\n",
              "    }\n",
              "  </style>\n",
              "\n",
              "      <script>\n",
              "        const buttonEl =\n",
              "          document.querySelector('#df-4eadb14d-f0f8-4419-b336-b19ae9ab506d button.colab-df-convert');\n",
              "        buttonEl.style.display =\n",
              "          google.colab.kernel.accessAllowed ? 'block' : 'none';\n",
              "\n",
              "        async function convertToInteractive(key) {\n",
              "          const element = document.querySelector('#df-4eadb14d-f0f8-4419-b336-b19ae9ab506d');\n",
              "          const dataTable =\n",
              "            await google.colab.kernel.invokeFunction('convertToInteractive',\n",
              "                                                     [key], {});\n",
              "          if (!dataTable) return;\n",
              "\n",
              "          const docLinkHtml = 'Like what you see? Visit the ' +\n",
              "            '<a target=\"_blank\" href=https://colab.research.google.com/notebooks/data_table.ipynb>data table notebook</a>'\n",
              "            + ' to learn more about interactive tables.';\n",
              "          element.innerHTML = '';\n",
              "          dataTable['output_type'] = 'display_data';\n",
              "          await google.colab.output.renderOutput(dataTable, element);\n",
              "          const docLink = document.createElement('div');\n",
              "          docLink.innerHTML = docLinkHtml;\n",
              "          element.appendChild(docLink);\n",
              "        }\n",
              "      </script>\n",
              "    </div>\n",
              "  </div>\n",
              "  "
            ],
            "text/plain": [
              "          temp   day_cos   day_sin  month_sin  month_cos  pressure  wind_speed\n",
              "0       280.34  1.000000  0.000000  -0.004301   0.999991    1030.0        6.70\n",
              "1       280.34  1.000000  0.000000  -0.004301   0.999991    1030.0        6.70\n",
              "2       280.34  1.000000  0.000000  -0.004301   0.999991    1030.0        6.70\n",
              "3       280.34  0.965926  0.258819  -0.003584   0.999994    1030.0        6.70\n",
              "4       280.34  0.965926  0.258819  -0.003584   0.999994    1030.0        6.70\n",
              "...        ...       ...       ...        ...        ...       ...         ...\n",
              "416544  289.09  0.258819 -0.965926  -0.340673   0.940182    1004.0        0.45\n",
              "416545  289.64  0.500000 -0.866025  -0.339999   0.940426    1003.0        0.45\n",
              "416546  291.16  0.707107 -0.707107  -0.339325   0.940669    1003.0        0.89\n",
              "416547  291.23  0.866025 -0.500000  -0.338650   0.940912    1003.0        0.89\n",
              "416548  291.44  0.965926 -0.258819  -0.337976   0.941155    1002.0        0.45\n",
              "\n",
              "[416549 rows x 7 columns]"
            ]
          },
          "metadata": {},
          "execution_count": 10
        }
      ],
      "source": [
        "data[feature_temp]"
      ]
    },
    {
      "cell_type": "code",
      "execution_count": 11,
      "metadata": {
        "id": "iDHydDffPMGZ"
      },
      "outputs": [],
      "source": [
        "scaler = StandardScaler()\n",
        "np_final_temp = scaler.fit_transform(data[feature_temp])\n",
        "np_final_id = np.append(np_final_temp, data['weather_id'].values.reshape(-1,1).astype('int'), axis=1)"
      ]
    },
    {
      "cell_type": "markdown",
      "metadata": {
        "id": "mm6VUrfCQ0Mr"
      },
      "source": [
        "#### Train Test Split"
      ]
    },
    {
      "cell_type": "markdown",
      "metadata": {
        "id": "2on6IJv6QOdp"
      },
      "source": [
        "convert to time series dataset for train_test_split"
      ]
    },
    {
      "cell_type": "code",
      "execution_count": 12,
      "metadata": {
        "id": "yOpe5nr4QO9b"
      },
      "outputs": [],
      "source": [
        "def create_X_Y(ts: np.array, _lag=48, n_ahead=1, target_index=0) -> tuple:\n",
        "    \"\"\"\n",
        "    - ts: A time series dataframe in series form\n",
        "    - lag: Number of lags (hours back) to use for models\n",
        "    - n_ahead: Steps ahead to forecast \n",
        "    Using <lag> number of data: x_{i}, x_{i+1}, ...x_{i+lag-1} to predict <n_ahead>\n",
        "    number of data x_{i+lag}, ..., x_{i+lag+n_ahead-1}\n",
        "    Thus, X = x_{i}, x_{i+1}, ...x_{i+lag-1}\n",
        "        , Y = x_{i+lag}, ..., x_{i+lag+n_ahead-1}\n",
        "    \"\"\"\n",
        "    # Extract # of features and # of observations\n",
        "    n_obs = ts.shape[0]\n",
        "    n_features = ts.shape[1]\n",
        "    \n",
        "    # Creating placeholder lists\n",
        "    X, Y = [], []\n",
        "\n",
        "    # if we don't have enough we don't have enough obs to predict Y\n",
        "    if n_obs - _lag <= 0:\n",
        "        X.append(ts) # no label, only x\n",
        "    else:\n",
        "        for i in range(n_obs - _lag - n_ahead):\n",
        "            Y.append(ts[(i + _lag):(i + _lag + n_ahead), target_index])\n",
        "            X.append(ts[i:(i + _lag)])\n",
        "\n",
        "    X, Y = np.array(X), np.array(Y)\n",
        "\n",
        "    # Reshaping the X array to an RNN input shape \n",
        "    X = np.reshape(X, (X.shape[0], _lag, n_features))\n",
        "\n",
        "    return X, Y"
      ]
    },
    {
      "cell_type": "code",
      "execution_count": 13,
      "metadata": {
        "id": "Ea0yfp9iQpfF"
      },
      "outputs": [],
      "source": [
        "def my_train_test_split(ts: np.array, _lag=48, n_ahead=1, target_index=0, if_binary=True) -> tuple:\n",
        "    X, Y = create_X_Y(ts, 48, n_ahead=n_ahead, target_index=target_index)\n",
        "    X_train, X_test_, y_train, y_test_ = train_test_split(X, Y, random_state=0)\n",
        "    def _to_binary(y):\n",
        "        # encode increasing as 1 and decrease as 0\n",
        "        y_binary = np.where(np.diff(y, axis = 0) > 0, 1, 0)\n",
        "        return y_binary\n",
        "    if if_binary:\n",
        "        y_train = _to_binary(y_train)\n",
        "        y_test_ = _to_binary(y_test_)\n",
        "        return X_train[:-1], X_test_[:-1], y_train, y_test_\n",
        "    return X_train, X_test_, y_train, y_test_"
      ]
    },
    {
      "cell_type": "markdown",
      "metadata": {
        "id": "CVDC3j49dYzT"
      },
      "source": [
        "### Transformer"
      ]
    },
    {
      "cell_type": "code",
      "execution_count": 26,
      "metadata": {
        "id": "aYnsaHLBRBxy"
      },
      "outputs": [],
      "source": [
        "# temperature model, head = 1\n",
        "X_train_temp, X_test_temp, y_train_temp, y_test_temp = my_train_test_split(np_final_temp, 48, 1, 0, 1)\n",
        "\n",
        "# temperature model, head = 7\n",
        "X_train_temp_7, X_test_temp_7, y_train_temp_7, y_test_temp_7 = my_train_test_split(np_final_temp, 48, 7, 0, 1)\n",
        "\n",
        "# id model, head = 1\n",
        "X_train_id, X_test_id, y_train_id, y_test_id = my_train_test_split(np_final_id, 48, 1, 7, 0)\n",
        "\n",
        "# id model, head = 7\n",
        "X_train_id_7, X_test_id_7, y_train_id_7, y_test_id_7 = my_train_test_split(np_final_id, 48, 7, 7, 0)"
      ]
    },
    {
      "cell_type": "code",
      "execution_count": 27,
      "metadata": {
        "id": "ooqaqQl-Wgj1"
      },
      "outputs": [],
      "source": [
        "def transformer_encoder(inputs, head_size, num_heads, ff_dim, dropout=0):\n",
        "    # Normalization and Attention\n",
        "    x = layers.LayerNormalization(epsilon=1e-6)(inputs)\n",
        "    x = layers.MultiHeadAttention(\n",
        "        key_dim=head_size, num_heads=num_heads, dropout=dropout\n",
        "    )(x, x)\n",
        "    x = layers.Dropout(dropout)(x)\n",
        "    res = x + inputs\n",
        "\n",
        "    # Feed Forward Part\n",
        "    x = layers.LayerNormalization(epsilon=1e-6)(res)\n",
        "    x = layers.Conv1D(filters=ff_dim, kernel_size=1, activation=\"relu\")(x)\n",
        "    x = layers.Dropout(dropout)(x)\n",
        "    x = layers.Conv1D(filters=inputs.shape[-1], kernel_size=1)(x)\n",
        "    return x + res\n",
        "def build_model(\n",
        "    input_shape,\n",
        "    head_size,\n",
        "    num_heads,\n",
        "    ff_dim,\n",
        "    num_transformer_blocks,\n",
        "    mlp_units,\n",
        "    dropout=0,\n",
        "    mlp_dropout=0,\n",
        "):\n",
        "    inputs = keras.Input(shape=input_shape)\n",
        "    x = inputs\n",
        "    for _ in range(num_transformer_blocks):\n",
        "        x = transformer_encoder(x, head_size, num_heads, ff_dim, dropout)\n",
        "\n",
        "    x = layers.GlobalAveragePooling1D(data_format=\"channels_first\")(x)\n",
        "    for dim in mlp_units:\n",
        "        x = layers.Dense(dim, activation=\"relu\")(x)\n",
        "        x = layers.Dropout(mlp_dropout)(x)\n",
        "    outputs = layers.Dense(7, activation=\"sigmoid\")(x)\n",
        "    return keras.Model(inputs, outputs)"
      ]
    },
    {
      "cell_type": "markdown",
      "metadata": {
        "id": "n-DJZ42Iqrg7"
      },
      "source": [
        "#### 1. temperature, head = 1"
      ]
    },
    {
      "cell_type": "code",
      "execution_count": null,
      "metadata": {
        "id": "WrnJOIhDWmxP"
      },
      "outputs": [],
      "source": [
        "#####################\n",
        "X_train = X_train_temp\n",
        "y_train = y_train_temp\n",
        "#####################\n",
        "\n",
        "input_shape = X_train.shape[1:]\n",
        "\n",
        "model = build_model(\n",
        "    input_shape,\n",
        "    head_size=20,\n",
        "    num_heads=4,\n",
        "    ff_dim=4,\n",
        "    num_transformer_blocks=4,\n",
        "    mlp_units=[128],\n",
        "    mlp_dropout=0.4,\n",
        "    dropout=0.25\n",
        ")\n",
        "\n",
        "model.compile(\n",
        "    loss=losses.MeanAbsoluteError(),\n",
        "    optimizer=keras.optimizers.Adam(learning_rate=1e-4),\n",
        "    # metrics=[\"sparse_categorical_accuracy\"],\n",
        ")\n",
        "# model.summary()\n",
        "\n",
        "callbacks = [keras.callbacks.EarlyStopping(patience=10, restore_best_weights=True)]\n",
        "\n",
        "history=model.fit(\n",
        "    X_train,\n",
        "    y_train,\n",
        "    validation_split=0.2,\n",
        "    epochs=10,\n",
        "    batch_size=256,\n",
        "    callbacks=callbacks,\n",
        ")\n"
      ]
    },
    {
      "cell_type": "code",
      "execution_count": null,
      "metadata": {
        "id": "MXz04r-vxN5K"
      },
      "outputs": [],
      "source": [
        "model.save(\"Transformer_head1.h5\")\n",
        "from google.colab import files\n",
        "files.download(\"/content/Transformer_head1.h5\")"
      ]
    },
    {
      "cell_type": "code",
      "execution_count": null,
      "metadata": {
        "id": "AUko9_JxerZl"
      },
      "outputs": [],
      "source": [
        "model.evaluate(X_test_temp, y_test_temp)"
      ]
    },
    {
      "cell_type": "markdown",
      "metadata": {
        "id": "STASpPLLqyAs"
      },
      "source": [
        "#### 2. temperature, head = 7"
      ]
    },
    {
      "cell_type": "code",
      "execution_count": 28,
      "metadata": {
        "id": "Wk75qlGcfota",
        "colab": {
          "base_uri": "https://localhost:8080/"
        },
        "outputId": "30b3a72c-6e23-4fde-db42-2b7958555c10"
      },
      "outputs": [
        {
          "output_type": "stream",
          "name": "stdout",
          "text": [
            "Epoch 1/5\n",
            "977/977 [==============================] - 563s 572ms/step - loss: 0.2910 - categorical_accuracy: 0.1142 - val_loss: 0.2626 - val_categorical_accuracy: 0.1730\n",
            "Epoch 2/5\n",
            "977/977 [==============================] - 560s 573ms/step - loss: 0.2649 - categorical_accuracy: 0.2299 - val_loss: 0.2620 - val_categorical_accuracy: 0.3254\n",
            "Epoch 3/5\n",
            "977/977 [==============================] - 556s 569ms/step - loss: 0.2644 - categorical_accuracy: 0.3031 - val_loss: 0.2618 - val_categorical_accuracy: 0.3819\n",
            "Epoch 4/5\n",
            "977/977 [==============================] - 552s 565ms/step - loss: 0.2641 - categorical_accuracy: 0.3609 - val_loss: 0.2609 - val_categorical_accuracy: 0.4154\n",
            "Epoch 5/5\n",
            "977/977 [==============================] - 551s 564ms/step - loss: 0.2637 - categorical_accuracy: 0.3691 - val_loss: 0.2604 - val_categorical_accuracy: 0.4166\n"
          ]
        }
      ],
      "source": [
        "#####################\n",
        "X_train = X_train_temp_7\n",
        "y_train = y_train_temp_7\n",
        "#####################\n",
        "\n",
        "input_shape = X_train.shape[1:]\n",
        "\n",
        "model = build_model(\n",
        "    input_shape,\n",
        "    head_size=20,\n",
        "    num_heads=4,\n",
        "    ff_dim=4,\n",
        "    num_transformer_blocks=4,\n",
        "    mlp_units=[128],\n",
        "    mlp_dropout=0.4,\n",
        "    dropout=0.25\n",
        ")\n",
        "\n",
        "model.compile(\n",
        "    loss=losses.MeanAbsoluteError(), \n",
        "    optimizer=keras.optimizers.Adam(learning_rate=1e-4),\n",
        "    metrics=[keras.metrics.CategoricalAccuracy()]\n",
        ")\n",
        "# model.summary()\n",
        "\n",
        "callbacks = [keras.callbacks.EarlyStopping(patience=10, restore_best_weights=True)]\n",
        "\n",
        "history=model.fit(\n",
        "    X_train,\n",
        "    y_train,\n",
        "    validation_split=0.2,\n",
        "    epochs=5,\n",
        "    batch_size=256,\n",
        "    callbacks=callbacks,\n",
        ")\n"
      ]
    },
    {
      "cell_type": "code",
      "execution_count": null,
      "metadata": {
        "id": "onwVVrEhsjmZ"
      },
      "outputs": [],
      "source": [
        "model.save(\"Transformer_head7.h5\")\n",
        "from google.colab import files\n",
        "files.download(\"/content/Transformer_head7.h5\")"
      ]
    },
    {
      "cell_type": "code",
      "execution_count": null,
      "metadata": {
        "id": "KGBoJoHI9aZ6"
      },
      "outputs": [],
      "source": [
        "model.evaluate(X_test_temp_7, y_test_temp_7)"
      ]
    },
    {
      "cell_type": "markdown",
      "metadata": {
        "id": "hG0jem0cuais"
      },
      "source": [
        "#### 3. id, head = 1"
      ]
    },
    {
      "cell_type": "code",
      "execution_count": null,
      "metadata": {
        "id": "DZY2-b3HuaIC"
      },
      "outputs": [],
      "source": [
        "#####################\n",
        "X_train = X_train_id\n",
        "y_train = y_train_id\n",
        "#####################\n",
        "\n",
        "input_shape = X_train.shape[1:]\n",
        "\n",
        "model = build_model(\n",
        "    input_shape,\n",
        "    head_size=20,\n",
        "    num_heads=4,\n",
        "    ff_dim=4,\n",
        "    num_transformer_blocks=4,\n",
        "    mlp_units=[128],\n",
        "    mlp_dropout=0.4,\n",
        "    dropout=0.25\n",
        ")\n",
        "\n",
        "model.compile(\n",
        "    loss=losses.MeanAbsoluteError(), \n",
        "    optimizer=keras.optimizers.Adam(learning_rate=1e-4),\n",
        "     metrics=[keras.metrics.MeanAbsoluteError()]\n",
        ")\n",
        "model.summary()\n",
        "\n",
        "callbacks = [keras.callbacks.EarlyStopping(patience=10, restore_best_weights=True)]\n",
        "\n",
        "history=model.fit(\n",
        "    X_train,\n",
        "    y_train,\n",
        "    validation_split=0.2,\n",
        "    epochs=10,\n",
        "    batch_size=256,\n",
        "    # callbacks=callbacks,\n",
        ")\n"
      ]
    },
    {
      "cell_type": "code",
      "execution_count": null,
      "metadata": {
        "id": "0bFMLp6Buqhm"
      },
      "outputs": [],
      "source": [
        "model.save(\"Transformer_head1_id.h5\")\n",
        "from google.colab import files\n",
        "files.download(\"/content/Transformer_head1_id.h5\")"
      ]
    },
    {
      "cell_type": "markdown",
      "metadata": {
        "id": "l5E6K35fRQMW"
      },
      "source": [
        "#### id, head = 7"
      ]
    },
    {
      "cell_type": "code",
      "execution_count": null,
      "metadata": {
        "id": "btnc-kawuq03"
      },
      "outputs": [],
      "source": [
        "#####################\n",
        "X_train = X_train_id_7\n",
        "y_train = y_train_id_7\n",
        "#####################\n",
        "\n",
        "input_shape = X_train.shape[1:]\n",
        "\n",
        "model = build_model(\n",
        "    input_shape,\n",
        "    head_size=20,\n",
        "    num_heads=4,\n",
        "    ff_dim=4,\n",
        "    num_transformer_blocks=4,\n",
        "    mlp_units=[128],\n",
        "    mlp_dropout=0.4,\n",
        "    dropout=0.25\n",
        ")\n",
        "\n",
        "model.compile(\n",
        "    loss=losses.MeanAbsoluteError(), \n",
        "    optimizer=keras.optimizers.Adam(learning_rate=1e-4),\n",
        "     metrics=[keras.metrics.MeanAbsoluteError()]\n",
        ")\n",
        "model.summary()\n",
        "\n",
        "callbacks = [keras.callbacks.EarlyStopping(patience=10, restore_best_weights=True)]\n",
        "\n",
        "history=model.fit(\n",
        "    X_train,\n",
        "    y_train,\n",
        "    validation_split=0.2,\n",
        "    epochs=10,\n",
        "    batch_size=256,\n",
        "    # callbacks=callbacks,\n",
        ")\n"
      ]
    },
    {
      "cell_type": "code",
      "execution_count": null,
      "metadata": {
        "id": "OU6y5gsuu8a8"
      },
      "outputs": [],
      "source": [
        "model.save(\"Transformer_head7_id.h5\")\n",
        "from google.colab import files\n",
        "files.download(\"/content/Transformer_head7_id.h5\")"
      ]
    },
    {
      "cell_type": "code",
      "execution_count": 51,
      "metadata": {
        "id": "tUTq76tw_BXa"
      },
      "outputs": [],
      "source": [
        "Transformer_head1 = keras.models.load_model(\"/content/Transformer_head1.h5\")\n",
        "Transformer_head1_id = keras.models.load_model(\"/content/Transformer_head1_id.h5\")\n",
        "Transformer_head7 = keras.models.load_model(\"/content/Transformer_head7.h5\")\n",
        "Transformer_head7_id = keras.models.load_model(\"/content/Transformer_head7_id.h5\")"
      ]
    },
    {
      "cell_type": "code",
      "execution_count": 55,
      "metadata": {
        "id": "mdFPuVMBAGzp",
        "colab": {
          "base_uri": "https://localhost:8080/"
        },
        "outputId": "c61ae3d5-0dbc-4dbb-fd5e-15a37f344977"
      },
      "outputs": [
        {
          "output_type": "stream",
          "name": "stdout",
          "text": [
            "3254/3254 [==============================] - 95s 29ms/step - loss: 1.2037 - sparse_categorical_accuracy: 0.2751\n",
            "3254/3254 [==============================] - 92s 28ms/step - loss: 0.2629 - categorical_accuracy: 0.4223\n"
          ]
        },
        {
          "output_type": "execute_result",
          "data": {
            "text/plain": [
              "[0.2629221975803375, 0.422279417514801]"
            ]
          },
          "metadata": {},
          "execution_count": 55
        }
      ],
      "source": [
        "Transformer_head1.evaluate(X_test_temp, y_test_temp)\n",
        "Transformer_head7.evaluate(X_test_temp_7, y_test_temp_7)\n"
      ]
    },
    {
      "cell_type": "code",
      "execution_count": 60,
      "metadata": {
        "id": "CKg81xEECf63",
        "colab": {
          "base_uri": "https://localhost:8080/"
        },
        "outputId": "7ae322cd-909a-4306-953a-6d9dab965914"
      },
      "outputs": [
        {
          "metadata": {
            "tags": null
          },
          "name": "stdout",
          "output_type": "stream",
          "text": [
            "3254/3254 [==============================] - 101s 31ms/step - loss: 1.1706 - mean_absolute_error: 1.1706\n",
            "3254/3254 [==============================] - 91s 28ms/step - loss: 1.2511 - mean_absolute_error: 1.2511\n"
          ]
        },
        {
          "output_type": "execute_result",
          "data": {
            "text/plain": [
              "[1.251085877418518, 1.251085877418518]"
            ]
          },
          "metadata": {},
          "execution_count": 60
        }
      ],
      "source": [
        "Transformer_head1_id.evaluate(X_test_id, y_test_id)\n",
        "Transformer_head7_id.evaluate(X_test_id_7, y_test_id_7)"
      ]
    },
    {
      "cell_type": "markdown",
      "metadata": {
        "id": "4IrzqfzWRWs1"
      },
      "source": [
        "### LSTM"
      ]
    },
    {
      "cell_type": "code",
      "execution_count": 14,
      "metadata": {
        "id": "aNNYQFifhuC6"
      },
      "outputs": [],
      "source": [
        "# temperature model, head = 1\n",
        "X_train_temp, X_test_temp, y_train_temp, y_test_temp = my_train_test_split(np_final_temp, 48, 1, 0, 0)\n",
        "\n",
        "# temperature model, head = 7\n",
        "X_train_temp_7, X_test_temp_7, y_train_temp_7, y_test_temp_7 = my_train_test_split(np_final_temp, 48, 7, 0, 0)\n",
        "\n",
        "# id model, head = 1\n",
        "X_train_id, X_test_id, y_train_id, y_test_id = my_train_test_split(np_final_id, 48, 1, 7, 0)\n",
        "\n",
        "# id model, head = 7\n",
        "X_train_id_7, X_test_id_7, y_train_id_7, y_test_id_7 = my_train_test_split(np_final_id, 48, 7, 7, 0)"
      ]
    },
    {
      "cell_type": "code",
      "execution_count": null,
      "metadata": {
        "id": "TcJTtVPEwHVK"
      },
      "outputs": [],
      "source": [
        "class NNMultistepModel():\n",
        "    \n",
        "    def __init__(\n",
        "        self, \n",
        "        X, \n",
        "        Y, \n",
        "        n_outputs,\n",
        "        n_lag,\n",
        "        n_ft,\n",
        "        n_layer,\n",
        "        batch,\n",
        "        epochs, \n",
        "        lr,\n",
        "        Xval=None,\n",
        "        Yval=None,\n",
        "        mask_value=-999.0,\n",
        "        min_delta=0.001,\n",
        "        patience=5\n",
        "    ):\n",
        "        lstm_input = Input(shape=(n_lag, n_ft))\n",
        "\n",
        "        # Series signal \n",
        "        lstm_layer = LSTM(n_layer, activation='relu')(lstm_input)\n",
        "\n",
        "        x = Dense(n_outputs)(lstm_layer)\n",
        "        \n",
        "        self.model = Model(inputs=lstm_input, outputs=x)\n",
        "        self.batch = batch \n",
        "        self.epochs = epochs\n",
        "        self.n_layer=n_layer\n",
        "        self.lr = lr \n",
        "        self.Xval = Xval\n",
        "        self.Yval = Yval\n",
        "        self.X = X\n",
        "        self.Y = Y\n",
        "        self.mask_value = mask_value\n",
        "        self.min_delta = min_delta\n",
        "        self.patience = patience\n",
        "\n",
        "    def trainCallback(self):\n",
        "        return EarlyStopping(monitor='loss', patience=self.patience, min_delta=self.min_delta)  \n",
        "\n",
        "    def train(self):\n",
        "        # Getting the untrained model \n",
        "        empty_model = self.model\n",
        "        \n",
        "        # Initiating the optimizer\n",
        "        optimizer = keras.optimizers.Adam(learning_rate=self.lr)\n",
        "\n",
        "        # Compiling the model\n",
        "        empty_model.compile(optimizer=optimizer,\n",
        "                            loss=losses.MeanAbsoluteError(), \n",
        "                            # metrics=[keras.metrics.sparse_categorical_accuracy()]\n",
        "                            )\n",
        "\n",
        "        if (self.Xval is not None) & (self.Yval is not None):\n",
        "            history = empty_model.fit(\n",
        "                self.X, \n",
        "                self.Y, \n",
        "                epochs=self.epochs, \n",
        "                batch_size=self.batch, \n",
        "                validation_data=(self.Xval, self.Yval), \n",
        "                shuffle=False,\n",
        "                callbacks=[self.trainCallback()]\n",
        "            )\n",
        "        else:\n",
        "            history = empty_model.fit(\n",
        "                self.X, \n",
        "                self.Y, \n",
        "                epochs=self.epochs, \n",
        "                batch_size=self.batch,\n",
        "                shuffle=False,\n",
        "                callbacks=[self.trainCallback()]\n",
        "            )\n",
        "        \n",
        "        # Saving to original model attribute in the class\n",
        "        self.model = empty_model\n",
        "        \n",
        "        # Returning the training history\n",
        "        return history\n",
        "    \n",
        "    def predict(self, X):\n",
        "        return self.model.predict(X)\n",
        "    \n",
        "    def evaluate(self, X, y):\n",
        "        return self.model.evaluate(X, y)"
      ]
    },
    {
      "cell_type": "markdown",
      "metadata": {
        "id": "5LKtYEM62PNA"
      },
      "source": [
        "#### temperature, head = 1"
      ]
    },
    {
      "cell_type": "code",
      "execution_count": null,
      "metadata": {
        "colab": {
          "background_save": true,
          "base_uri": "https://localhost:8080/"
        },
        "id": "CwxVpy6SwU_b",
        "outputId": "f52db760-b1e2-4ede-adc7-f5bd073a23b4"
      },
      "outputs": [
        {
          "name": "stdout",
          "output_type": "stream",
          "text": [
            "Epoch 1/20\n",
            "428/428 [==============================] - 105s 38ms/step - loss: 0.2311 - val_loss: 0.0983\n",
            "Epoch 2/20\n",
            "428/428 [==============================] - 16s 37ms/step - loss: 0.0717 - val_loss: 0.0606\n",
            "Epoch 3/20\n",
            "428/428 [==============================] - 16s 37ms/step - loss: 0.0589 - val_loss: 0.0582\n",
            "Epoch 4/20\n",
            "428/428 [==============================] - 16s 37ms/step - loss: 0.0574 - val_loss: 0.0571\n",
            "Epoch 5/20\n",
            "428/428 [==============================] - 16s 37ms/step - loss: 0.0567 - val_loss: 0.0568\n",
            "Epoch 6/20\n",
            "428/428 [==============================] - 16s 37ms/step - loss: 0.0562 - val_loss: 0.0565\n",
            "Epoch 7/20\n",
            "428/428 [==============================] - 16s 37ms/step - loss: 0.0559 - val_loss: 0.0562\n",
            "Epoch 8/20\n",
            "428/428 [==============================] - 16s 37ms/step - loss: 0.0557 - val_loss: 0.0560\n",
            "Epoch 9/20\n",
            "428/428 [==============================] - 16s 37ms/step - loss: 0.0555 - val_loss: 0.0556\n",
            "Epoch 10/20\n",
            "428/428 [==============================] - 16s 37ms/step - loss: 0.0554 - val_loss: 0.0555\n",
            "Epoch 11/20\n",
            "428/428 [==============================] - 16s 37ms/step - loss: 0.0553 - val_loss: 0.0554\n"
          ]
        }
      ],
      "source": [
        "#####################\n",
        "X_train = X_train_temp[: 218661]\n",
        "X_val = X_train_temp[218661:]\n",
        "y_train = y_train_temp[: 218661]\n",
        "y_val = y_train_temp[218661:]\n",
        "#####################\n",
        "model = NNMultistepModel(\n",
        "    X=X_train,\n",
        "    Y=y_train,\n",
        "    n_outputs=n_ahead,\n",
        "    n_lag=lag,\n",
        "    n_ft=X_train.shape[2], \n",
        "    n_layer=10,\n",
        "    batch=512,\n",
        "    epochs=20, \n",
        "    lr=0.001,\n",
        "    Xval=X_val,\n",
        "    Yval=y_val,\n",
        ")\n",
        "# model.model.summary()\n",
        "history = model.train()"
      ]
    },
    {
      "cell_type": "code",
      "execution_count": 1,
      "metadata": {
        "id": "1F76fEl2U6fo",
        "colab": {
          "base_uri": "https://localhost:8080/",
          "height": 173
        },
        "outputId": "615cf9f6-a9e6-42cb-b58c-5227db0c209c"
      },
      "outputs": [
        {
          "output_type": "error",
          "ename": "NameError",
          "evalue": "ignored",
          "traceback": [
            "\u001b[0;31m---------------------------------------------------------------------------\u001b[0m",
            "\u001b[0;31mNameError\u001b[0m                                 Traceback (most recent call last)",
            "\u001b[0;32m<ipython-input-1-7ada7197ebd6>\u001b[0m in \u001b[0;36m<module>\u001b[0;34m()\u001b[0m\n\u001b[0;32m----> 1\u001b[0;31m \u001b[0mmodel\u001b[0m\u001b[0;34m.\u001b[0m\u001b[0mevaluate\u001b[0m\u001b[0;34m(\u001b[0m\u001b[0mX_test_temp\u001b[0m\u001b[0;34m,\u001b[0m \u001b[0my_test_temp\u001b[0m\u001b[0;34m)\u001b[0m\u001b[0;34m\u001b[0m\u001b[0;34m\u001b[0m\u001b[0m\n\u001b[0m",
            "\u001b[0;31mNameError\u001b[0m: name 'model' is not defined"
          ]
        }
      ],
      "source": [
        "model.evaluate(X_test_temp, y_test_temp)"
      ]
    },
    {
      "cell_type": "code",
      "execution_count": null,
      "metadata": {
        "colab": {
          "base_uri": "https://localhost:8080/",
          "height": 16
        },
        "id": "AdERqvvvVKo0",
        "outputId": "81f25fb0-6f1c-43ad-e32a-d6e49f2159c0"
      },
      "outputs": [
        {
          "data": {
            "application/javascript": [
              "\n",
              "    async function download(id, filename, size) {\n",
              "      if (!google.colab.kernel.accessAllowed) {\n",
              "        return;\n",
              "      }\n",
              "      const div = document.createElement('div');\n",
              "      const label = document.createElement('label');\n",
              "      label.textContent = `Downloading \"${filename}\": `;\n",
              "      div.appendChild(label);\n",
              "      const progress = document.createElement('progress');\n",
              "      progress.max = size;\n",
              "      div.appendChild(progress);\n",
              "      document.body.appendChild(div);\n",
              "\n",
              "      const buffers = [];\n",
              "      let downloaded = 0;\n",
              "\n",
              "      const channel = await google.colab.kernel.comms.open(id);\n",
              "      // Send a message to notify the kernel that we're ready.\n",
              "      channel.send({})\n",
              "\n",
              "      for await (const message of channel.messages) {\n",
              "        // Send a message to notify the kernel that we're ready.\n",
              "        channel.send({})\n",
              "        if (message.buffers) {\n",
              "          for (const buffer of message.buffers) {\n",
              "            buffers.push(buffer);\n",
              "            downloaded += buffer.byteLength;\n",
              "            progress.value = downloaded;\n",
              "          }\n",
              "        }\n",
              "      }\n",
              "      const blob = new Blob(buffers, {type: 'application/binary'});\n",
              "      const a = document.createElement('a');\n",
              "      a.href = window.URL.createObjectURL(blob);\n",
              "      a.download = filename;\n",
              "      div.appendChild(a);\n",
              "      a.click();\n",
              "      div.remove();\n",
              "    }\n",
              "  "
            ],
            "text/plain": [
              "<IPython.core.display.Javascript object>"
            ]
          },
          "metadata": {},
          "output_type": "display_data"
        },
        {
          "data": {
            "application/javascript": [
              "download(\"download_91a45819-17c1-413c-b3da-c8a9136f8b86\", \"LSTM_head1.h5\", 41912)"
            ],
            "text/plain": [
              "<IPython.core.display.Javascript object>"
            ]
          },
          "metadata": {},
          "output_type": "display_data"
        }
      ],
      "source": [
        "model.model.save(\"LSTM_head1.h5\")\n",
        "files.download(\"/content/LSTM_head1.h5\")"
      ]
    },
    {
      "cell_type": "markdown",
      "metadata": {
        "id": "7CuQy-hZ2R3b"
      },
      "source": [
        "#### temperature, head = 7"
      ]
    },
    {
      "cell_type": "code",
      "execution_count": null,
      "metadata": {
        "colab": {
          "background_save": true,
          "base_uri": "https://localhost:8080/"
        },
        "id": "eSJBFX-42JmP",
        "outputId": "df5622a6-a538-452e-80c9-3a3ea40e478d"
      },
      "outputs": [
        {
          "name": "stdout",
          "output_type": "stream",
          "text": [
            "Epoch 1/20\n",
            "428/428 [==============================] - 32s 68ms/step - loss: 0.2508 - val_loss: 0.1583\n",
            "Epoch 2/20\n",
            "428/428 [==============================] - 28s 66ms/step - loss: 0.1441 - val_loss: 0.1371\n",
            "Epoch 3/20\n",
            "428/428 [==============================] - 30s 71ms/step - loss: 0.1358 - val_loss: 0.1347\n",
            "Epoch 4/20\n",
            "428/428 [==============================] - 16s 37ms/step - loss: 0.1343 - val_loss: 0.1339\n",
            "Epoch 5/20\n",
            "428/428 [==============================] - 16s 38ms/step - loss: 0.1335 - val_loss: 0.1328\n",
            "Epoch 6/20\n",
            "428/428 [==============================] - 17s 40ms/step - loss: 0.1328 - val_loss: 0.1321\n",
            "Epoch 7/20\n",
            "428/428 [==============================] - 17s 39ms/step - loss: 0.1323 - val_loss: 0.1316\n",
            "Epoch 8/20\n",
            "428/428 [==============================] - 16s 37ms/step - loss: 0.1319 - val_loss: 0.1312\n",
            "Epoch 9/20\n",
            "428/428 [==============================] - 17s 40ms/step - loss: 0.1315 - val_loss: 0.1308\n",
            "Epoch 10/20\n",
            "428/428 [==============================] - 16s 37ms/step - loss: 0.1312 - val_loss: 0.1306\n",
            "Epoch 11/20\n",
            "428/428 [==============================] - 16s 37ms/step - loss: 0.1309 - val_loss: 0.1303\n",
            "Epoch 12/20\n",
            "428/428 [==============================] - 16s 37ms/step - loss: 0.1306 - val_loss: 0.1302\n",
            "Epoch 13/20\n",
            "428/428 [==============================] - 16s 38ms/step - loss: 0.1304 - val_loss: 0.1302\n",
            "Epoch 14/20\n",
            "428/428 [==============================] - 16s 37ms/step - loss: 0.1302 - val_loss: 0.1301\n",
            "Epoch 15/20\n",
            "428/428 [==============================] - 16s 37ms/step - loss: 0.1300 - val_loss: 0.1300\n",
            "Epoch 16/20\n",
            "428/428 [==============================] - 16s 37ms/step - loss: 0.1299 - val_loss: 0.1298\n",
            "Epoch 17/20\n",
            "428/428 [==============================] - 16s 38ms/step - loss: 0.1298 - val_loss: 0.1297\n",
            "Epoch 18/20\n",
            "428/428 [==============================] - 16s 38ms/step - loss: 0.1297 - val_loss: 0.1296\n"
          ]
        }
      ],
      "source": [
        "#####################\n",
        "X_train = X_train_temp_7[: 218661]\n",
        "X_val = X_train_temp_7[218661:]\n",
        "y_train = y_train_temp_7[: 218661]\n",
        "y_val = y_train_temp_7[218661:]\n",
        "#####################\n",
        "model = NNMultistepModel(\n",
        "    X=X_train,\n",
        "    Y=y_train,\n",
        "    n_outputs=n_ahead,\n",
        "    n_lag=lag,\n",
        "    n_ft=X_train.shape[2], \n",
        "    n_layer=10,\n",
        "    batch=512,\n",
        "    epochs=20, \n",
        "    lr=0.001,\n",
        "    Xval=X_val,\n",
        "    Yval=y_val,\n",
        ")\n",
        "# model.model.summary()\n",
        "history = model.train()"
      ]
    },
    {
      "cell_type": "code",
      "execution_count": null,
      "metadata": {
        "id": "UJ2DbdTNVWj_"
      },
      "outputs": [],
      "source": [
        "model.evaluate(X_test_temp_7, y_test_temp_7)"
      ]
    },
    {
      "cell_type": "code",
      "execution_count": null,
      "metadata": {
        "colab": {
          "base_uri": "https://localhost:8080/",
          "height": 34
        },
        "id": "0l6DcNokVR51",
        "outputId": "ce5f17cb-eb3a-40e2-9c85-eb40c3cb0a7f"
      },
      "outputs": [
        {
          "data": {
            "application/javascript": [
              "\n",
              "    async function download(id, filename, size) {\n",
              "      if (!google.colab.kernel.accessAllowed) {\n",
              "        return;\n",
              "      }\n",
              "      const div = document.createElement('div');\n",
              "      const label = document.createElement('label');\n",
              "      label.textContent = `Downloading \"${filename}\": `;\n",
              "      div.appendChild(label);\n",
              "      const progress = document.createElement('progress');\n",
              "      progress.max = size;\n",
              "      div.appendChild(progress);\n",
              "      document.body.appendChild(div);\n",
              "\n",
              "      const buffers = [];\n",
              "      let downloaded = 0;\n",
              "\n",
              "      const channel = await google.colab.kernel.comms.open(id);\n",
              "      // Send a message to notify the kernel that we're ready.\n",
              "      channel.send({})\n",
              "\n",
              "      for await (const message of channel.messages) {\n",
              "        // Send a message to notify the kernel that we're ready.\n",
              "        channel.send({})\n",
              "        if (message.buffers) {\n",
              "          for (const buffer of message.buffers) {\n",
              "            buffers.push(buffer);\n",
              "            downloaded += buffer.byteLength;\n",
              "            progress.value = downloaded;\n",
              "          }\n",
              "        }\n",
              "      }\n",
              "      const blob = new Blob(buffers, {type: 'application/binary'});\n",
              "      const a = document.createElement('a');\n",
              "      a.href = window.URL.createObjectURL(blob);\n",
              "      a.download = filename;\n",
              "      div.appendChild(a);\n",
              "      a.click();\n",
              "      div.remove();\n",
              "    }\n",
              "  "
            ],
            "text/plain": [
              "<IPython.core.display.Javascript object>"
            ]
          },
          "metadata": {},
          "output_type": "display_data"
        },
        {
          "data": {
            "application/javascript": [
              "download(\"download_8d46002c-97ed-413d-9578-3f6b367a80a6\", \"LSTM_head7.h5\", 41912)"
            ],
            "text/plain": [
              "<IPython.core.display.Javascript object>"
            ]
          },
          "metadata": {},
          "output_type": "display_data"
        }
      ],
      "source": [
        "model.model.save(\"LSTM_head7.h5\")\n",
        "files.download(\"/content/LSTM_head7.h5\")"
      ]
    },
    {
      "cell_type": "markdown",
      "metadata": {
        "id": "aDkUOgcy2UFT"
      },
      "source": [
        "#### id, head = 1"
      ]
    },
    {
      "cell_type": "code",
      "execution_count": null,
      "metadata": {
        "colab": {
          "base_uri": "https://localhost:8080/"
        },
        "id": "stlsNIOh1yGY",
        "outputId": "5dc63f25-19e2-4783-d476-f39f6eeb1503"
      },
      "outputs": [
        {
          "name": "stdout",
          "output_type": "stream",
          "text": [
            "Epoch 1/20\n",
            "428/428 [==============================] - 34s 69ms/step - loss: 0.6667 - val_loss: 0.4556\n",
            "Epoch 2/20\n",
            "428/428 [==============================] - 24s 57ms/step - loss: 0.4519 - val_loss: 0.4436\n",
            "Epoch 3/20\n",
            "428/428 [==============================] - 19s 43ms/step - loss: 0.4458 - val_loss: 0.4410\n",
            "Epoch 4/20\n",
            "428/428 [==============================] - 17s 39ms/step - loss: 0.4430 - val_loss: 0.4388\n",
            "Epoch 5/20\n",
            "428/428 [==============================] - 16s 37ms/step - loss: 0.4408 - val_loss: 0.4396\n",
            "Epoch 6/20\n",
            "428/428 [==============================] - 16s 37ms/step - loss: 0.4390 - val_loss: 0.4348\n",
            "Epoch 7/20\n",
            "428/428 [==============================] - 16s 37ms/step - loss: 0.4370 - val_loss: 0.4333\n",
            "Epoch 8/20\n",
            "428/428 [==============================] - 16s 37ms/step - loss: 0.4333 - val_loss: 0.4298\n",
            "Epoch 9/20\n",
            "428/428 [==============================] - 16s 37ms/step - loss: 0.4292 - val_loss: 0.4262\n",
            "Epoch 10/20\n",
            "428/428 [==============================] - 16s 38ms/step - loss: 0.4264 - val_loss: 0.4242\n",
            "Epoch 11/20\n",
            "428/428 [==============================] - 16s 37ms/step - loss: 0.4236 - val_loss: 0.4237\n",
            "Epoch 12/20\n",
            "428/428 [==============================] - 16s 37ms/step - loss: 0.4220 - val_loss: 0.4210\n",
            "Epoch 13/20\n",
            "428/428 [==============================] - 16s 37ms/step - loss: 0.4202 - val_loss: 0.4192\n",
            "Epoch 14/20\n",
            "428/428 [==============================] - 16s 37ms/step - loss: 0.4191 - val_loss: 0.4206\n",
            "Epoch 15/20\n",
            "428/428 [==============================] - 16s 37ms/step - loss: 0.4180 - val_loss: 0.4195\n",
            "Epoch 16/20\n",
            "428/428 [==============================] - 16s 38ms/step - loss: 0.4174 - val_loss: 0.4171\n",
            "Epoch 17/20\n",
            "428/428 [==============================] - 16s 38ms/step - loss: 0.4168 - val_loss: 0.4203\n",
            "Epoch 18/20\n",
            "428/428 [==============================] - 16s 37ms/step - loss: 0.4162 - val_loss: 0.4193\n",
            "Epoch 19/20\n",
            "428/428 [==============================] - 16s 37ms/step - loss: 0.4155 - val_loss: 0.4188\n",
            "Epoch 20/20\n",
            "428/428 [==============================] - 16s 37ms/step - loss: 0.4154 - val_loss: 0.4182\n"
          ]
        }
      ],
      "source": [
        "#####################\n",
        "X_train = X_train_id[: 218661]\n",
        "X_val = X_train_id[218661:]\n",
        "y_train = y_train_id[: 218661]\n",
        "y_val = y_train_id[218661:]\n",
        "#####################\n",
        "model = NNMultistepModel(\n",
        "    X=X_train,\n",
        "    Y=y_train,\n",
        "    n_outputs=n_ahead,\n",
        "    n_lag=lag,\n",
        "    n_ft=X_train.shape[2], \n",
        "    n_layer=10,\n",
        "    batch=512,\n",
        "    epochs=20, \n",
        "    lr=0.001,\n",
        "    Xval=X_val,\n",
        "    Yval=y_val,\n",
        ")\n",
        "# model.model.summary()\n",
        "history = model.train()"
      ]
    },
    {
      "cell_type": "code",
      "execution_count": null,
      "metadata": {
        "colab": {
          "base_uri": "https://localhost:8080/"
        },
        "id": "-N1ENl2TVfZ7",
        "outputId": "a20cfd16-08dc-45ac-b0fc-e1ceb4a4d054"
      },
      "outputs": [
        {
          "name": "stdout",
          "output_type": "stream",
          "text": [
            "3254/3254 [==============================] - 16s 5ms/step - loss: 0.4148\n"
          ]
        },
        {
          "data": {
            "text/plain": [
              "0.4148290157318115"
            ]
          },
          "execution_count": 41,
          "metadata": {},
          "output_type": "execute_result"
        }
      ],
      "source": [
        "model.evaluate(X_test_id, y_test_id)"
      ]
    },
    {
      "cell_type": "code",
      "execution_count": 49,
      "metadata": {
        "colab": {
          "base_uri": "https://localhost:8080/",
          "height": 16
        },
        "id": "x57dSkxNViBk",
        "outputId": "dee233ac-c596-41a7-b090-8fb7a4f1619c"
      },
      "outputs": [
        {
          "output_type": "display_data",
          "data": {
            "application/javascript": [
              "\n",
              "    async function download(id, filename, size) {\n",
              "      if (!google.colab.kernel.accessAllowed) {\n",
              "        return;\n",
              "      }\n",
              "      const div = document.createElement('div');\n",
              "      const label = document.createElement('label');\n",
              "      label.textContent = `Downloading \"${filename}\": `;\n",
              "      div.appendChild(label);\n",
              "      const progress = document.createElement('progress');\n",
              "      progress.max = size;\n",
              "      div.appendChild(progress);\n",
              "      document.body.appendChild(div);\n",
              "\n",
              "      const buffers = [];\n",
              "      let downloaded = 0;\n",
              "\n",
              "      const channel = await google.colab.kernel.comms.open(id);\n",
              "      // Send a message to notify the kernel that we're ready.\n",
              "      channel.send({})\n",
              "\n",
              "      for await (const message of channel.messages) {\n",
              "        // Send a message to notify the kernel that we're ready.\n",
              "        channel.send({})\n",
              "        if (message.buffers) {\n",
              "          for (const buffer of message.buffers) {\n",
              "            buffers.push(buffer);\n",
              "            downloaded += buffer.byteLength;\n",
              "            progress.value = downloaded;\n",
              "          }\n",
              "        }\n",
              "      }\n",
              "      const blob = new Blob(buffers, {type: 'application/binary'});\n",
              "      const a = document.createElement('a');\n",
              "      a.href = window.URL.createObjectURL(blob);\n",
              "      a.download = filename;\n",
              "      div.appendChild(a);\n",
              "      a.click();\n",
              "      div.remove();\n",
              "    }\n",
              "  "
            ],
            "text/plain": [
              "<IPython.core.display.Javascript object>"
            ]
          },
          "metadata": {}
        },
        {
          "output_type": "display_data",
          "data": {
            "application/javascript": [
              "download(\"download_88a596c2-5307-4b15-9707-d0012d475cd1\", \"LSTM_id_head1.h5\", 41912)"
            ],
            "text/plain": [
              "<IPython.core.display.Javascript object>"
            ]
          },
          "metadata": {}
        }
      ],
      "source": [
        "model.model.save(\"LSTM_id_head1.h5\")\n",
        "files.download(\"/content/LSTM_id_head1.h5\")"
      ]
    },
    {
      "cell_type": "markdown",
      "metadata": {
        "id": "klZA1SjU2WHZ"
      },
      "source": [
        "#### id, head = 7"
      ]
    },
    {
      "cell_type": "code",
      "execution_count": null,
      "metadata": {
        "colab": {
          "background_save": true,
          "base_uri": "https://localhost:8080/"
        },
        "id": "wu7cwzmy117-",
        "outputId": "a934f8fd-5872-43d1-f720-e02e6ddd86b9"
      },
      "outputs": [
        {
          "name": "stdout",
          "output_type": "stream",
          "text": [
            "Epoch 1/20\n",
            "428/428 [==============================] - 17s 38ms/step - loss: 0.8199 - val_loss: 0.6909\n",
            "Epoch 2/20\n",
            "428/428 [==============================] - 16s 37ms/step - loss: 0.6825 - val_loss: 0.6797\n",
            "Epoch 3/20\n",
            "428/428 [==============================] - 16s 37ms/step - loss: 0.6767 - val_loss: 0.6769\n",
            "Epoch 4/20\n",
            "428/428 [==============================] - 16s 37ms/step - loss: 0.6743 - val_loss: 0.6744\n",
            "Epoch 5/20\n",
            "428/428 [==============================] - 16s 37ms/step - loss: 0.6724 - val_loss: 0.6727\n",
            "Epoch 6/20\n",
            "428/428 [==============================] - 16s 37ms/step - loss: 0.6705 - val_loss: 0.6711\n",
            "Epoch 7/20\n",
            "428/428 [==============================] - 16s 37ms/step - loss: 0.6680 - val_loss: 0.6691\n",
            "Epoch 8/20\n",
            "428/428 [==============================] - 16s 37ms/step - loss: 0.6658 - val_loss: 0.6665\n",
            "Epoch 9/20\n",
            "428/428 [==============================] - 16s 37ms/step - loss: 0.6642 - val_loss: 0.6653\n",
            "Epoch 10/20\n",
            "428/428 [==============================] - 16s 37ms/step - loss: 0.6631 - val_loss: 0.6648\n",
            "Epoch 11/20\n",
            "428/428 [==============================] - 17s 39ms/step - loss: 0.6621 - val_loss: 0.6633\n",
            "Epoch 12/20\n",
            "428/428 [==============================] - 16s 37ms/step - loss: 0.6611 - val_loss: 0.6626\n",
            "Epoch 13/20\n",
            "428/428 [==============================] - 16s 36ms/step - loss: 0.6603 - val_loss: 0.6616\n",
            "Epoch 14/20\n",
            "428/428 [==============================] - 16s 37ms/step - loss: 0.6595 - val_loss: 0.6607\n",
            "Epoch 15/20\n",
            "428/428 [==============================] - 16s 38ms/step - loss: 0.6587 - val_loss: 0.6594\n",
            "Epoch 16/20\n",
            "428/428 [==============================] - 16s 38ms/step - loss: 0.6582 - val_loss: 0.6594\n",
            "Epoch 17/20\n",
            "428/428 [==============================] - 20s 46ms/step - loss: 0.6578 - val_loss: 0.6594\n",
            "Epoch 18/20\n",
            "428/428 [==============================] - 16s 37ms/step - loss: 0.6576 - val_loss: 0.6587\n",
            "Epoch 19/20\n",
            "428/428 [==============================] - 16s 38ms/step - loss: 0.6572 - val_loss: 0.6591\n",
            "Epoch 20/20\n",
            "428/428 [==============================] - 16s 37ms/step - loss: 0.6572 - val_loss: 0.6581\n"
          ]
        }
      ],
      "source": [
        "#####################\n",
        "X_train = X_train_id_7[: 218661]\n",
        "X_val = X_train_id_7[218661:]\n",
        "y_train = y_train_id_7[: 218661]\n",
        "y_val = y_train_id_7[218661:]\n",
        "#####################\n",
        "model = NNMultistepModel(\n",
        "    X=X_train,\n",
        "    Y=y_train,\n",
        "    n_outputs=n_ahead,\n",
        "    n_lag=lag,\n",
        "    n_ft=X_train.shape[2], \n",
        "    n_layer=10,\n",
        "    batch=512,\n",
        "    epochs=20, \n",
        "    lr=0.001,\n",
        "    Xval=X_val,\n",
        "    Yval=y_val,\n",
        ")\n",
        "# model.model.summary()\n",
        "history = model.train()"
      ]
    },
    {
      "cell_type": "code",
      "execution_count": null,
      "metadata": {
        "colab": {
          "background_save": true
        },
        "id": "wZeRHBWmV1OV",
        "outputId": "d7ffce98-e7fb-494c-8843-4f4d0f764090"
      },
      "outputs": [
        {
          "name": "stdout",
          "output_type": "stream",
          "text": [
            "3254/3254 [==============================] - 16s 5ms/step - loss: 0.6538\n"
          ]
        },
        {
          "data": {
            "text/plain": [
              "0.6538137793540955"
            ]
          },
          "execution_count": null,
          "metadata": {},
          "output_type": "execute_result"
        }
      ],
      "source": [
        "model.evaluate(X_test_id_7, y_test_id_7)"
      ]
    },
    {
      "cell_type": "code",
      "execution_count": 50,
      "metadata": {
        "colab": {
          "base_uri": "https://localhost:8080/",
          "height": 16
        },
        "id": "R-G_LsUBWKZj",
        "outputId": "405b49d3-7021-4560-9115-5c6e1f2439b4"
      },
      "outputs": [
        {
          "output_type": "display_data",
          "data": {
            "application/javascript": [
              "\n",
              "    async function download(id, filename, size) {\n",
              "      if (!google.colab.kernel.accessAllowed) {\n",
              "        return;\n",
              "      }\n",
              "      const div = document.createElement('div');\n",
              "      const label = document.createElement('label');\n",
              "      label.textContent = `Downloading \"${filename}\": `;\n",
              "      div.appendChild(label);\n",
              "      const progress = document.createElement('progress');\n",
              "      progress.max = size;\n",
              "      div.appendChild(progress);\n",
              "      document.body.appendChild(div);\n",
              "\n",
              "      const buffers = [];\n",
              "      let downloaded = 0;\n",
              "\n",
              "      const channel = await google.colab.kernel.comms.open(id);\n",
              "      // Send a message to notify the kernel that we're ready.\n",
              "      channel.send({})\n",
              "\n",
              "      for await (const message of channel.messages) {\n",
              "        // Send a message to notify the kernel that we're ready.\n",
              "        channel.send({})\n",
              "        if (message.buffers) {\n",
              "          for (const buffer of message.buffers) {\n",
              "            buffers.push(buffer);\n",
              "            downloaded += buffer.byteLength;\n",
              "            progress.value = downloaded;\n",
              "          }\n",
              "        }\n",
              "      }\n",
              "      const blob = new Blob(buffers, {type: 'application/binary'});\n",
              "      const a = document.createElement('a');\n",
              "      a.href = window.URL.createObjectURL(blob);\n",
              "      a.download = filename;\n",
              "      div.appendChild(a);\n",
              "      a.click();\n",
              "      div.remove();\n",
              "    }\n",
              "  "
            ],
            "text/plain": [
              "<IPython.core.display.Javascript object>"
            ]
          },
          "metadata": {}
        },
        {
          "output_type": "display_data",
          "data": {
            "application/javascript": [
              "download(\"download_bc78c5d7-132f-4a82-b8cc-aa76d4003bcd\", \"LSTM_id_head7.h5\", 41912)"
            ],
            "text/plain": [
              "<IPython.core.display.Javascript object>"
            ]
          },
          "metadata": {}
        }
      ],
      "source": [
        "model.model.save(\"LSTM_id_head7.h5\")\n",
        "files.download(\"/content/LSTM_id_head7.h5\")"
      ]
    },
    {
      "cell_type": "code",
      "source": [
        "LSTM_head1 = keras.models.load_model(\"/content/LSTM_head1.h5\")\n",
        "LSTM_head1_id = keras.models.load_model(\"/content/LSTM_id_head1.h5\")\n",
        "LSTM_head7 = keras.models.load_model(\"/content/LSTM_head7.h5\")\n",
        "LSTM_head7_id = keras.models.load_model(\"/content/LSTM_id_head7.h5\")"
      ],
      "metadata": {
        "id": "5xJKPU5N_IjR"
      },
      "execution_count": 17,
      "outputs": []
    },
    {
      "cell_type": "code",
      "source": [
        "LSTM_head1.evaluate(X_test_temp, y_test_temp)\n",
        "LSTM_head7.evaluate(X_test_temp_7, y_test_temp_7)\n"
      ],
      "metadata": {
        "colab": {
          "base_uri": "https://localhost:8080/"
        },
        "id": "9HGzeGFJ_T_w",
        "outputId": "e7c2d7e1-f7d2-476d-be30-c88d414d0376"
      },
      "execution_count": 18,
      "outputs": [
        {
          "output_type": "stream",
          "name": "stdout",
          "text": [
            "3254/3254 [==============================] - 20s 6ms/step - loss: 0.0553\n",
            "3254/3254 [==============================] - 20s 6ms/step - loss: 0.1298\n"
          ]
        },
        {
          "output_type": "execute_result",
          "data": {
            "text/plain": [
              "0.12984268367290497"
            ]
          },
          "metadata": {},
          "execution_count": 18
        }
      ]
    },
    {
      "cell_type": "code",
      "source": [
        "LSTM_head1_id.evaluate(X_test_id, y_test_id)\n",
        "LSTM_head7_id.evaluate(X_test_id_7, y_test_id_7)"
      ],
      "metadata": {
        "id": "z391egA8_gk5"
      },
      "execution_count": null,
      "outputs": []
    }
  ],
  "metadata": {
    "colab": {
      "collapsed_sections": [],
      "name": "Experiment_model_comparison.ipynb",
      "toc_visible": true,
      "provenance": []
    },
    "kernelspec": {
      "display_name": "Python 3",
      "name": "python3"
    },
    "language_info": {
      "name": "python"
    }
  },
  "nbformat": 4,
  "nbformat_minor": 0
}