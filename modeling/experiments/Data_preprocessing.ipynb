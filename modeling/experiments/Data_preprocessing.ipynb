{
  "nbformat": 4,
  "nbformat_minor": 0,
  "metadata": {
    "colab": {
      "name": "Data_preprocessing.ipynb",
      "provenance": [],
      "collapsed_sections": []
    },
    "kernelspec": {
      "name": "python3",
      "display_name": "Python 3"
    },
    "language_info": {
      "name": "python"
    }
  },
  "cells": [
    {
      "cell_type": "markdown",
      "source": [
        "### Arima Model\n",
        "\n",
        "Reference: https://github.com/Eligijus112/Vilnius-weather-LSTM"
      ],
      "metadata": {
        "id": "F0PNhi9A1VTt"
      }
    },
    {
      "cell_type": "markdown",
      "source": [
        "### Get Data"
      ],
      "metadata": {
        "id": "5FImlbUW1d0b"
      }
    },
    {
      "cell_type": "code",
      "execution_count": 1,
      "metadata": {
        "colab": {
          "base_uri": "https://localhost:8080/"
        },
        "id": "EE6JrDo603Fp",
        "outputId": "cce590e2-3101-4057-8af4-e7e3205812e9"
      },
      "outputs": [
        {
          "output_type": "stream",
          "name": "stderr",
          "text": [
            "Cloning into '/content/data'...\n",
            "warning: redirecting to https://gitlab.com/Dimu_1020/big_data_final.git/\n"
          ]
        }
      ],
      "source": [
        "%%bash\n",
        "if [ ! -d '/content/data' ]; then\n",
        "  git clone https://gitlab.com/Dimu_1020/big_data_final '/content/data'\n",
        "  cd '/content/data'\n",
        "else\n",
        "  echo \"Dataset already downloaded in '/content/data'\"\n",
        "fi"
      ]
    },
    {
      "cell_type": "markdown",
      "source": [
        "### Import dependencies"
      ],
      "metadata": {
        "id": "f2g032F21q1t"
      }
    },
    {
      "cell_type": "code",
      "source": [
        "pip install pyspark"
      ],
      "metadata": {
        "colab": {
          "base_uri": "https://localhost:8080/"
        },
        "id": "K6JqtDOh1toG",
        "outputId": "8d10f0cf-9b83-4aa1-898d-ab0b9dd61861"
      },
      "execution_count": 2,
      "outputs": [
        {
          "output_type": "stream",
          "name": "stdout",
          "text": [
            "Collecting pyspark\n",
            "  Downloading pyspark-3.2.0.tar.gz (281.3 MB)\n",
            "\u001b[K     |████████████████████████████████| 281.3 MB 35 kB/s \n",
            "\u001b[?25hCollecting py4j==0.10.9.2\n",
            "  Downloading py4j-0.10.9.2-py2.py3-none-any.whl (198 kB)\n",
            "\u001b[K     |████████████████████████████████| 198 kB 36.0 MB/s \n",
            "\u001b[?25hBuilding wheels for collected packages: pyspark\n",
            "  Building wheel for pyspark (setup.py) ... \u001b[?25l\u001b[?25hdone\n",
            "  Created wheel for pyspark: filename=pyspark-3.2.0-py2.py3-none-any.whl size=281805912 sha256=b4d69a8e96f7e1c5b5f57ca24c4243ebe6b2a251fe4da6b2a327528bce024ee5\n",
            "  Stored in directory: /root/.cache/pip/wheels/0b/de/d2/9be5d59d7331c6c2a7c1b6d1a4f463ce107332b1ecd4e80718\n",
            "Successfully built pyspark\n",
            "Installing collected packages: py4j, pyspark\n",
            "Successfully installed py4j-0.10.9.2 pyspark-3.2.0\n"
          ]
        }
      ]
    },
    {
      "cell_type": "code",
      "source": [
        "# Data wrangling\n",
        "import pandas as pd \n",
        "\n",
        "# Visualization\n",
        "import matplotlib.pyplot as plt \n",
        "import seaborn as sns \n",
        "\n",
        "# Date wrangling\n",
        "import datetime\n",
        "\n",
        "# Math operations\n",
        "import numpy as np\n",
        "\n",
        "# Random sampling\n",
        "import random\n",
        "\n",
        "# sklearn\n",
        "from sklearn.preprocessing import StandardScaler\n",
        "from sklearn.model_selection import train_test_split\n",
        "from sklearn.pipeline import make_pipeline\n",
        "\n",
        "# Base\n",
        "import os\n",
        "\n",
        "# Keras API \n",
        "from tensorflow import keras\n",
        "\n",
        "# Deep learning \n",
        "from keras.models import Input, Model, Sequential\n",
        "from keras.layers import Dense, Dropout, LSTM, Concatenate, SimpleRNN, Masking, Flatten\n",
        "from keras import losses\n",
        "from keras.callbacks import EarlyStopping\n",
        "from keras.initializers import RandomNormal\n",
        "\n",
        "# pyspark related\n",
        "# pip install pyspark\n",
        "import pyspark\n",
        "from pyspark.sql.functions import split, explode, to_timestamp, from_unixtime, from_utc_timestamp\n",
        "from pyspark import SparkConf, SparkContext,SQLContext\n",
        "from pyspark.sql import SparkSession\n",
        "from pyspark.sql.types import IntegerType,ArrayType,StringType,DoubleType\n",
        "from pyspark.sql.functions import *\n",
        "from pyspark.sql import Window\n",
        "# from pyspark.ml.feature import StandardScaler\n",
        "from pyspark.ml import Pipeline\n",
        "from pyspark.ml.feature import VectorAssembler\n",
        "#from ts.flint import FlintContext\n",
        "sc = SparkContext.getOrCreate()\n",
        "sqlContext = SQLContext(sc)"
      ],
      "metadata": {
        "colab": {
          "base_uri": "https://localhost:8080/"
        },
        "id": "mv_IGIou1o8b",
        "outputId": "ddb2f24b-343e-445d-8851-a28baac7237f"
      },
      "execution_count": 3,
      "outputs": [
        {
          "output_type": "stream",
          "name": "stderr",
          "text": [
            "/usr/local/lib/python3.7/dist-packages/pyspark/sql/context.py:79: FutureWarning: Deprecated in 3.0.0. Use SparkSession.builder.getOrCreate() instead.\n",
            "  FutureWarning\n"
          ]
        }
      ]
    },
    {
      "cell_type": "markdown",
      "source": [
        "## Data Cleaning"
      ],
      "metadata": {
        "id": "bm90AoAI2GMs"
      }
    },
    {
      "cell_type": "markdown",
      "source": [
        "### Convert into rdd"
      ],
      "metadata": {
        "id": "w3WXCJRv2Iwu"
      }
    },
    {
      "cell_type": "code",
      "source": [
        "spark = SparkSession.builder.appName(\"DataFrame\").getOrCreate()\n",
        "path_to_file = 'data/HistoryBulk_NY.csv'\n",
        "df = spark.read.csv(path_to_file, header=True)\n",
        "df.show()"
      ],
      "metadata": {
        "id": "5HDEIToD13-n",
        "colab": {
          "base_uri": "https://localhost:8080/"
        },
        "outputId": "bac2854c-dc85-473b-c272-f1233fcdcb41"
      },
      "execution_count": 4,
      "outputs": [
        {
          "output_type": "stream",
          "name": "stdout",
          "text": [
            "+---------+--------------------+--------+---------+---------+----------+------+----------+--------+--------+--------+---------+----------+--------+----------+--------+-------+-------+-------+-------+----------+----------+------------+--------------------+------------+\n",
            "|       dt|              dt_iso|timezone|city_name|      lat|       lon|  temp|feels_like|temp_min|temp_max|pressure|sea_level|grnd_level|humidity|wind_speed|wind_deg|rain_1h|rain_3h|snow_1h|snow_3h|clouds_all|weather_id|weather_main| weather_description|weather_icon|\n",
            "+---------+--------------------+--------+---------+---------+----------+------+----------+--------+--------+--------+---------+----------+--------+----------+--------+-------+-------+-------+-------+----------+----------+------------+--------------------+------------+\n",
            "|283996800|1979-01-01 00:00:...|  -18000| New York|40.712775|-74.005973|280.34|    276.58|  280.33|  280.35|    1030|     null|      null|      93|       6.7|     170|   null|   null|   null|   null|        90|       741|         Fog|                 fog|         50n|\n",
            "|283996800|1979-01-01 00:00:...|  -18000| New York|40.712775|-74.005973|280.34|    276.58|  280.33|  280.35|    1030|     null|      null|      93|       6.7|     170|   null|   null|   null|   null|        90|       310|     Drizzle|light intensity d...|         09n|\n",
            "|283996800|1979-01-01 00:00:...|  -18000| New York|40.712775|-74.005973|280.34|    276.58|  280.33|  280.35|    1030|     null|      null|      93|       6.7|     170|   null|   null|   null|   null|        90|       500|        Rain|          light rain|         10n|\n",
            "|284000400|1979-01-01 01:00:...|  -18000| New York|40.712775|-74.005973|280.34|    276.58|  280.33|  280.35|    1030|     null|      null|      93|       6.7|     170|   null|   null|   null|   null|        90|       741|         Fog|                 fog|         50n|\n",
            "|284000400|1979-01-01 01:00:...|  -18000| New York|40.712775|-74.005973|280.34|    276.58|  280.33|  280.35|    1030|     null|      null|      93|       6.7|     170|   null|   null|   null|   null|        90|       310|     Drizzle|light intensity d...|         09n|\n",
            "|284000400|1979-01-01 01:00:...|  -18000| New York|40.712775|-74.005973|280.34|    276.58|  280.33|  280.35|    1030|     null|      null|      93|       6.7|     170|   null|   null|   null|   null|        90|       500|        Rain|          light rain|         10n|\n",
            "|284004000|1979-01-01 02:00:...|  -18000| New York|40.712775|-74.005973|280.51|    276.79|  279.17|  281.55|    1029|     null|      null|      93|       6.7|     170|   null|   null|   null|   null|        90|       500|        Rain|          light rain|         10n|\n",
            "|284007600|1979-01-01 03:00:...|  -18000| New York|40.712775|-74.005973|281.34|    278.39|  280.85|  281.44|    1029|     null|      null|      93|       5.2|     190|   null|   null|   null|   null|        90|       500|        Rain|          light rain|         10n|\n",
            "|284011200|1979-01-01 04:00:...|  -18000| New York|40.712775|-74.005973|281.34|    278.39|  280.85|  281.44|    1029|     null|      null|      93|       5.2|     190|   null|   null|   null|   null|        90|       500|        Rain|          light rain|         10n|\n",
            "|284014800|1979-01-01 05:00:...|  -18000| New York|40.712775|-74.005973|281.51|    278.43|  281.51|  281.51|    1026|     null|      null|      89|      5.67|     184|   null|   null|   null|   null|       100|       804|      Clouds|     overcast clouds|         04n|\n",
            "|284018400|1979-01-01 06:00:...|  -18000| New York|40.712775|-74.005973|281.91|    278.44|  280.85|  282.04|    1026|     null|      null|      93|       7.2|     170|   null|   null|   null|   null|        90|       500|        Rain|          light rain|         10n|\n",
            "|284022000|1979-01-01 07:00:...|  -18000| New York|40.712775|-74.005973|281.91|    278.62|  280.85|  282.04|    1025|     null|      null|      93|       6.6|     180|   0.18|   null|   null|   null|        90|       301|     Drizzle|             drizzle|         09n|\n",
            "|284022000|1979-01-01 07:00:...|  -18000| New York|40.712775|-74.005973|281.91|    278.62|  280.85|  282.04|    1025|     null|      null|      93|       6.6|     180|   0.18|   null|   null|   null|        90|       500|        Rain|          light rain|         10n|\n",
            "|284025600|1979-01-01 08:00:...|  -18000| New York|40.712775|-74.005973|282.21|       279|  281.22|  283.02|    1024|     null|      null|      92|       6.6|     200|   0.15|   null|   null|   null|        90|       500|        Rain|          light rain|         10n|\n",
            "|284029200|1979-01-01 09:00:...|  -18000| New York|40.712775|-74.005973|282.14|    279.21|  280.35|  282.53|    1023|     null|      null|      93|       5.7|     200|   null|   null|   null|   null|        90|       500|        Rain|          light rain|         10n|\n",
            "|284032800|1979-01-01 10:00:...|  -18000| New York|40.712775|-74.005973|282.14|    279.21|  280.35|  282.53|    1023|     null|      null|      93|       5.7|     200|   null|   null|   null|   null|        90|       500|        Rain|          light rain|         10n|\n",
            "|284036400|1979-01-01 11:00:...|  -18000| New York|40.712775|-74.005973|283.03|     282.2|  282.36|  283.71|    1022|     null|      null|      94|         2|     160|   null|   null|   null|   null|        90|       804|      Clouds|     overcast clouds|         04n|\n",
            "|284040000|1979-01-01 12:00:...|  -18000| New York|40.712775|-74.005973|282.89|    281.02|  277.55|  284.23|    1022|     null|      null|      93|       3.6|     160|   null|   null|   null|   null|        90|       741|         Fog|                 fog|         50n|\n",
            "|284043600|1979-01-01 13:00:...|  -18000| New York|40.712775|-74.005973|282.86|    280.99|  277.55|  284.23|    1022|     null|      null|      92|       3.6|     160|   null|   null|   null|   null|        90|       520|        Rain|light intensity s...|         09d|\n",
            "|284047200|1979-01-01 14:00:...|  -18000| New York|40.712775|-74.005973|283.72|    283.18|  282.04|  285.33|    1022|     null|      null|      90|       5.1|     180|   0.19|   null|   null|   null|        90|       721|        Haze|                haze|         50d|\n",
            "+---------+--------------------+--------+---------+---------+----------+------+----------+--------+--------+--------+---------+----------+--------+----------+--------+-------+-------+-------+-------+----------+----------+------------+--------------------+------------+\n",
            "only showing top 20 rows\n",
            "\n"
          ]
        }
      ]
    },
    {
      "cell_type": "markdown",
      "source": [
        "### Convert to datetime"
      ],
      "metadata": {
        "id": "UQu5fp8c2pvp"
      }
    },
    {
      "cell_type": "code",
      "source": [
        "# convert to datestamp\n",
        "spark.conf.set('spark.sql.session.timeZone', 'UTC')\n",
        "df = df.withColumn(\"dt\",from_unixtime(unix_timestamp(col(\"dt_iso\"),\"yyyy-MM-dd HH:mm:ss '+0000 UTC'\"),'yyyy-MM-dd HH:mm:ss').cast(\"timestamp\"))\n",
        "# Sorting by the date \n",
        "df = df.sort(asc(\"dt\"))\n",
        "df.show()"
      ],
      "metadata": {
        "colab": {
          "base_uri": "https://localhost:8080/"
        },
        "id": "riIC2Pbs2l8e",
        "outputId": "8905da7f-02e8-46f4-c8a7-51dbbc4e3b3c"
      },
      "execution_count": 5,
      "outputs": [
        {
          "output_type": "stream",
          "name": "stdout",
          "text": [
            "+-------------------+--------------------+--------+---------+---------+----------+------+----------+--------+--------+--------+---------+----------+--------+----------+--------+-------+-------+-------+-------+----------+----------+------------+--------------------+------------+\n",
            "|                 dt|              dt_iso|timezone|city_name|      lat|       lon|  temp|feels_like|temp_min|temp_max|pressure|sea_level|grnd_level|humidity|wind_speed|wind_deg|rain_1h|rain_3h|snow_1h|snow_3h|clouds_all|weather_id|weather_main| weather_description|weather_icon|\n",
            "+-------------------+--------------------+--------+---------+---------+----------+------+----------+--------+--------+--------+---------+----------+--------+----------+--------+-------+-------+-------+-------+----------+----------+------------+--------------------+------------+\n",
            "|1979-01-01 00:00:00|1979-01-01 00:00:...|  -18000| New York|40.712775|-74.005973|280.34|    276.58|  280.33|  280.35|    1030|     null|      null|      93|       6.7|     170|   null|   null|   null|   null|        90|       741|         Fog|                 fog|         50n|\n",
            "|1979-01-01 00:00:00|1979-01-01 00:00:...|  -18000| New York|40.712775|-74.005973|280.34|    276.58|  280.33|  280.35|    1030|     null|      null|      93|       6.7|     170|   null|   null|   null|   null|        90|       500|        Rain|          light rain|         10n|\n",
            "|1979-01-01 00:00:00|1979-01-01 00:00:...|  -18000| New York|40.712775|-74.005973|280.34|    276.58|  280.33|  280.35|    1030|     null|      null|      93|       6.7|     170|   null|   null|   null|   null|        90|       310|     Drizzle|light intensity d...|         09n|\n",
            "|1979-01-01 01:00:00|1979-01-01 01:00:...|  -18000| New York|40.712775|-74.005973|280.34|    276.58|  280.33|  280.35|    1030|     null|      null|      93|       6.7|     170|   null|   null|   null|   null|        90|       310|     Drizzle|light intensity d...|         09n|\n",
            "|1979-01-01 01:00:00|1979-01-01 01:00:...|  -18000| New York|40.712775|-74.005973|280.34|    276.58|  280.33|  280.35|    1030|     null|      null|      93|       6.7|     170|   null|   null|   null|   null|        90|       500|        Rain|          light rain|         10n|\n",
            "|1979-01-01 01:00:00|1979-01-01 01:00:...|  -18000| New York|40.712775|-74.005973|280.34|    276.58|  280.33|  280.35|    1030|     null|      null|      93|       6.7|     170|   null|   null|   null|   null|        90|       741|         Fog|                 fog|         50n|\n",
            "|1979-01-01 02:00:00|1979-01-01 02:00:...|  -18000| New York|40.712775|-74.005973|280.51|    276.79|  279.17|  281.55|    1029|     null|      null|      93|       6.7|     170|   null|   null|   null|   null|        90|       500|        Rain|          light rain|         10n|\n",
            "|1979-01-01 03:00:00|1979-01-01 03:00:...|  -18000| New York|40.712775|-74.005973|281.34|    278.39|  280.85|  281.44|    1029|     null|      null|      93|       5.2|     190|   null|   null|   null|   null|        90|       500|        Rain|          light rain|         10n|\n",
            "|1979-01-01 04:00:00|1979-01-01 04:00:...|  -18000| New York|40.712775|-74.005973|281.34|    278.39|  280.85|  281.44|    1029|     null|      null|      93|       5.2|     190|   null|   null|   null|   null|        90|       500|        Rain|          light rain|         10n|\n",
            "|1979-01-01 05:00:00|1979-01-01 05:00:...|  -18000| New York|40.712775|-74.005973|281.51|    278.43|  281.51|  281.51|    1026|     null|      null|      89|      5.67|     184|   null|   null|   null|   null|       100|       804|      Clouds|     overcast clouds|         04n|\n",
            "|1979-01-01 06:00:00|1979-01-01 06:00:...|  -18000| New York|40.712775|-74.005973|281.91|    278.44|  280.85|  282.04|    1026|     null|      null|      93|       7.2|     170|   null|   null|   null|   null|        90|       500|        Rain|          light rain|         10n|\n",
            "|1979-01-01 07:00:00|1979-01-01 07:00:...|  -18000| New York|40.712775|-74.005973|281.91|    278.62|  280.85|  282.04|    1025|     null|      null|      93|       6.6|     180|   0.18|   null|   null|   null|        90|       500|        Rain|          light rain|         10n|\n",
            "|1979-01-01 07:00:00|1979-01-01 07:00:...|  -18000| New York|40.712775|-74.005973|281.91|    278.62|  280.85|  282.04|    1025|     null|      null|      93|       6.6|     180|   0.18|   null|   null|   null|        90|       301|     Drizzle|             drizzle|         09n|\n",
            "|1979-01-01 08:00:00|1979-01-01 08:00:...|  -18000| New York|40.712775|-74.005973|282.21|       279|  281.22|  283.02|    1024|     null|      null|      92|       6.6|     200|   0.15|   null|   null|   null|        90|       500|        Rain|          light rain|         10n|\n",
            "|1979-01-01 09:00:00|1979-01-01 09:00:...|  -18000| New York|40.712775|-74.005973|282.14|    279.21|  280.35|  282.53|    1023|     null|      null|      93|       5.7|     200|   null|   null|   null|   null|        90|       500|        Rain|          light rain|         10n|\n",
            "|1979-01-01 10:00:00|1979-01-01 10:00:...|  -18000| New York|40.712775|-74.005973|282.14|    279.21|  280.35|  282.53|    1023|     null|      null|      93|       5.7|     200|   null|   null|   null|   null|        90|       500|        Rain|          light rain|         10n|\n",
            "|1979-01-01 11:00:00|1979-01-01 11:00:...|  -18000| New York|40.712775|-74.005973|283.03|     282.2|  282.36|  283.71|    1022|     null|      null|      94|         2|     160|   null|   null|   null|   null|        90|       804|      Clouds|     overcast clouds|         04n|\n",
            "|1979-01-01 12:00:00|1979-01-01 12:00:...|  -18000| New York|40.712775|-74.005973|282.89|    281.02|  277.55|  284.23|    1022|     null|      null|      93|       3.6|     160|   null|   null|   null|   null|        90|       741|         Fog|                 fog|         50n|\n",
            "|1979-01-01 13:00:00|1979-01-01 13:00:...|  -18000| New York|40.712775|-74.005973|282.86|    280.99|  277.55|  284.23|    1022|     null|      null|      92|       3.6|     160|   null|   null|   null|   null|        90|       520|        Rain|light intensity s...|         09d|\n",
            "|1979-01-01 14:00:00|1979-01-01 14:00:...|  -18000| New York|40.712775|-74.005973|283.72|    283.18|  282.04|  285.33|    1022|     null|      null|      90|       5.1|     180|   0.19|   null|   null|   null|        90|       300|     Drizzle|light intensity d...|         09d|\n",
            "+-------------------+--------------------+--------+---------+---------+----------+------+----------+--------+--------+--------+---------+----------+--------+----------+--------+-------+-------+-------+-------+----------+----------+------------+--------------------+------------+\n",
            "only showing top 20 rows\n",
            "\n"
          ]
        }
      ]
    },
    {
      "cell_type": "markdown",
      "source": [
        "Check the first date and the last date in the dataset"
      ],
      "metadata": {
        "id": "Zs7sZkvb23iU"
      }
    },
    {
      "cell_type": "code",
      "source": [
        "# Listing the min and the max dates\n",
        "first = df.agg({'dt': \"min\"}).collect()[0][0] \n",
        "last = df.agg({'dt': \"max\"}).collect()[0][0]\n",
        "print(f\"First date {first}\")\n",
        "print(f\"Most recent date {last}\")"
      ],
      "metadata": {
        "colab": {
          "base_uri": "https://localhost:8080/"
        },
        "id": "2CT_4gNY2xXv",
        "outputId": "cbc0bfa2-1760-405b-8b85-d00a12460575"
      },
      "execution_count": 6,
      "outputs": [
        {
          "output_type": "stream",
          "name": "stdout",
          "text": [
            "First date 1979-01-01 00:00:00\n",
            "Most recent date 2021-12-11 23:00:00\n"
          ]
        }
      ]
    },
    {
      "cell_type": "code",
      "source": [
        "df = df.withColumn(\"date\",to_date(\"dt_iso\"))\n",
        "df.show()"
      ],
      "metadata": {
        "colab": {
          "base_uri": "https://localhost:8080/"
        },
        "id": "KZVDBzqg2_rP",
        "outputId": "d482db6c-dd77-40c8-e72e-da6cbe778bc9"
      },
      "execution_count": 7,
      "outputs": [
        {
          "output_type": "stream",
          "name": "stdout",
          "text": [
            "+-------------------+--------------------+--------+---------+---------+----------+------+----------+--------+--------+--------+---------+----------+--------+----------+--------+-------+-------+-------+-------+----------+----------+------------+--------------------+------------+----------+\n",
            "|                 dt|              dt_iso|timezone|city_name|      lat|       lon|  temp|feels_like|temp_min|temp_max|pressure|sea_level|grnd_level|humidity|wind_speed|wind_deg|rain_1h|rain_3h|snow_1h|snow_3h|clouds_all|weather_id|weather_main| weather_description|weather_icon|      date|\n",
            "+-------------------+--------------------+--------+---------+---------+----------+------+----------+--------+--------+--------+---------+----------+--------+----------+--------+-------+-------+-------+-------+----------+----------+------------+--------------------+------------+----------+\n",
            "|1979-01-01 00:00:00|1979-01-01 00:00:...|  -18000| New York|40.712775|-74.005973|280.34|    276.58|  280.33|  280.35|    1030|     null|      null|      93|       6.7|     170|   null|   null|   null|   null|        90|       741|         Fog|                 fog|         50n|1979-01-01|\n",
            "|1979-01-01 00:00:00|1979-01-01 00:00:...|  -18000| New York|40.712775|-74.005973|280.34|    276.58|  280.33|  280.35|    1030|     null|      null|      93|       6.7|     170|   null|   null|   null|   null|        90|       500|        Rain|          light rain|         10n|1979-01-01|\n",
            "|1979-01-01 00:00:00|1979-01-01 00:00:...|  -18000| New York|40.712775|-74.005973|280.34|    276.58|  280.33|  280.35|    1030|     null|      null|      93|       6.7|     170|   null|   null|   null|   null|        90|       310|     Drizzle|light intensity d...|         09n|1979-01-01|\n",
            "|1979-01-01 01:00:00|1979-01-01 01:00:...|  -18000| New York|40.712775|-74.005973|280.34|    276.58|  280.33|  280.35|    1030|     null|      null|      93|       6.7|     170|   null|   null|   null|   null|        90|       310|     Drizzle|light intensity d...|         09n|1979-01-01|\n",
            "|1979-01-01 01:00:00|1979-01-01 01:00:...|  -18000| New York|40.712775|-74.005973|280.34|    276.58|  280.33|  280.35|    1030|     null|      null|      93|       6.7|     170|   null|   null|   null|   null|        90|       500|        Rain|          light rain|         10n|1979-01-01|\n",
            "|1979-01-01 01:00:00|1979-01-01 01:00:...|  -18000| New York|40.712775|-74.005973|280.34|    276.58|  280.33|  280.35|    1030|     null|      null|      93|       6.7|     170|   null|   null|   null|   null|        90|       741|         Fog|                 fog|         50n|1979-01-01|\n",
            "|1979-01-01 02:00:00|1979-01-01 02:00:...|  -18000| New York|40.712775|-74.005973|280.51|    276.79|  279.17|  281.55|    1029|     null|      null|      93|       6.7|     170|   null|   null|   null|   null|        90|       500|        Rain|          light rain|         10n|1979-01-01|\n",
            "|1979-01-01 03:00:00|1979-01-01 03:00:...|  -18000| New York|40.712775|-74.005973|281.34|    278.39|  280.85|  281.44|    1029|     null|      null|      93|       5.2|     190|   null|   null|   null|   null|        90|       500|        Rain|          light rain|         10n|1979-01-01|\n",
            "|1979-01-01 04:00:00|1979-01-01 04:00:...|  -18000| New York|40.712775|-74.005973|281.34|    278.39|  280.85|  281.44|    1029|     null|      null|      93|       5.2|     190|   null|   null|   null|   null|        90|       500|        Rain|          light rain|         10n|1979-01-01|\n",
            "|1979-01-01 05:00:00|1979-01-01 05:00:...|  -18000| New York|40.712775|-74.005973|281.51|    278.43|  281.51|  281.51|    1026|     null|      null|      89|      5.67|     184|   null|   null|   null|   null|       100|       804|      Clouds|     overcast clouds|         04n|1979-01-01|\n",
            "|1979-01-01 06:00:00|1979-01-01 06:00:...|  -18000| New York|40.712775|-74.005973|281.91|    278.44|  280.85|  282.04|    1026|     null|      null|      93|       7.2|     170|   null|   null|   null|   null|        90|       500|        Rain|          light rain|         10n|1979-01-01|\n",
            "|1979-01-01 07:00:00|1979-01-01 07:00:...|  -18000| New York|40.712775|-74.005973|281.91|    278.62|  280.85|  282.04|    1025|     null|      null|      93|       6.6|     180|   0.18|   null|   null|   null|        90|       500|        Rain|          light rain|         10n|1979-01-01|\n",
            "|1979-01-01 07:00:00|1979-01-01 07:00:...|  -18000| New York|40.712775|-74.005973|281.91|    278.62|  280.85|  282.04|    1025|     null|      null|      93|       6.6|     180|   0.18|   null|   null|   null|        90|       301|     Drizzle|             drizzle|         09n|1979-01-01|\n",
            "|1979-01-01 08:00:00|1979-01-01 08:00:...|  -18000| New York|40.712775|-74.005973|282.21|       279|  281.22|  283.02|    1024|     null|      null|      92|       6.6|     200|   0.15|   null|   null|   null|        90|       500|        Rain|          light rain|         10n|1979-01-01|\n",
            "|1979-01-01 09:00:00|1979-01-01 09:00:...|  -18000| New York|40.712775|-74.005973|282.14|    279.21|  280.35|  282.53|    1023|     null|      null|      93|       5.7|     200|   null|   null|   null|   null|        90|       500|        Rain|          light rain|         10n|1979-01-01|\n",
            "|1979-01-01 10:00:00|1979-01-01 10:00:...|  -18000| New York|40.712775|-74.005973|282.14|    279.21|  280.35|  282.53|    1023|     null|      null|      93|       5.7|     200|   null|   null|   null|   null|        90|       500|        Rain|          light rain|         10n|1979-01-01|\n",
            "|1979-01-01 11:00:00|1979-01-01 11:00:...|  -18000| New York|40.712775|-74.005973|283.03|     282.2|  282.36|  283.71|    1022|     null|      null|      94|         2|     160|   null|   null|   null|   null|        90|       804|      Clouds|     overcast clouds|         04n|1979-01-01|\n",
            "|1979-01-01 12:00:00|1979-01-01 12:00:...|  -18000| New York|40.712775|-74.005973|282.89|    281.02|  277.55|  284.23|    1022|     null|      null|      93|       3.6|     160|   null|   null|   null|   null|        90|       741|         Fog|                 fog|         50n|1979-01-01|\n",
            "|1979-01-01 13:00:00|1979-01-01 13:00:...|  -18000| New York|40.712775|-74.005973|282.86|    280.99|  277.55|  284.23|    1022|     null|      null|      92|       3.6|     160|   null|   null|   null|   null|        90|       520|        Rain|light intensity s...|         09d|1979-01-01|\n",
            "|1979-01-01 14:00:00|1979-01-01 14:00:...|  -18000| New York|40.712775|-74.005973|283.72|    283.18|  282.04|  285.33|    1022|     null|      null|      90|       5.1|     180|   0.19|   null|   null|   null|        90|       300|     Drizzle|light intensity d...|         09d|1979-01-01|\n",
            "+-------------------+--------------------+--------+---------+---------+----------+------+----------+--------+--------+--------+---------+----------+--------+----------+--------+-------+-------+-------+-------+----------+----------+------------+--------------------+------------+----------+\n",
            "only showing top 20 rows\n",
            "\n"
          ]
        }
      ]
    },
    {
      "cell_type": "markdown",
      "source": [
        "### Get hourly data"
      ],
      "metadata": {
        "id": "3SMdZ-vL3PDo"
      }
    },
    {
      "cell_type": "code",
      "source": [
        "# Aggregating to hourly level\n",
        "features = ['temp', 'pressure', 'wind_speed']\n",
        "data_col = ['dt', 'date'] + features\n",
        "df_data = df.select(data_col)\\\n",
        "                   .withColumn(\"temp\", avg(\"temp\").over(Window.partitionBy(\"dt\"))) \\\n",
        "                   .withColumn(\"pressure\", avg(\"pressure\").over(Window.partitionBy(\"dt\"))) \\\n",
        "                   .withColumn(\"wind_speed\", avg(\"wind_speed\").over(Window.partitionBy(\"dt\")))\n",
        "df_data.show()"
      ],
      "metadata": {
        "colab": {
          "base_uri": "https://localhost:8080/"
        },
        "id": "kZDCqmdI3Wc8",
        "outputId": "819b16e5-0105-4067-cd6e-7e8d1363fc7f"
      },
      "execution_count": 8,
      "outputs": [
        {
          "output_type": "stream",
          "name": "stdout",
          "text": [
            "+-------------------+----------+------+--------+----------+\n",
            "|                 dt|      date|  temp|pressure|wind_speed|\n",
            "+-------------------+----------+------+--------+----------+\n",
            "|1979-01-01 00:00:00|1979-01-01|280.34|  1030.0|       6.7|\n",
            "|1979-01-01 00:00:00|1979-01-01|280.34|  1030.0|       6.7|\n",
            "|1979-01-01 00:00:00|1979-01-01|280.34|  1030.0|       6.7|\n",
            "|1979-01-01 01:00:00|1979-01-01|280.34|  1030.0|       6.7|\n",
            "|1979-01-01 01:00:00|1979-01-01|280.34|  1030.0|       6.7|\n",
            "|1979-01-01 01:00:00|1979-01-01|280.34|  1030.0|       6.7|\n",
            "|1979-01-01 02:00:00|1979-01-01|280.51|  1029.0|       6.7|\n",
            "|1979-01-01 03:00:00|1979-01-01|281.34|  1029.0|       5.2|\n",
            "|1979-01-01 04:00:00|1979-01-01|281.34|  1029.0|       5.2|\n",
            "|1979-01-01 05:00:00|1979-01-01|281.51|  1026.0|      5.67|\n",
            "|1979-01-01 06:00:00|1979-01-01|281.91|  1026.0|       7.2|\n",
            "|1979-01-01 07:00:00|1979-01-01|281.91|  1025.0|       6.6|\n",
            "|1979-01-01 07:00:00|1979-01-01|281.91|  1025.0|       6.6|\n",
            "|1979-01-01 08:00:00|1979-01-01|282.21|  1024.0|       6.6|\n",
            "|1979-01-01 09:00:00|1979-01-01|282.14|  1023.0|       5.7|\n",
            "|1979-01-01 10:00:00|1979-01-01|282.14|  1023.0|       5.7|\n",
            "|1979-01-01 11:00:00|1979-01-01|283.03|  1022.0|       2.0|\n",
            "|1979-01-01 12:00:00|1979-01-01|282.89|  1022.0|       3.6|\n",
            "|1979-01-01 13:00:00|1979-01-01|282.86|  1022.0|       3.6|\n",
            "|1979-01-01 14:00:00|1979-01-01|283.72|  1022.0|       5.1|\n",
            "+-------------------+----------+------+--------+----------+\n",
            "only showing top 20 rows\n",
            "\n"
          ]
        }
      ]
    },
    {
      "cell_type": "markdown",
      "source": [
        "Final Features used to feed models includes: \n",
        "- $X_{temp}$\n",
        "- $X_{day_{sin}}$ = $sin(\\frac{2\\pi X_{hour}}{24} )$\n",
        "- $X_{day_{cos}}$ = $cos(\\frac{2\\pi X_{hour}}{24} )$\n",
        "- $X_{month_{sin}}$ = $sin(\\frac{2\\pi X_{timestamp}}{365.25\\times 24\\times 60 \\times 60} )$\n",
        "- $X_{month_{cos}}$ = $cos(\\frac{2\\pi X_{timestamp}}{365.25\\times 24\\times 60 \\times 60} )$\n",
        "- $X_{pressure}$\n",
        "- $X_{wind_{speed}}$"
      ],
      "metadata": {
        "id": "aTBPv0TX3-xl"
      }
    },
    {
      "cell_type": "code",
      "source": [
        "# get integer timestamp\n",
        "df_data = df_data.withColumn('timestamp',unix_timestamp(col('dt'), format='yyyy-MM-dd HH:mm:ss').alias('unix_timestamp'))\n",
        "\n",
        "# hours in day\n",
        "HOUR = 24\n",
        "# Seconds in day \n",
        "SECOND = HOUR * 60 * 60\n",
        "# Seconds in year \n",
        "YEAR = (365.25) * SECOND\n",
        "\n",
        "features_final = ['temp', 'day_cos', 'day_sin', 'month_sin', 'month_cos', 'pressure', 'wind_speed']\n",
        "df_final = df_data \\\n",
        "       .withColumn('hour', hour(df_data.dt)) \\\n",
        "       .withColumn('month', month(df_data.dt)) \\\n",
        "       .withColumn('day_cos', cos(col('hour') * (2 * np.pi / HOUR))) \\\n",
        "       .withColumn('day_sin', sin(col('hour') * (2 * np.pi / HOUR))) \\\n",
        "       .withColumn('month_cos', cos(col('timestamp') * (2 * np.pi /YEAR))) \\\n",
        "       .withColumn('month_sin', sin(col('timestamp') * (2 * np.pi /YEAR))) \\\n",
        "       .select(features_final)\n",
        "df_final.show()"
      ],
      "metadata": {
        "colab": {
          "base_uri": "https://localhost:8080/"
        },
        "id": "-fiL8pCZ3qIV",
        "outputId": "8393e607-ae23-4e11-9ff4-b8857c6b265e"
      },
      "execution_count": 9,
      "outputs": [
        {
          "output_type": "stream",
          "name": "stdout",
          "text": [
            "+------+--------------------+--------------------+--------------------+------------------+--------+----------+\n",
            "|  temp|             day_cos|             day_sin|           month_sin|         month_cos|pressure|wind_speed|\n",
            "+------+--------------------+--------------------+--------------------+------------------+--------+----------+\n",
            "|280.34|                 1.0|                 0.0|-0.00430059270297...|0.9999907524084426|  1030.0|       6.7|\n",
            "|280.34|                 1.0|                 0.0|-0.00430059270297...|0.9999907524084426|  1030.0|       6.7|\n",
            "|280.34|                 1.0|                 0.0|-0.00430059270297...|0.9999907524084426|  1030.0|       6.7|\n",
            "|280.34|  0.9659258262890683| 0.25881904510252074|-0.00358383062804...|0.9999935780583941|  1030.0|       6.7|\n",
            "|280.34|  0.9659258262890683| 0.25881904510252074|-0.00358383062804...|0.9999935780583941|  1030.0|       6.7|\n",
            "|280.34|  0.9659258262890683| 0.25881904510252074|-0.00358383062804...|0.9999935780583941|  1030.0|       6.7|\n",
            "|280.51|  0.8660254037844387| 0.49999999999999994|-0.00286706671189...|0.9999958899557886|  1029.0|       6.7|\n",
            "|281.34|  0.7071067811865476|  0.7071067811865475|-0.00215030132277...|0.9999976880994382|  1029.0|       5.2|\n",
            "|281.34|  0.5000000000000001|  0.8660254037844386|-0.00143353482892...|0.9999989724884193|  1029.0|       5.2|\n",
            "|281.51| 0.25881904510252096|  0.9659258262890682|-7.16767598580483...|0.9999997431220718|  1026.0|      5.67|\n",
            "|281.91|6.123233995736766...|                 1.0|-2.20436423846523...|               1.0|  1026.0|       7.2|\n",
            "|281.91|-0.25881904510252063|  0.9659258262890683|7.167675985831805E-4|0.9999997431220718|  1025.0|       6.6|\n",
            "|281.91|-0.25881904510252063|  0.9659258262890683|7.167675985831805E-4|0.9999997431220718|  1025.0|       6.6|\n",
            "|282.21| -0.4999999999999998|  0.8660254037844387|0.001433534828925...|0.9999989724884193|  1024.0|       6.6|\n",
            "|282.14| -0.7071067811865475|  0.7071067811865476|0.002150301322772...|0.9999976880994382|  1023.0|       5.7|\n",
            "|282.14| -0.8660254037844385|  0.5000000000000003|0.002867066711897...|0.9999958899557886|  1023.0|       5.7|\n",
            "|283.03| -0.9659258262890682|   0.258819045102521|0.003583830628043...|0.9999935780583941|  1022.0|       2.0|\n",
            "|282.89|                -1.0|1.224646799147353...|0.004300592702982189|0.9999907524084426|  1022.0|       3.6|\n",
            "|282.86| -0.9659258262890684|-0.25881904510252035|0.005017352568466237|0.9999874130073857|  1022.0|       3.6|\n",
            "|283.72| -0.8660254037844388| -0.4999999999999997|0.005734109856248914|0.9999835598569391|  1022.0|       5.1|\n",
            "+------+--------------------+--------------------+--------------------+------------------+--------+----------+\n",
            "only showing top 20 rows\n",
            "\n"
          ]
        }
      ]
    },
    {
      "cell_type": "code",
      "source": [
        "df_arima = df_data \\\n",
        "       .withColumn('hour', hour(df_data.dt)) \\\n",
        "       .withColumn('month', month(df_data.dt)) \\\n",
        "       .select(['dt', 'temp'] )\n",
        "df_arima.show()"
      ],
      "metadata": {
        "colab": {
          "base_uri": "https://localhost:8080/"
        },
        "id": "ntHO1lYFTAev",
        "outputId": "e82ea630-2dd0-4ae3-aff9-672881586e45"
      },
      "execution_count": 16,
      "outputs": [
        {
          "output_type": "stream",
          "name": "stdout",
          "text": [
            "+-------------------+------+\n",
            "|                 dt|  temp|\n",
            "+-------------------+------+\n",
            "|1979-01-01 00:00:00|280.34|\n",
            "|1979-01-01 00:00:00|280.34|\n",
            "|1979-01-01 00:00:00|280.34|\n",
            "|1979-01-01 01:00:00|280.34|\n",
            "|1979-01-01 01:00:00|280.34|\n",
            "|1979-01-01 01:00:00|280.34|\n",
            "|1979-01-01 02:00:00|280.51|\n",
            "|1979-01-01 03:00:00|281.34|\n",
            "|1979-01-01 04:00:00|281.34|\n",
            "|1979-01-01 05:00:00|281.51|\n",
            "|1979-01-01 06:00:00|281.91|\n",
            "|1979-01-01 07:00:00|281.91|\n",
            "|1979-01-01 07:00:00|281.91|\n",
            "|1979-01-01 08:00:00|282.21|\n",
            "|1979-01-01 09:00:00|282.14|\n",
            "|1979-01-01 10:00:00|282.14|\n",
            "|1979-01-01 11:00:00|283.03|\n",
            "|1979-01-01 12:00:00|282.89|\n",
            "|1979-01-01 13:00:00|282.86|\n",
            "|1979-01-01 14:00:00|283.72|\n",
            "+-------------------+------+\n",
            "only showing top 20 rows\n",
            "\n"
          ]
        }
      ]
    },
    {
      "cell_type": "code",
      "source": [
        "import os\n",
        "if not os.path.exists(\"/content/data/pd_final\"):\n",
        "      pd_final = df_final.toPandas()\n",
        "      pd_final.to_pickle('/content/data/pd_final.pkl')\n",
        "else:\n",
        "      pd_final = pd.read_pickle(\"/content/data/pd_final.pkl\")\n",
        "display(pd_final)\n",
        "if not os.path.exists(\"/content/data/pd_arima\"):\n",
        "      pd_arima = df_arima.toPandas()\n",
        "      pd_arima.to_pickle('/content/data/pd_arima.pkl')\n",
        "else:\n",
        "      pd_arima = pd.read_pickle(\"/content/data/pd_arima.pkl\")\n",
        "pd_arima"
      ],
      "metadata": {
        "colab": {
          "base_uri": "https://localhost:8080/",
          "height": 830
        },
        "id": "Nw1aT4Ze5wZK",
        "outputId": "7cf4c48e-92cf-47c8-ff33-9eb16515f26f"
      },
      "execution_count": 18,
      "outputs": [
        {
          "output_type": "display_data",
          "data": {
            "text/html": [
              "\n",
              "  <div id=\"df-7f39d573-c5ec-4081-aa5f-d5fd872d5800\">\n",
              "    <div class=\"colab-df-container\">\n",
              "      <div>\n",
              "<style scoped>\n",
              "    .dataframe tbody tr th:only-of-type {\n",
              "        vertical-align: middle;\n",
              "    }\n",
              "\n",
              "    .dataframe tbody tr th {\n",
              "        vertical-align: top;\n",
              "    }\n",
              "\n",
              "    .dataframe thead th {\n",
              "        text-align: right;\n",
              "    }\n",
              "</style>\n",
              "<table border=\"1\" class=\"dataframe\">\n",
              "  <thead>\n",
              "    <tr style=\"text-align: right;\">\n",
              "      <th></th>\n",
              "      <th>temp</th>\n",
              "      <th>day_cos</th>\n",
              "      <th>day_sin</th>\n",
              "      <th>month_sin</th>\n",
              "      <th>month_cos</th>\n",
              "      <th>pressure</th>\n",
              "      <th>wind_speed</th>\n",
              "    </tr>\n",
              "  </thead>\n",
              "  <tbody>\n",
              "    <tr>\n",
              "      <th>0</th>\n",
              "      <td>280.34</td>\n",
              "      <td>1.000000</td>\n",
              "      <td>0.000000</td>\n",
              "      <td>-0.004301</td>\n",
              "      <td>0.999991</td>\n",
              "      <td>1030.0</td>\n",
              "      <td>6.70</td>\n",
              "    </tr>\n",
              "    <tr>\n",
              "      <th>1</th>\n",
              "      <td>280.34</td>\n",
              "      <td>1.000000</td>\n",
              "      <td>0.000000</td>\n",
              "      <td>-0.004301</td>\n",
              "      <td>0.999991</td>\n",
              "      <td>1030.0</td>\n",
              "      <td>6.70</td>\n",
              "    </tr>\n",
              "    <tr>\n",
              "      <th>2</th>\n",
              "      <td>280.34</td>\n",
              "      <td>1.000000</td>\n",
              "      <td>0.000000</td>\n",
              "      <td>-0.004301</td>\n",
              "      <td>0.999991</td>\n",
              "      <td>1030.0</td>\n",
              "      <td>6.70</td>\n",
              "    </tr>\n",
              "    <tr>\n",
              "      <th>3</th>\n",
              "      <td>280.34</td>\n",
              "      <td>0.965926</td>\n",
              "      <td>0.258819</td>\n",
              "      <td>-0.003584</td>\n",
              "      <td>0.999994</td>\n",
              "      <td>1030.0</td>\n",
              "      <td>6.70</td>\n",
              "    </tr>\n",
              "    <tr>\n",
              "      <th>4</th>\n",
              "      <td>280.34</td>\n",
              "      <td>0.965926</td>\n",
              "      <td>0.258819</td>\n",
              "      <td>-0.003584</td>\n",
              "      <td>0.999994</td>\n",
              "      <td>1030.0</td>\n",
              "      <td>6.70</td>\n",
              "    </tr>\n",
              "    <tr>\n",
              "      <th>...</th>\n",
              "      <td>...</td>\n",
              "      <td>...</td>\n",
              "      <td>...</td>\n",
              "      <td>...</td>\n",
              "      <td>...</td>\n",
              "      <td>...</td>\n",
              "      <td>...</td>\n",
              "    </tr>\n",
              "    <tr>\n",
              "      <th>416544</th>\n",
              "      <td>289.09</td>\n",
              "      <td>0.258819</td>\n",
              "      <td>-0.965926</td>\n",
              "      <td>-0.340673</td>\n",
              "      <td>0.940182</td>\n",
              "      <td>1004.0</td>\n",
              "      <td>0.45</td>\n",
              "    </tr>\n",
              "    <tr>\n",
              "      <th>416545</th>\n",
              "      <td>289.64</td>\n",
              "      <td>0.500000</td>\n",
              "      <td>-0.866025</td>\n",
              "      <td>-0.339999</td>\n",
              "      <td>0.940426</td>\n",
              "      <td>1003.0</td>\n",
              "      <td>0.45</td>\n",
              "    </tr>\n",
              "    <tr>\n",
              "      <th>416546</th>\n",
              "      <td>291.16</td>\n",
              "      <td>0.707107</td>\n",
              "      <td>-0.707107</td>\n",
              "      <td>-0.339325</td>\n",
              "      <td>0.940669</td>\n",
              "      <td>1003.0</td>\n",
              "      <td>0.89</td>\n",
              "    </tr>\n",
              "    <tr>\n",
              "      <th>416547</th>\n",
              "      <td>291.23</td>\n",
              "      <td>0.866025</td>\n",
              "      <td>-0.500000</td>\n",
              "      <td>-0.338650</td>\n",
              "      <td>0.940912</td>\n",
              "      <td>1003.0</td>\n",
              "      <td>0.89</td>\n",
              "    </tr>\n",
              "    <tr>\n",
              "      <th>416548</th>\n",
              "      <td>291.44</td>\n",
              "      <td>0.965926</td>\n",
              "      <td>-0.258819</td>\n",
              "      <td>-0.337976</td>\n",
              "      <td>0.941155</td>\n",
              "      <td>1002.0</td>\n",
              "      <td>0.45</td>\n",
              "    </tr>\n",
              "  </tbody>\n",
              "</table>\n",
              "<p>416549 rows × 7 columns</p>\n",
              "</div>\n",
              "      <button class=\"colab-df-convert\" onclick=\"convertToInteractive('df-7f39d573-c5ec-4081-aa5f-d5fd872d5800')\"\n",
              "              title=\"Convert this dataframe to an interactive table.\"\n",
              "              style=\"display:none;\">\n",
              "        \n",
              "  <svg xmlns=\"http://www.w3.org/2000/svg\" height=\"24px\"viewBox=\"0 0 24 24\"\n",
              "       width=\"24px\">\n",
              "    <path d=\"M0 0h24v24H0V0z\" fill=\"none\"/>\n",
              "    <path d=\"M18.56 5.44l.94 2.06.94-2.06 2.06-.94-2.06-.94-.94-2.06-.94 2.06-2.06.94zm-11 1L8.5 8.5l.94-2.06 2.06-.94-2.06-.94L8.5 2.5l-.94 2.06-2.06.94zm10 10l.94 2.06.94-2.06 2.06-.94-2.06-.94-.94-2.06-.94 2.06-2.06.94z\"/><path d=\"M17.41 7.96l-1.37-1.37c-.4-.4-.92-.59-1.43-.59-.52 0-1.04.2-1.43.59L10.3 9.45l-7.72 7.72c-.78.78-.78 2.05 0 2.83L4 21.41c.39.39.9.59 1.41.59.51 0 1.02-.2 1.41-.59l7.78-7.78 2.81-2.81c.8-.78.8-2.07 0-2.86zM5.41 20L4 18.59l7.72-7.72 1.47 1.35L5.41 20z\"/>\n",
              "  </svg>\n",
              "      </button>\n",
              "      \n",
              "  <style>\n",
              "    .colab-df-container {\n",
              "      display:flex;\n",
              "      flex-wrap:wrap;\n",
              "      gap: 12px;\n",
              "    }\n",
              "\n",
              "    .colab-df-convert {\n",
              "      background-color: #E8F0FE;\n",
              "      border: none;\n",
              "      border-radius: 50%;\n",
              "      cursor: pointer;\n",
              "      display: none;\n",
              "      fill: #1967D2;\n",
              "      height: 32px;\n",
              "      padding: 0 0 0 0;\n",
              "      width: 32px;\n",
              "    }\n",
              "\n",
              "    .colab-df-convert:hover {\n",
              "      background-color: #E2EBFA;\n",
              "      box-shadow: 0px 1px 2px rgba(60, 64, 67, 0.3), 0px 1px 3px 1px rgba(60, 64, 67, 0.15);\n",
              "      fill: #174EA6;\n",
              "    }\n",
              "\n",
              "    [theme=dark] .colab-df-convert {\n",
              "      background-color: #3B4455;\n",
              "      fill: #D2E3FC;\n",
              "    }\n",
              "\n",
              "    [theme=dark] .colab-df-convert:hover {\n",
              "      background-color: #434B5C;\n",
              "      box-shadow: 0px 1px 3px 1px rgba(0, 0, 0, 0.15);\n",
              "      filter: drop-shadow(0px 1px 2px rgba(0, 0, 0, 0.3));\n",
              "      fill: #FFFFFF;\n",
              "    }\n",
              "  </style>\n",
              "\n",
              "      <script>\n",
              "        const buttonEl =\n",
              "          document.querySelector('#df-7f39d573-c5ec-4081-aa5f-d5fd872d5800 button.colab-df-convert');\n",
              "        buttonEl.style.display =\n",
              "          google.colab.kernel.accessAllowed ? 'block' : 'none';\n",
              "\n",
              "        async function convertToInteractive(key) {\n",
              "          const element = document.querySelector('#df-7f39d573-c5ec-4081-aa5f-d5fd872d5800');\n",
              "          const dataTable =\n",
              "            await google.colab.kernel.invokeFunction('convertToInteractive',\n",
              "                                                     [key], {});\n",
              "          if (!dataTable) return;\n",
              "\n",
              "          const docLinkHtml = 'Like what you see? Visit the ' +\n",
              "            '<a target=\"_blank\" href=https://colab.research.google.com/notebooks/data_table.ipynb>data table notebook</a>'\n",
              "            + ' to learn more about interactive tables.';\n",
              "          element.innerHTML = '';\n",
              "          dataTable['output_type'] = 'display_data';\n",
              "          await google.colab.output.renderOutput(dataTable, element);\n",
              "          const docLink = document.createElement('div');\n",
              "          docLink.innerHTML = docLinkHtml;\n",
              "          element.appendChild(docLink);\n",
              "        }\n",
              "      </script>\n",
              "    </div>\n",
              "  </div>\n",
              "  "
            ],
            "text/plain": [
              "          temp   day_cos   day_sin  month_sin  month_cos  pressure  wind_speed\n",
              "0       280.34  1.000000  0.000000  -0.004301   0.999991    1030.0        6.70\n",
              "1       280.34  1.000000  0.000000  -0.004301   0.999991    1030.0        6.70\n",
              "2       280.34  1.000000  0.000000  -0.004301   0.999991    1030.0        6.70\n",
              "3       280.34  0.965926  0.258819  -0.003584   0.999994    1030.0        6.70\n",
              "4       280.34  0.965926  0.258819  -0.003584   0.999994    1030.0        6.70\n",
              "...        ...       ...       ...        ...        ...       ...         ...\n",
              "416544  289.09  0.258819 -0.965926  -0.340673   0.940182    1004.0        0.45\n",
              "416545  289.64  0.500000 -0.866025  -0.339999   0.940426    1003.0        0.45\n",
              "416546  291.16  0.707107 -0.707107  -0.339325   0.940669    1003.0        0.89\n",
              "416547  291.23  0.866025 -0.500000  -0.338650   0.940912    1003.0        0.89\n",
              "416548  291.44  0.965926 -0.258819  -0.337976   0.941155    1002.0        0.45\n",
              "\n",
              "[416549 rows x 7 columns]"
            ]
          },
          "metadata": {}
        },
        {
          "output_type": "execute_result",
          "data": {
            "text/html": [
              "\n",
              "  <div id=\"df-5efd90c7-718c-4cbd-8dee-82b9a66b8480\">\n",
              "    <div class=\"colab-df-container\">\n",
              "      <div>\n",
              "<style scoped>\n",
              "    .dataframe tbody tr th:only-of-type {\n",
              "        vertical-align: middle;\n",
              "    }\n",
              "\n",
              "    .dataframe tbody tr th {\n",
              "        vertical-align: top;\n",
              "    }\n",
              "\n",
              "    .dataframe thead th {\n",
              "        text-align: right;\n",
              "    }\n",
              "</style>\n",
              "<table border=\"1\" class=\"dataframe\">\n",
              "  <thead>\n",
              "    <tr style=\"text-align: right;\">\n",
              "      <th></th>\n",
              "      <th>dt</th>\n",
              "      <th>temp</th>\n",
              "    </tr>\n",
              "  </thead>\n",
              "  <tbody>\n",
              "    <tr>\n",
              "      <th>0</th>\n",
              "      <td>1979-01-01 00:00:00</td>\n",
              "      <td>280.34</td>\n",
              "    </tr>\n",
              "    <tr>\n",
              "      <th>1</th>\n",
              "      <td>1979-01-01 00:00:00</td>\n",
              "      <td>280.34</td>\n",
              "    </tr>\n",
              "    <tr>\n",
              "      <th>2</th>\n",
              "      <td>1979-01-01 00:00:00</td>\n",
              "      <td>280.34</td>\n",
              "    </tr>\n",
              "    <tr>\n",
              "      <th>3</th>\n",
              "      <td>1979-01-01 01:00:00</td>\n",
              "      <td>280.34</td>\n",
              "    </tr>\n",
              "    <tr>\n",
              "      <th>4</th>\n",
              "      <td>1979-01-01 01:00:00</td>\n",
              "      <td>280.34</td>\n",
              "    </tr>\n",
              "    <tr>\n",
              "      <th>...</th>\n",
              "      <td>...</td>\n",
              "      <td>...</td>\n",
              "    </tr>\n",
              "    <tr>\n",
              "      <th>416544</th>\n",
              "      <td>2021-12-11 19:00:00</td>\n",
              "      <td>289.09</td>\n",
              "    </tr>\n",
              "    <tr>\n",
              "      <th>416545</th>\n",
              "      <td>2021-12-11 20:00:00</td>\n",
              "      <td>289.64</td>\n",
              "    </tr>\n",
              "    <tr>\n",
              "      <th>416546</th>\n",
              "      <td>2021-12-11 21:00:00</td>\n",
              "      <td>291.16</td>\n",
              "    </tr>\n",
              "    <tr>\n",
              "      <th>416547</th>\n",
              "      <td>2021-12-11 22:00:00</td>\n",
              "      <td>291.23</td>\n",
              "    </tr>\n",
              "    <tr>\n",
              "      <th>416548</th>\n",
              "      <td>2021-12-11 23:00:00</td>\n",
              "      <td>291.44</td>\n",
              "    </tr>\n",
              "  </tbody>\n",
              "</table>\n",
              "<p>416549 rows × 2 columns</p>\n",
              "</div>\n",
              "      <button class=\"colab-df-convert\" onclick=\"convertToInteractive('df-5efd90c7-718c-4cbd-8dee-82b9a66b8480')\"\n",
              "              title=\"Convert this dataframe to an interactive table.\"\n",
              "              style=\"display:none;\">\n",
              "        \n",
              "  <svg xmlns=\"http://www.w3.org/2000/svg\" height=\"24px\"viewBox=\"0 0 24 24\"\n",
              "       width=\"24px\">\n",
              "    <path d=\"M0 0h24v24H0V0z\" fill=\"none\"/>\n",
              "    <path d=\"M18.56 5.44l.94 2.06.94-2.06 2.06-.94-2.06-.94-.94-2.06-.94 2.06-2.06.94zm-11 1L8.5 8.5l.94-2.06 2.06-.94-2.06-.94L8.5 2.5l-.94 2.06-2.06.94zm10 10l.94 2.06.94-2.06 2.06-.94-2.06-.94-.94-2.06-.94 2.06-2.06.94z\"/><path d=\"M17.41 7.96l-1.37-1.37c-.4-.4-.92-.59-1.43-.59-.52 0-1.04.2-1.43.59L10.3 9.45l-7.72 7.72c-.78.78-.78 2.05 0 2.83L4 21.41c.39.39.9.59 1.41.59.51 0 1.02-.2 1.41-.59l7.78-7.78 2.81-2.81c.8-.78.8-2.07 0-2.86zM5.41 20L4 18.59l7.72-7.72 1.47 1.35L5.41 20z\"/>\n",
              "  </svg>\n",
              "      </button>\n",
              "      \n",
              "  <style>\n",
              "    .colab-df-container {\n",
              "      display:flex;\n",
              "      flex-wrap:wrap;\n",
              "      gap: 12px;\n",
              "    }\n",
              "\n",
              "    .colab-df-convert {\n",
              "      background-color: #E8F0FE;\n",
              "      border: none;\n",
              "      border-radius: 50%;\n",
              "      cursor: pointer;\n",
              "      display: none;\n",
              "      fill: #1967D2;\n",
              "      height: 32px;\n",
              "      padding: 0 0 0 0;\n",
              "      width: 32px;\n",
              "    }\n",
              "\n",
              "    .colab-df-convert:hover {\n",
              "      background-color: #E2EBFA;\n",
              "      box-shadow: 0px 1px 2px rgba(60, 64, 67, 0.3), 0px 1px 3px 1px rgba(60, 64, 67, 0.15);\n",
              "      fill: #174EA6;\n",
              "    }\n",
              "\n",
              "    [theme=dark] .colab-df-convert {\n",
              "      background-color: #3B4455;\n",
              "      fill: #D2E3FC;\n",
              "    }\n",
              "\n",
              "    [theme=dark] .colab-df-convert:hover {\n",
              "      background-color: #434B5C;\n",
              "      box-shadow: 0px 1px 3px 1px rgba(0, 0, 0, 0.15);\n",
              "      filter: drop-shadow(0px 1px 2px rgba(0, 0, 0, 0.3));\n",
              "      fill: #FFFFFF;\n",
              "    }\n",
              "  </style>\n",
              "\n",
              "      <script>\n",
              "        const buttonEl =\n",
              "          document.querySelector('#df-5efd90c7-718c-4cbd-8dee-82b9a66b8480 button.colab-df-convert');\n",
              "        buttonEl.style.display =\n",
              "          google.colab.kernel.accessAllowed ? 'block' : 'none';\n",
              "\n",
              "        async function convertToInteractive(key) {\n",
              "          const element = document.querySelector('#df-5efd90c7-718c-4cbd-8dee-82b9a66b8480');\n",
              "          const dataTable =\n",
              "            await google.colab.kernel.invokeFunction('convertToInteractive',\n",
              "                                                     [key], {});\n",
              "          if (!dataTable) return;\n",
              "\n",
              "          const docLinkHtml = 'Like what you see? Visit the ' +\n",
              "            '<a target=\"_blank\" href=https://colab.research.google.com/notebooks/data_table.ipynb>data table notebook</a>'\n",
              "            + ' to learn more about interactive tables.';\n",
              "          element.innerHTML = '';\n",
              "          dataTable['output_type'] = 'display_data';\n",
              "          await google.colab.output.renderOutput(dataTable, element);\n",
              "          const docLink = document.createElement('div');\n",
              "          docLink.innerHTML = docLinkHtml;\n",
              "          element.appendChild(docLink);\n",
              "        }\n",
              "      </script>\n",
              "    </div>\n",
              "  </div>\n",
              "  "
            ],
            "text/plain": [
              "                        dt    temp\n",
              "0      1979-01-01 00:00:00  280.34\n",
              "1      1979-01-01 00:00:00  280.34\n",
              "2      1979-01-01 00:00:00  280.34\n",
              "3      1979-01-01 01:00:00  280.34\n",
              "4      1979-01-01 01:00:00  280.34\n",
              "...                    ...     ...\n",
              "416544 2021-12-11 19:00:00  289.09\n",
              "416545 2021-12-11 20:00:00  289.64\n",
              "416546 2021-12-11 21:00:00  291.16\n",
              "416547 2021-12-11 22:00:00  291.23\n",
              "416548 2021-12-11 23:00:00  291.44\n",
              "\n",
              "[416549 rows x 2 columns]"
            ]
          },
          "metadata": {},
          "execution_count": 18
        }
      ]
    },
    {
      "cell_type": "code",
      "source": [
        "from google.colab import files\n",
        "files.download(\"data/pd_final.pkl\")\n",
        "files.download(\"data/pd_arima.pkl\")"
      ],
      "metadata": {
        "id": "f8MuECliLKJf"
      },
      "execution_count": null,
      "outputs": []
    }
  ]
}