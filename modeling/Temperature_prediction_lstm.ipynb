{
  "nbformat": 4,
  "nbformat_minor": 0,
  "metadata": {
    "colab": {
      "name": "Temperature_prediction_lstm",
      "provenance": [],
      "collapsed_sections": []
    },
    "kernelspec": {
      "display_name": "Python 3",
      "name": "python3"
    },
    "language_info": {
      "name": "python"
    },
    "accelerator": "GPU"
  },
  "cells": [
    {
      "cell_type": "markdown",
      "metadata": {
        "id": "mExZPqG9Gbg7"
      },
      "source": [
        "Reference: https://github.com/Eligijus112/Vilnius-weather-LSTM"
      ]
    },
    {
      "cell_type": "markdown",
      "metadata": {
        "id": "PnSgYNP3PzzU"
      },
      "source": [
        "### Get Data"
      ]
    },
    {
      "cell_type": "code",
      "metadata": {
        "colab": {
          "base_uri": "https://localhost:8080/"
        },
        "id": "AoakeaoGKAGy",
        "outputId": "4eb73d29-ca35-4ec9-b2be-44e76a149203"
      },
      "source": [
        "%%bash\n",
        "if [ ! -d '/content/data' ]; then\n",
        "  git clone https://gitlab.com/Dimu_1020/big_data_final '/content/data'\n",
        "  cd '/content/data'\n",
        "else\n",
        "  echo \"Dataset already downloaded in '/content/data'\"\n",
        "fi"
      ],
      "execution_count": 1,
      "outputs": [
        {
          "output_type": "stream",
          "name": "stderr",
          "text": [
            "Cloning into '/content/data'...\n",
            "warning: redirecting to https://gitlab.com/Dimu_1020/big_data_final.git/\n"
          ]
        }
      ]
    },
    {
      "cell_type": "markdown",
      "metadata": {
        "id": "VPx17n5FP26Z"
      },
      "source": [
        "### Import dependencies"
      ]
    },
    {
      "cell_type": "code",
      "metadata": {
        "colab": {
          "base_uri": "https://localhost:8080/"
        },
        "id": "SKgOHCsiXayY",
        "outputId": "a130f54d-fa0c-44db-874c-d0825ab1f746"
      },
      "source": [
        "pip install pyspark"
      ],
      "execution_count": 2,
      "outputs": [
        {
          "output_type": "stream",
          "name": "stdout",
          "text": [
            "Collecting pyspark\n",
            "  Downloading pyspark-3.2.0.tar.gz (281.3 MB)\n",
            "\u001b[K     |████████████████████████████████| 281.3 MB 45 kB/s \n",
            "\u001b[?25hCollecting py4j==0.10.9.2\n",
            "  Downloading py4j-0.10.9.2-py2.py3-none-any.whl (198 kB)\n",
            "\u001b[K     |████████████████████████████████| 198 kB 37.1 MB/s \n",
            "\u001b[?25hBuilding wheels for collected packages: pyspark\n",
            "  Building wheel for pyspark (setup.py) ... \u001b[?25l\u001b[?25hdone\n",
            "  Created wheel for pyspark: filename=pyspark-3.2.0-py2.py3-none-any.whl size=281805912 sha256=1cc1e555ba755771ca3c0873d12f7a8aa5a1af495969f3ff03c1b2d20299232e\n",
            "  Stored in directory: /root/.cache/pip/wheels/0b/de/d2/9be5d59d7331c6c2a7c1b6d1a4f463ce107332b1ecd4e80718\n",
            "Successfully built pyspark\n",
            "Installing collected packages: py4j, pyspark\n",
            "Successfully installed py4j-0.10.9.2 pyspark-3.2.0\n"
          ]
        }
      ]
    },
    {
      "cell_type": "code",
      "metadata": {
        "id": "Rwa0CHgEIFRj",
        "colab": {
          "base_uri": "https://localhost:8080/"
        },
        "outputId": "e820548d-a912-47b1-df85-bc0b74ce1c75"
      },
      "source": [
        "# Data wrangling\n",
        "import pandas as pd \n",
        "\n",
        "# Visualization\n",
        "import matplotlib.pyplot as plt \n",
        "import seaborn as sns \n",
        "\n",
        "# Date wrangling\n",
        "import datetime\n",
        "\n",
        "# Math operations\n",
        "import numpy as np\n",
        "\n",
        "# Random sampling\n",
        "import random\n",
        "\n",
        "# sklearn\n",
        "#from sklearn.preprocessing import StandardScaler\n",
        "from sklearn.model_selection import train_test_split\n",
        "from sklearn.pipeline import make_pipeline\n",
        "\n",
        "# Keras API \n",
        "from tensorflow import keras\n",
        "\n",
        "# Deep learning \n",
        "from keras.models import Input, Model, Sequential\n",
        "from keras.layers import Dense, Dropout, LSTM, Concatenate, SimpleRNN, Masking, Flatten\n",
        "from keras import losses\n",
        "from keras.callbacks import EarlyStopping\n",
        "from keras.initializers import RandomNormal\n",
        "\n",
        "# pyspark related\n",
        "# pip install pyspark\n",
        "import pyspark\n",
        "from pyspark.sql.functions import split, explode, to_timestamp, from_unixtime, from_utc_timestamp\n",
        "from pyspark import SparkConf, SparkContext,SQLContext\n",
        "from pyspark.sql import SparkSession\n",
        "from pyspark.sql.types import IntegerType,ArrayType,StringType,DoubleType\n",
        "from pyspark.sql.functions import *\n",
        "from pyspark.sql import Window\n",
        "from pyspark.ml.feature import StandardScaler\n",
        "from pyspark.ml import Pipeline\n",
        "from pyspark.ml.feature import VectorAssembler\n",
        "#from ts.flint import FlintContext\n",
        "sc = SparkContext.getOrCreate()\n",
        "sqlContext = SQLContext(sc)"
      ],
      "execution_count": 3,
      "outputs": [
        {
          "output_type": "stream",
          "name": "stderr",
          "text": [
            "/usr/local/lib/python3.7/dist-packages/pyspark/sql/context.py:79: FutureWarning: Deprecated in 3.0.0. Use SparkSession.builder.getOrCreate() instead.\n",
            "  FutureWarning\n"
          ]
        }
      ]
    },
    {
      "cell_type": "markdown",
      "metadata": {
        "id": "t-gdcHjX18je"
      },
      "source": [
        "## Data Cleaning"
      ]
    },
    {
      "cell_type": "markdown",
      "metadata": {
        "id": "Keu520Vt2AQP"
      },
      "source": [
        "### Convert into rdd"
      ]
    },
    {
      "cell_type": "code",
      "metadata": {
        "colab": {
          "base_uri": "https://localhost:8080/"
        },
        "id": "1nhQFSJRSQ4L",
        "outputId": "0f50d3c6-be8b-43d3-ed8e-3f4e62f53f55"
      },
      "source": [
        "spark = SparkSession.builder.appName(\"DataFrame\").getOrCreate()\n",
        "path_to_file = 'data/weather.csv'\n",
        "df = spark.read.csv(path_to_file, header=True)\n",
        "df.show()"
      ],
      "execution_count": 4,
      "outputs": [
        {
          "output_type": "stream",
          "name": "stdout",
          "text": [
            "+---------+--------------------+--------+----------------+---------+---------+-----+----------+--------+--------+--------+---------+----------+--------+----------+--------+-------+-------+-------+-------+----------+----------+------------+-------------------+------------+\n",
            "|       dt|              dt_iso|timezone|       city_name|      lat|      lon| temp|feels_like|temp_min|temp_max|pressure|sea_level|grnd_level|humidity|wind_speed|wind_deg|rain_1h|rain_3h|snow_1h|snow_3h|clouds_all|weather_id|weather_main|weather_description|weather_icon|\n",
            "+---------+--------------------+--------+----------------+---------+---------+-----+----------+--------+--------+--------+---------+----------+--------+----------+--------+-------+-------+-------+-------+----------+----------+------------+-------------------+------------+\n",
            "|631152000|1990-01-01 00:00:...|    7200|Vilnius TV Tower|54.687137|25.214648|-7.52|    -11.92|   -7.74|    -7.4|    1032|     null|      null|      87|         2|     180|   null|   null|   null|   null|        90|       701|        Mist|               mist|         50n|\n",
            "|631155600|1990-01-01 01:00:...|    7200|Vilnius TV Tower|54.687137|25.214648|-7.56|    -11.97|   -7.82|    -7.4|    1032|     null|      null|      87|         2|     180|   null|   null|   null|   null|        90|       701|        Mist|               mist|         50n|\n",
            "|631159200|1990-01-01 02:00:...|    7200|Vilnius TV Tower|54.687137|25.214648|-7.67|    -12.04|   -7.77|   -7.55|    1028|     null|      null|      96|      2.08|     183|   null|   null|   null|   null|       100|       804|      Clouds|    overcast clouds|         04n|\n",
            "|631162800|1990-01-01 03:00:...|    7200|Vilnius TV Tower|54.687137|25.214648|-7.74|    -12.18|   -7.86|   -7.58|    1028|     null|      null|      96|      2.18|     181|   null|   null|   null|   null|       100|       804|      Clouds|    overcast clouds|         04n|\n",
            "|631166400|1990-01-01 04:00:...|    7200|Vilnius TV Tower|54.687137|25.214648|-7.66|    -12.07|   -7.78|   -7.47|    1028|     null|      null|      95|      2.12|     180|   null|   null|   null|   null|       100|       804|      Clouds|    overcast clouds|         04n|\n",
            "|631170000|1990-01-01 05:00:...|    7200|Vilnius TV Tower|54.687137|25.214648|-7.08|     -11.4|   -7.57|    -6.8|    1030|     null|      null|      91|         2|     130|   null|   null|   null|   null|        90|       701|        Mist|               mist|         50n|\n",
            "|631173600|1990-01-01 06:00:...|    7200|Vilnius TV Tower|54.687137|25.214648|-7.01|    -11.33|   -7.48|    -6.8|    1030|     null|      null|      91|         2|     130|   null|   null|   null|   null|        90|       701|        Mist|               mist|         50n|\n",
            "|631177200|1990-01-01 07:00:...|    7200|Vilnius TV Tower|54.687137|25.214648|-6.93|    -11.24|    -7.3|    -6.8|    1030|     null|      null|      91|         2|     130|   null|   null|   null|   null|        90|       701|        Mist|               mist|         50d|\n",
            "|631180800|1990-01-01 08:00:...|    7200|Vilnius TV Tower|54.687137|25.214648|-6.32|    -10.76|   -6.54|   -6.04|    1026|     null|      null|      89|      2.22|     174|   null|   null|   null|   null|       100|       804|      Clouds|    overcast clouds|         04d|\n",
            "|631184400|1990-01-01 09:00:...|    7200|Vilnius TV Tower|54.687137|25.214648|-6.07|    -10.49|   -6.28|   -5.82|    1026|     null|      null|      89|      2.23|     169|   null|   null|   null|   null|        98|       804|      Clouds|    overcast clouds|         04d|\n",
            "|631188000|1990-01-01 10:00:...|    7200|Vilnius TV Tower|54.687137|25.214648|-5.44|     -9.82|   -5.58|   -5.23|    1026|     null|      null|      90|      2.27|     164|   null|   null|   null|   null|        98|       804|      Clouds|    overcast clouds|         04d|\n",
            "|631191600|1990-01-01 11:00:...|    7200|Vilnius TV Tower|54.687137|25.214648|-5.31|     -9.43|   -5.48|   -5.14|    1027|     null|      null|      94|         2|     150|   null|   null|   null|   null|        90|       600|        Snow|         light snow|         13d|\n",
            "|631195200|1990-01-01 12:00:...|    7200|Vilnius TV Tower|54.687137|25.214648|-5.27|     -9.39|    -5.4|   -5.09|    1027|     null|      null|      94|         2|     150|   null|   null|   null|   null|        90|       600|        Snow|         light snow|         13d|\n",
            "|631198800|1990-01-01 13:00:...|    7200|Vilnius TV Tower|54.687137|25.214648|-5.23|     -9.35|   -5.33|   -4.98|    1027|     null|      null|      94|         2|     150|   null|   null|   null|   null|        90|       600|        Snow|         light snow|         13d|\n",
            "|631202400|1990-01-01 14:00:...|    7200|Vilnius TV Tower|54.687137|25.214648|-4.96|     -8.41|   -5.07|   -4.73|    1026|     null|      null|      90|         1|     150|   null|   null|   null|   null|        90|       701|        Mist|               mist|         50d|\n",
            "|631206000|1990-01-01 15:00:...|    7200|Vilnius TV Tower|54.687137|25.214648|-4.97|     -8.42|   -5.05|   -4.79|    1026|     null|      null|      90|         1|     150|   null|   null|   null|   null|        90|       701|        Mist|               mist|         50n|\n",
            "|631209600|1990-01-01 16:00:...|    7200|Vilnius TV Tower|54.687137|25.214648|-4.89|     -8.33|      -5|   -4.63|    1026|     null|      null|      90|         1|     150|   null|   null|   null|   null|        90|       701|        Mist|               mist|         50n|\n",
            "|631213200|1990-01-01 17:00:...|    7200|Vilnius TV Tower|54.687137|25.214648|-4.53|     -9.23|    -4.7|   -4.19|    1025|     null|      null|      97|         3|     150|   null|   null|   null|   null|        90|       701|        Mist|               mist|         50n|\n",
            "|631216800|1990-01-01 18:00:...|    7200|Vilnius TV Tower|54.687137|25.214648|-4.54|     -9.24|    -4.7|   -4.19|    1025|     null|      null|      97|         3|     150|   null|   null|   null|   null|        90|       701|        Mist|               mist|         50n|\n",
            "|631220400|1990-01-01 19:00:...|    7200|Vilnius TV Tower|54.687137|25.214648|-4.46|     -9.16|    -4.7|   -4.05|    1025|     null|      null|      97|         3|     150|   null|   null|   null|   null|        90|       701|        Mist|               mist|         50n|\n",
            "+---------+--------------------+--------+----------------+---------+---------+-----+----------+--------+--------+--------+---------+----------+--------+----------+--------+-------+-------+-------+-------+----------+----------+------------+-------------------+------------+\n",
            "only showing top 20 rows\n",
            "\n"
          ]
        }
      ]
    },
    {
      "cell_type": "markdown",
      "metadata": {
        "id": "5dEPbfqsPiAC"
      },
      "source": [
        "### Get datetime"
      ]
    },
    {
      "cell_type": "code",
      "metadata": {
        "colab": {
          "base_uri": "https://localhost:8080/"
        },
        "id": "-8x-pOL7DGWx",
        "outputId": "0e0c5551-b793-480b-df48-d562bbb5fab0"
      },
      "source": [
        "# convert to datestamp\n",
        "spark.conf.set('spark.sql.session.timeZone', 'UTC')\n",
        "df = df.withColumn(\"dt\",from_unixtime(unix_timestamp(col(\"dt_iso\"),\"yyyy-MM-dd HH:mm:ss '+0000 UTC'\"),'yyyy-MM-dd HH:mm:ss').cast(\"timestamp\"))\n",
        "# Sorting by the date \n",
        "df = df.sort(asc(\"dt\"))\n",
        "df.show()"
      ],
      "execution_count": 5,
      "outputs": [
        {
          "output_type": "stream",
          "name": "stdout",
          "text": [
            "+-------------------+--------------------+--------+----------------+---------+---------+-----+----------+--------+--------+--------+---------+----------+--------+----------+--------+-------+-------+-------+-------+----------+----------+------------+-------------------+------------+\n",
            "|                 dt|              dt_iso|timezone|       city_name|      lat|      lon| temp|feels_like|temp_min|temp_max|pressure|sea_level|grnd_level|humidity|wind_speed|wind_deg|rain_1h|rain_3h|snow_1h|snow_3h|clouds_all|weather_id|weather_main|weather_description|weather_icon|\n",
            "+-------------------+--------------------+--------+----------------+---------+---------+-----+----------+--------+--------+--------+---------+----------+--------+----------+--------+-------+-------+-------+-------+----------+----------+------------+-------------------+------------+\n",
            "|1990-01-01 00:00:00|1990-01-01 00:00:...|    7200|Vilnius TV Tower|54.687137|25.214648|-7.52|    -11.92|   -7.74|    -7.4|    1032|     null|      null|      87|         2|     180|   null|   null|   null|   null|        90|       701|        Mist|               mist|         50n|\n",
            "|1990-01-01 01:00:00|1990-01-01 01:00:...|    7200|Vilnius TV Tower|54.687137|25.214648|-7.56|    -11.97|   -7.82|    -7.4|    1032|     null|      null|      87|         2|     180|   null|   null|   null|   null|        90|       701|        Mist|               mist|         50n|\n",
            "|1990-01-01 02:00:00|1990-01-01 02:00:...|    7200|Vilnius TV Tower|54.687137|25.214648|-7.67|    -12.04|   -7.77|   -7.55|    1028|     null|      null|      96|      2.08|     183|   null|   null|   null|   null|       100|       804|      Clouds|    overcast clouds|         04n|\n",
            "|1990-01-01 03:00:00|1990-01-01 03:00:...|    7200|Vilnius TV Tower|54.687137|25.214648|-7.74|    -12.18|   -7.86|   -7.58|    1028|     null|      null|      96|      2.18|     181|   null|   null|   null|   null|       100|       804|      Clouds|    overcast clouds|         04n|\n",
            "|1990-01-01 04:00:00|1990-01-01 04:00:...|    7200|Vilnius TV Tower|54.687137|25.214648|-7.66|    -12.07|   -7.78|   -7.47|    1028|     null|      null|      95|      2.12|     180|   null|   null|   null|   null|       100|       804|      Clouds|    overcast clouds|         04n|\n",
            "|1990-01-01 05:00:00|1990-01-01 05:00:...|    7200|Vilnius TV Tower|54.687137|25.214648|-7.08|     -11.4|   -7.57|    -6.8|    1030|     null|      null|      91|         2|     130|   null|   null|   null|   null|        90|       701|        Mist|               mist|         50n|\n",
            "|1990-01-01 06:00:00|1990-01-01 06:00:...|    7200|Vilnius TV Tower|54.687137|25.214648|-7.01|    -11.33|   -7.48|    -6.8|    1030|     null|      null|      91|         2|     130|   null|   null|   null|   null|        90|       701|        Mist|               mist|         50n|\n",
            "|1990-01-01 07:00:00|1990-01-01 07:00:...|    7200|Vilnius TV Tower|54.687137|25.214648|-6.93|    -11.24|    -7.3|    -6.8|    1030|     null|      null|      91|         2|     130|   null|   null|   null|   null|        90|       701|        Mist|               mist|         50d|\n",
            "|1990-01-01 08:00:00|1990-01-01 08:00:...|    7200|Vilnius TV Tower|54.687137|25.214648|-6.32|    -10.76|   -6.54|   -6.04|    1026|     null|      null|      89|      2.22|     174|   null|   null|   null|   null|       100|       804|      Clouds|    overcast clouds|         04d|\n",
            "|1990-01-01 09:00:00|1990-01-01 09:00:...|    7200|Vilnius TV Tower|54.687137|25.214648|-6.07|    -10.49|   -6.28|   -5.82|    1026|     null|      null|      89|      2.23|     169|   null|   null|   null|   null|        98|       804|      Clouds|    overcast clouds|         04d|\n",
            "|1990-01-01 10:00:00|1990-01-01 10:00:...|    7200|Vilnius TV Tower|54.687137|25.214648|-5.44|     -9.82|   -5.58|   -5.23|    1026|     null|      null|      90|      2.27|     164|   null|   null|   null|   null|        98|       804|      Clouds|    overcast clouds|         04d|\n",
            "|1990-01-01 11:00:00|1990-01-01 11:00:...|    7200|Vilnius TV Tower|54.687137|25.214648|-5.31|     -9.43|   -5.48|   -5.14|    1027|     null|      null|      94|         2|     150|   null|   null|   null|   null|        90|       600|        Snow|         light snow|         13d|\n",
            "|1990-01-01 12:00:00|1990-01-01 12:00:...|    7200|Vilnius TV Tower|54.687137|25.214648|-5.27|     -9.39|    -5.4|   -5.09|    1027|     null|      null|      94|         2|     150|   null|   null|   null|   null|        90|       600|        Snow|         light snow|         13d|\n",
            "|1990-01-01 13:00:00|1990-01-01 13:00:...|    7200|Vilnius TV Tower|54.687137|25.214648|-5.23|     -9.35|   -5.33|   -4.98|    1027|     null|      null|      94|         2|     150|   null|   null|   null|   null|        90|       600|        Snow|         light snow|         13d|\n",
            "|1990-01-01 14:00:00|1990-01-01 14:00:...|    7200|Vilnius TV Tower|54.687137|25.214648|-4.96|     -8.41|   -5.07|   -4.73|    1026|     null|      null|      90|         1|     150|   null|   null|   null|   null|        90|       701|        Mist|               mist|         50d|\n",
            "|1990-01-01 15:00:00|1990-01-01 15:00:...|    7200|Vilnius TV Tower|54.687137|25.214648|-4.97|     -8.42|   -5.05|   -4.79|    1026|     null|      null|      90|         1|     150|   null|   null|   null|   null|        90|       701|        Mist|               mist|         50n|\n",
            "|1990-01-01 16:00:00|1990-01-01 16:00:...|    7200|Vilnius TV Tower|54.687137|25.214648|-4.89|     -8.33|      -5|   -4.63|    1026|     null|      null|      90|         1|     150|   null|   null|   null|   null|        90|       701|        Mist|               mist|         50n|\n",
            "|1990-01-01 17:00:00|1990-01-01 17:00:...|    7200|Vilnius TV Tower|54.687137|25.214648|-4.53|     -9.23|    -4.7|   -4.19|    1025|     null|      null|      97|         3|     150|   null|   null|   null|   null|        90|       701|        Mist|               mist|         50n|\n",
            "|1990-01-01 18:00:00|1990-01-01 18:00:...|    7200|Vilnius TV Tower|54.687137|25.214648|-4.54|     -9.24|    -4.7|   -4.19|    1025|     null|      null|      97|         3|     150|   null|   null|   null|   null|        90|       701|        Mist|               mist|         50n|\n",
            "|1990-01-01 19:00:00|1990-01-01 19:00:...|    7200|Vilnius TV Tower|54.687137|25.214648|-4.46|     -9.16|    -4.7|   -4.05|    1025|     null|      null|      97|         3|     150|   null|   null|   null|   null|        90|       701|        Mist|               mist|         50n|\n",
            "+-------------------+--------------------+--------+----------------+---------+---------+-----+----------+--------+--------+--------+---------+----------+--------+----------+--------+-------+-------+-------+-------+----------+----------+------------+-------------------+------------+\n",
            "only showing top 20 rows\n",
            "\n"
          ]
        }
      ]
    },
    {
      "cell_type": "code",
      "metadata": {
        "id": "1BVNTqM_Pm84",
        "colab": {
          "base_uri": "https://localhost:8080/"
        },
        "outputId": "5afbeb65-1323-4785-c4b2-76dd7f0bd735"
      },
      "source": [
        "# Listing the min and the max dates\n",
        "first = df.agg({'dt': \"min\"}).collect()[0][0] \n",
        "last = df.agg({'dt': \"max\"}).collect()[0][0]\n",
        "print(f\"First date {first}\")\n",
        "print(f\"Most recent date {last}\")"
      ],
      "execution_count": 6,
      "outputs": [
        {
          "output_type": "stream",
          "name": "stdout",
          "text": [
            "First date 1990-01-01 00:00:00\n",
            "Most recent date 2020-11-30 23:00:00\n"
          ]
        }
      ]
    },
    {
      "cell_type": "markdown",
      "metadata": {
        "id": "Z4iKcZyMRVNR"
      },
      "source": [
        "### Get date"
      ]
    },
    {
      "cell_type": "code",
      "metadata": {
        "id": "vFmRgMKRRYeg",
        "colab": {
          "base_uri": "https://localhost:8080/"
        },
        "outputId": "9339fff4-de29-4c0c-db60-1f430b2abac5"
      },
      "source": [
        "df = df.withColumn(\"date\",to_date(\"dt_iso\"))\n",
        "df.show()"
      ],
      "execution_count": 7,
      "outputs": [
        {
          "output_type": "stream",
          "name": "stdout",
          "text": [
            "+-------------------+--------------------+--------+----------------+---------+---------+-----+----------+--------+--------+--------+---------+----------+--------+----------+--------+-------+-------+-------+-------+----------+----------+------------+-------------------+------------+----------+\n",
            "|                 dt|              dt_iso|timezone|       city_name|      lat|      lon| temp|feels_like|temp_min|temp_max|pressure|sea_level|grnd_level|humidity|wind_speed|wind_deg|rain_1h|rain_3h|snow_1h|snow_3h|clouds_all|weather_id|weather_main|weather_description|weather_icon|      date|\n",
            "+-------------------+--------------------+--------+----------------+---------+---------+-----+----------+--------+--------+--------+---------+----------+--------+----------+--------+-------+-------+-------+-------+----------+----------+------------+-------------------+------------+----------+\n",
            "|1990-01-01 00:00:00|1990-01-01 00:00:...|    7200|Vilnius TV Tower|54.687137|25.214648|-7.52|    -11.92|   -7.74|    -7.4|    1032|     null|      null|      87|         2|     180|   null|   null|   null|   null|        90|       701|        Mist|               mist|         50n|1990-01-01|\n",
            "|1990-01-01 01:00:00|1990-01-01 01:00:...|    7200|Vilnius TV Tower|54.687137|25.214648|-7.56|    -11.97|   -7.82|    -7.4|    1032|     null|      null|      87|         2|     180|   null|   null|   null|   null|        90|       701|        Mist|               mist|         50n|1990-01-01|\n",
            "|1990-01-01 02:00:00|1990-01-01 02:00:...|    7200|Vilnius TV Tower|54.687137|25.214648|-7.67|    -12.04|   -7.77|   -7.55|    1028|     null|      null|      96|      2.08|     183|   null|   null|   null|   null|       100|       804|      Clouds|    overcast clouds|         04n|1990-01-01|\n",
            "|1990-01-01 03:00:00|1990-01-01 03:00:...|    7200|Vilnius TV Tower|54.687137|25.214648|-7.74|    -12.18|   -7.86|   -7.58|    1028|     null|      null|      96|      2.18|     181|   null|   null|   null|   null|       100|       804|      Clouds|    overcast clouds|         04n|1990-01-01|\n",
            "|1990-01-01 04:00:00|1990-01-01 04:00:...|    7200|Vilnius TV Tower|54.687137|25.214648|-7.66|    -12.07|   -7.78|   -7.47|    1028|     null|      null|      95|      2.12|     180|   null|   null|   null|   null|       100|       804|      Clouds|    overcast clouds|         04n|1990-01-01|\n",
            "|1990-01-01 05:00:00|1990-01-01 05:00:...|    7200|Vilnius TV Tower|54.687137|25.214648|-7.08|     -11.4|   -7.57|    -6.8|    1030|     null|      null|      91|         2|     130|   null|   null|   null|   null|        90|       701|        Mist|               mist|         50n|1990-01-01|\n",
            "|1990-01-01 06:00:00|1990-01-01 06:00:...|    7200|Vilnius TV Tower|54.687137|25.214648|-7.01|    -11.33|   -7.48|    -6.8|    1030|     null|      null|      91|         2|     130|   null|   null|   null|   null|        90|       701|        Mist|               mist|         50n|1990-01-01|\n",
            "|1990-01-01 07:00:00|1990-01-01 07:00:...|    7200|Vilnius TV Tower|54.687137|25.214648|-6.93|    -11.24|    -7.3|    -6.8|    1030|     null|      null|      91|         2|     130|   null|   null|   null|   null|        90|       701|        Mist|               mist|         50d|1990-01-01|\n",
            "|1990-01-01 08:00:00|1990-01-01 08:00:...|    7200|Vilnius TV Tower|54.687137|25.214648|-6.32|    -10.76|   -6.54|   -6.04|    1026|     null|      null|      89|      2.22|     174|   null|   null|   null|   null|       100|       804|      Clouds|    overcast clouds|         04d|1990-01-01|\n",
            "|1990-01-01 09:00:00|1990-01-01 09:00:...|    7200|Vilnius TV Tower|54.687137|25.214648|-6.07|    -10.49|   -6.28|   -5.82|    1026|     null|      null|      89|      2.23|     169|   null|   null|   null|   null|        98|       804|      Clouds|    overcast clouds|         04d|1990-01-01|\n",
            "|1990-01-01 10:00:00|1990-01-01 10:00:...|    7200|Vilnius TV Tower|54.687137|25.214648|-5.44|     -9.82|   -5.58|   -5.23|    1026|     null|      null|      90|      2.27|     164|   null|   null|   null|   null|        98|       804|      Clouds|    overcast clouds|         04d|1990-01-01|\n",
            "|1990-01-01 11:00:00|1990-01-01 11:00:...|    7200|Vilnius TV Tower|54.687137|25.214648|-5.31|     -9.43|   -5.48|   -5.14|    1027|     null|      null|      94|         2|     150|   null|   null|   null|   null|        90|       600|        Snow|         light snow|         13d|1990-01-01|\n",
            "|1990-01-01 12:00:00|1990-01-01 12:00:...|    7200|Vilnius TV Tower|54.687137|25.214648|-5.27|     -9.39|    -5.4|   -5.09|    1027|     null|      null|      94|         2|     150|   null|   null|   null|   null|        90|       600|        Snow|         light snow|         13d|1990-01-01|\n",
            "|1990-01-01 13:00:00|1990-01-01 13:00:...|    7200|Vilnius TV Tower|54.687137|25.214648|-5.23|     -9.35|   -5.33|   -4.98|    1027|     null|      null|      94|         2|     150|   null|   null|   null|   null|        90|       600|        Snow|         light snow|         13d|1990-01-01|\n",
            "|1990-01-01 14:00:00|1990-01-01 14:00:...|    7200|Vilnius TV Tower|54.687137|25.214648|-4.96|     -8.41|   -5.07|   -4.73|    1026|     null|      null|      90|         1|     150|   null|   null|   null|   null|        90|       701|        Mist|               mist|         50d|1990-01-01|\n",
            "|1990-01-01 15:00:00|1990-01-01 15:00:...|    7200|Vilnius TV Tower|54.687137|25.214648|-4.97|     -8.42|   -5.05|   -4.79|    1026|     null|      null|      90|         1|     150|   null|   null|   null|   null|        90|       701|        Mist|               mist|         50n|1990-01-01|\n",
            "|1990-01-01 16:00:00|1990-01-01 16:00:...|    7200|Vilnius TV Tower|54.687137|25.214648|-4.89|     -8.33|      -5|   -4.63|    1026|     null|      null|      90|         1|     150|   null|   null|   null|   null|        90|       701|        Mist|               mist|         50n|1990-01-01|\n",
            "|1990-01-01 17:00:00|1990-01-01 17:00:...|    7200|Vilnius TV Tower|54.687137|25.214648|-4.53|     -9.23|    -4.7|   -4.19|    1025|     null|      null|      97|         3|     150|   null|   null|   null|   null|        90|       701|        Mist|               mist|         50n|1990-01-01|\n",
            "|1990-01-01 18:00:00|1990-01-01 18:00:...|    7200|Vilnius TV Tower|54.687137|25.214648|-4.54|     -9.24|    -4.7|   -4.19|    1025|     null|      null|      97|         3|     150|   null|   null|   null|   null|        90|       701|        Mist|               mist|         50n|1990-01-01|\n",
            "|1990-01-01 19:00:00|1990-01-01 19:00:...|    7200|Vilnius TV Tower|54.687137|25.214648|-4.46|     -9.16|    -4.7|   -4.05|    1025|     null|      null|      97|         3|     150|   null|   null|   null|   null|        90|       701|        Mist|               mist|         50n|1990-01-01|\n",
            "+-------------------+--------------------+--------+----------------+---------+---------+-----+----------+--------+--------+--------+---------+----------+--------+----------+--------+-------+-------+-------+-------+----------+----------+------------+-------------------+------------+----------+\n",
            "only showing top 20 rows\n",
            "\n"
          ]
        }
      ]
    },
    {
      "cell_type": "markdown",
      "metadata": {
        "id": "y51K3oB9UK3D"
      },
      "source": [
        "### Select Features"
      ]
    },
    {
      "cell_type": "code",
      "metadata": {
        "id": "_1tDqB4ST2KY"
      },
      "source": [
        "features = ['temp', 'pressure', 'wind_speed']\n",
        "data_col = ['dt', 'date'] + features"
      ],
      "execution_count": 8,
      "outputs": []
    },
    {
      "cell_type": "markdown",
      "metadata": {
        "id": "OFXAWxlwWqDN"
      },
      "source": [
        "### Get Hourly Data"
      ]
    },
    {
      "cell_type": "code",
      "metadata": {
        "colab": {
          "base_uri": "https://localhost:8080/"
        },
        "id": "oIHVQBLhUo90",
        "outputId": "014d59fc-d5ff-4c63-bda1-70d6f4f0ddb3"
      },
      "source": [
        "# Aggregating to hourly level\n",
        "df_data = df.select(data_col).withColumn(\"temp\", avg(\"temp\").over(Window.partitionBy(\"dt\"))) \\\n",
        "                   .withColumn(\"pressure\", avg(\"pressure\").over(Window.partitionBy(\"dt\"))) \\\n",
        "                   .withColumn(\"wind_speed\", avg(\"wind_speed\").over(Window.partitionBy(\"dt\")))\n",
        "df_data.show()\n",
        "# df.select(['dt']+features).groupBy(df.dt).avg().collect()"
      ],
      "execution_count": 9,
      "outputs": [
        {
          "output_type": "stream",
          "name": "stdout",
          "text": [
            "+-------------------+----------+-----+--------+----------+\n",
            "|                 dt|      date| temp|pressure|wind_speed|\n",
            "+-------------------+----------+-----+--------+----------+\n",
            "|1990-01-01 00:00:00|1990-01-01|-7.52|  1032.0|       2.0|\n",
            "|1990-01-01 01:00:00|1990-01-01|-7.56|  1032.0|       2.0|\n",
            "|1990-01-01 02:00:00|1990-01-01|-7.67|  1028.0|      2.08|\n",
            "|1990-01-01 03:00:00|1990-01-01|-7.74|  1028.0|      2.18|\n",
            "|1990-01-01 04:00:00|1990-01-01|-7.66|  1028.0|      2.12|\n",
            "|1990-01-01 05:00:00|1990-01-01|-7.08|  1030.0|       2.0|\n",
            "|1990-01-01 06:00:00|1990-01-01|-7.01|  1030.0|       2.0|\n",
            "|1990-01-01 07:00:00|1990-01-01|-6.93|  1030.0|       2.0|\n",
            "|1990-01-01 08:00:00|1990-01-01|-6.32|  1026.0|      2.22|\n",
            "|1990-01-01 09:00:00|1990-01-01|-6.07|  1026.0|      2.23|\n",
            "|1990-01-01 10:00:00|1990-01-01|-5.44|  1026.0|      2.27|\n",
            "|1990-01-01 11:00:00|1990-01-01|-5.31|  1027.0|       2.0|\n",
            "|1990-01-01 12:00:00|1990-01-01|-5.27|  1027.0|       2.0|\n",
            "|1990-01-01 13:00:00|1990-01-01|-5.23|  1027.0|       2.0|\n",
            "|1990-01-01 14:00:00|1990-01-01|-4.96|  1026.0|       1.0|\n",
            "|1990-01-01 15:00:00|1990-01-01|-4.97|  1026.0|       1.0|\n",
            "|1990-01-01 16:00:00|1990-01-01|-4.89|  1026.0|       1.0|\n",
            "|1990-01-01 17:00:00|1990-01-01|-4.53|  1025.0|       3.0|\n",
            "|1990-01-01 18:00:00|1990-01-01|-4.54|  1025.0|       3.0|\n",
            "|1990-01-01 19:00:00|1990-01-01|-4.46|  1025.0|       3.0|\n",
            "+-------------------+----------+-----+--------+----------+\n",
            "only showing top 20 rows\n",
            "\n"
          ]
        }
      ]
    },
    {
      "cell_type": "markdown",
      "metadata": {
        "id": "iCsPEFwCXAHr"
      },
      "source": [
        "### Final Dataset"
      ]
    },
    {
      "cell_type": "code",
      "metadata": {
        "colab": {
          "base_uri": "https://localhost:8080/"
        },
        "id": "8mRtWXYPXG-f",
        "outputId": "d67b40f7-3f16-4166-a379-e91b45cc80c7"
      },
      "source": [
        "# get integer timestamp\n",
        "df_data = df_data.withColumn('timestamp',unix_timestamp(col('dt'), format='yyyy-MM-dd HH:mm:ss').alias('unix_timestamp'))\n",
        "\n",
        "# Seconds in day \n",
        "SECOND = 24 * 60 * 60 \n",
        "\n",
        "# Seconds in year \n",
        "YEAR = (365.25) * SECOND\n",
        "\n",
        "features_final = ['temp', 'day_cos', 'day_sin', 'month_sin', 'month_cos', 'pressure', 'wind_speed']\n",
        "df_final = df_data.withColumn('hour', hour(df_data.dt)) \\\n",
        "       .withColumn('month', month(df_data.dt)) \\\n",
        "       .withColumn('day_cos', cos(col('hour') * (2 * np.pi / 24))) \\\n",
        "       .withColumn('day_sin', sin(col('hour') * (2 * np.pi /24))) \\\n",
        "       .withColumn('month_cos', cos(col('timestamp') * (2 * np.pi /YEAR))) \\\n",
        "       .withColumn('month_sin', sin(col('timestamp') * (2 * np.pi /YEAR))) \\\n",
        "       .select(features_final)\n",
        "df_final.show()"
      ],
      "execution_count": 10,
      "outputs": [
        {
          "output_type": "stream",
          "name": "stdout",
          "text": [
            "+-----+--------------------+--------------------+--------------------+------------------+--------+----------+\n",
            "| temp|             day_cos|             day_sin|           month_sin|         month_cos|pressure|wind_speed|\n",
            "+-----+--------------------+--------------------+--------------------+------------------+--------+----------+\n",
            "|-7.52|                 1.0|                 0.0|-4.89858719658941...|               1.0|  1032.0|       2.0|\n",
            "|-7.56|  0.9659258262890683| 0.25881904510252074|7.167675985875918E-4|0.9999997431220718|  1032.0|       2.0|\n",
            "|-7.67|  0.8660254037844387| 0.49999999999999994|0.001433534828922...|0.9999989724884193|  1028.0|      2.08|\n",
            "|-7.74|  0.7071067811865476|  0.7071067811865475|0.002150301322770...|0.9999976880994382|  1028.0|      2.18|\n",
            "|-7.66|  0.5000000000000001|  0.8660254037844386|0.002867066711902262|0.9999958899557885|  1028.0|      2.12|\n",
            "|-7.08| 0.25881904510252096|  0.9659258262890682|0.003583830628047865|0.9999935780583941|  1030.0|       2.0|\n",
            "|-7.01|6.123233995736766...|                 1.0|0.004300592702979495|0.9999907524084426|  1030.0|       2.0|\n",
            "|-6.93|-0.25881904510252063|  0.9659258262890683|0.005017352568456437|0.9999874130073857|  1030.0|       2.0|\n",
            "|-6.32| -0.4999999999999998|  0.8660254037844387|0.005734109856253...|0.9999835598569391|  1026.0|      2.22|\n",
            "|-6.07| -0.7071067811865475|  0.7071067811865476|0.006450864198103483|0.9999791929590823|  1026.0|      2.23|\n",
            "|-5.44| -0.8660254037844385|  0.5000000000000003| 0.00716761522578438| 0.999974312316059|  1026.0|      2.27|\n",
            "|-5.31| -0.9659258262890682|   0.258819045102521| 0.00788436257107519|0.9999689179303763|  1027.0|       2.0|\n",
            "|-5.27|                -1.0|1.224646799147353...|0.008601105865714343|0.9999630098048061|  1027.0|       2.0|\n",
            "|-5.23| -0.9659258262890684|-0.25881904510252035|0.009317844741484988|0.9999565879423834|  1027.0|       2.0|\n",
            "|-4.96| -0.8660254037844388| -0.4999999999999997|0.010034578830172539|0.9999496523464074|  1026.0|       1.0|\n",
            "|-4.97| -0.7071067811865479| -0.7071067811865471|0.010751307763522238|0.9999422030204416|  1026.0|       1.0|\n",
            "|-4.89| -0.5000000000000004| -0.8660254037844384|0.011468031173324612| 0.999934239968313|  1026.0|       1.0|\n",
            "|-4.53| -0.2588190451025215| -0.9659258262890681|0.012184748691373018|0.9999257631941124|  1025.0|       3.0|\n",
            "|-4.54|-1.83697019872102...|                -1.0|0.012901459949421216|0.9999167727021951|  1025.0|       3.0|\n",
            "|-4.46|  0.2588190451025203| -0.9659258262890684|0.013618164579268809|0.9999072684971801|  1025.0|       3.0|\n",
            "+-----+--------------------+--------------------+--------------------+------------------+--------+----------+\n",
            "only showing top 20 rows\n",
            "\n"
          ]
        }
      ]
    },
    {
      "cell_type": "code",
      "metadata": {
        "id": "CNptUps_LCYA",
        "colab": {
          "base_uri": "https://localhost:8080/"
        },
        "outputId": "cb235eb9-1188-4c27-876a-e818b43dd9ac"
      },
      "source": [
        "df_final_tmp = df_final\n",
        "unlist = udf(lambda x: float(x[0]), DoubleType())\n",
        "for col in features_final:\n",
        "    assembler = VectorAssembler(inputCols=[col],outputCol=col+\"_Vect\")\n",
        "    scaler = StandardScaler(inputCol=col+\"_Vect\", outputCol=col+\"_Scaled\")\n",
        "    pipeline = Pipeline(stages=[assembler, scaler])\n",
        "    df_final_tmp = pipeline.fit(df_final_tmp).transform(df_final_tmp).withColumn(col+\"_Scaled\", unlist(col+\"_Scaled\")).drop(col+\"_Vect\")\n",
        "df_final_tmp.dtypes\n",
        "df_final_scaled = df_final_tmp.select([col + '_scaled' for col in features_final])\n",
        "df_final_scaled.show()"
      ],
      "execution_count": 11,
      "outputs": [
        {
          "output_type": "stream",
          "name": "stdout",
          "text": [
            "+-------------------+--------------------+--------------------+--------------------+------------------+------------------+-------------------+\n",
            "|        temp_scaled|      day_cos_scaled|      day_sin_scaled|    month_sin_scaled|  month_cos_scaled|   pressure_scaled|  wind_speed_scaled|\n",
            "+-------------------+--------------------+--------------------+--------------------+------------------+------------------+-------------------+\n",
            "|-0.8055317901963281|  1.4130140068825476|                 0.0|-6.94528479923690...|1.4119562669110173|102.33630315350962| 0.9598559950156853|\n",
            "|-0.8098165337612022|   1.364866722156052|  0.3663561606964788|0.001016243032383...| 1.411955904210617|102.33630315350962| 0.9598559950156853|\n",
            "| -0.821599578564606|   1.223706025863526|  0.7077457544736739| 0.00203248554265255|1.4119548161096016|101.93965081570532| 0.9982502348163127|\n",
            "|-0.8290978798031357|  0.9991517861782244|  1.0009036446886483|0.003048727008720...|1.4119530026085305|101.93965081570532|  1.046243034567097|\n",
            "|-0.8205283926733875|  0.7065070034412739|  1.2258516055895714|0.004064966908507181|1.4119504637083355|101.93965081570532| 1.0174473547166265|\n",
            "|-0.7583996109827132| 0.36571493597782795|  1.3672598053851273|0.005081204719873189| 1.411947199410321|102.13797698460748| 0.9598559950156853|\n",
            "|-0.7509013097441836|8.652215403395441...|   1.415491508947348|0.006097439920740514| 1.411943209716164|102.13797698460748| 0.9598559950156853|\n",
            "|-0.7423318226144354| -0.3657149359778275|  1.3672598053851273|0.007113671989012371|1.4119384946279139|102.13797698460748| 0.9598559950156853|\n",
            "|-0.6769894832501057| -0.7065070034412735|  1.2258516055895716|0.008129900402613733|1.4119330541479935|101.74132464680318| 1.0654401544674108|\n",
            "|-0.6502098359696427| -0.9991517861782243|  1.0009036446886486|0.009146124639411002|1.4119268882791978|101.74132464680318|  1.070239434442489|\n",
            "|-0.5827251248228758| -1.2237060258635257|  0.7077457544736745|0.010162344177333176|1.4119199970246945|101.74132464680318| 1.0894365543428028|\n",
            "|-0.5687997082370349|  -1.364866722156052|  0.3663561606964792|0.011178558494311661|1.4119123803880236|101.84048773125424| 0.9598559950156853|\n",
            "|-0.5645149646721608| -1.4130140068825476|1.733477145652627...|0.012194767068220107| 1.411904038373099|101.84048773125424| 0.9598559950156853|\n",
            "|-0.5602302211072868| -1.3648667221560522|-0.36635616069647825|0.013210969376995554| 1.411894970984206|101.84048773125424| 0.9598559950156853|\n",
            "|-0.5313082020443867| -1.2237060258635262| -0.7077457544736736|0.014227164898578264| 1.411885178226003|101.74132464680318|0.47992799750784265|\n",
            "|-0.5323793879356051| -0.9991517861782249|  -1.000903644688648| 0.01524335311085154|1.4118746601035213|101.74132464680318|0.47992799750784265|\n",
            "| -0.523809900805857| -0.7065070034412745| -1.2258516055895712|0.016259533491762884|1.4118634166221646|101.74132464680318|0.47992799750784265|\n",
            "|-0.4852472087219903| -0.3657149359778287|  -1.367259805385127|0.017275705519263822|1.4118514477877089| 101.6421615623521|  1.439783992523528|\n",
            "|-0.4863183946132088|-2.59566462101863...|  -1.415491508947348| 0.01829186867124973|1.4118387536063037| 101.6421615623521|  1.439783992523528|\n",
            "|-0.4777489074834606|   0.365714935977827| -1.3672598053851275|0.019308022425680985|1.4118253340844706| 101.6421615623521|  1.439783992523528|\n",
            "+-------------------+--------------------+--------------------+--------------------+------------------+------------------+-------------------+\n",
            "only showing top 20 rows\n",
            "\n"
          ]
        }
      ]
    },
    {
      "cell_type": "markdown",
      "metadata": {
        "id": "IN8uRBTsLYOP"
      },
      "source": [
        "### convert to pandas dataframe"
      ]
    },
    {
      "cell_type": "code",
      "metadata": {
        "colab": {
          "base_uri": "https://localhost:8080/",
          "height": 423
        },
        "id": "9-Za-1KWgpU3",
        "outputId": "db799d89-15fc-478f-ee4d-9ec23a8541f5"
      },
      "source": [
        "pd_final = df_final_scaled.toPandas()\n",
        "pd_final"
      ],
      "execution_count": 12,
      "outputs": [
        {
          "output_type": "execute_result",
          "data": {
            "text/html": [
              "<div>\n",
              "<style scoped>\n",
              "    .dataframe tbody tr th:only-of-type {\n",
              "        vertical-align: middle;\n",
              "    }\n",
              "\n",
              "    .dataframe tbody tr th {\n",
              "        vertical-align: top;\n",
              "    }\n",
              "\n",
              "    .dataframe thead th {\n",
              "        text-align: right;\n",
              "    }\n",
              "</style>\n",
              "<table border=\"1\" class=\"dataframe\">\n",
              "  <thead>\n",
              "    <tr style=\"text-align: right;\">\n",
              "      <th></th>\n",
              "      <th>temp_scaled</th>\n",
              "      <th>day_cos_scaled</th>\n",
              "      <th>day_sin_scaled</th>\n",
              "      <th>month_sin_scaled</th>\n",
              "      <th>month_cos_scaled</th>\n",
              "      <th>pressure_scaled</th>\n",
              "      <th>wind_speed_scaled</th>\n",
              "    </tr>\n",
              "  </thead>\n",
              "  <tbody>\n",
              "    <tr>\n",
              "      <th>0</th>\n",
              "      <td>-0.805532</td>\n",
              "      <td>1.413014</td>\n",
              "      <td>0.000000</td>\n",
              "      <td>-6.945285e-15</td>\n",
              "      <td>1.411956</td>\n",
              "      <td>102.336303</td>\n",
              "      <td>0.959856</td>\n",
              "    </tr>\n",
              "    <tr>\n",
              "      <th>1</th>\n",
              "      <td>-0.809817</td>\n",
              "      <td>1.364867</td>\n",
              "      <td>0.366356</td>\n",
              "      <td>1.016243e-03</td>\n",
              "      <td>1.411956</td>\n",
              "      <td>102.336303</td>\n",
              "      <td>0.959856</td>\n",
              "    </tr>\n",
              "    <tr>\n",
              "      <th>2</th>\n",
              "      <td>-0.821600</td>\n",
              "      <td>1.223706</td>\n",
              "      <td>0.707746</td>\n",
              "      <td>2.032486e-03</td>\n",
              "      <td>1.411955</td>\n",
              "      <td>101.939651</td>\n",
              "      <td>0.998250</td>\n",
              "    </tr>\n",
              "    <tr>\n",
              "      <th>3</th>\n",
              "      <td>-0.829098</td>\n",
              "      <td>0.999152</td>\n",
              "      <td>1.000904</td>\n",
              "      <td>3.048727e-03</td>\n",
              "      <td>1.411953</td>\n",
              "      <td>101.939651</td>\n",
              "      <td>1.046243</td>\n",
              "    </tr>\n",
              "    <tr>\n",
              "      <th>4</th>\n",
              "      <td>-0.820528</td>\n",
              "      <td>0.706507</td>\n",
              "      <td>1.225852</td>\n",
              "      <td>4.064967e-03</td>\n",
              "      <td>1.411950</td>\n",
              "      <td>101.939651</td>\n",
              "      <td>1.017447</td>\n",
              "    </tr>\n",
              "    <tr>\n",
              "      <th>...</th>\n",
              "      <td>...</td>\n",
              "      <td>...</td>\n",
              "      <td>...</td>\n",
              "      <td>...</td>\n",
              "      <td>...</td>\n",
              "      <td>...</td>\n",
              "      <td>...</td>\n",
              "    </tr>\n",
              "    <tr>\n",
              "      <th>294222</th>\n",
              "      <td>-0.091051</td>\n",
              "      <td>0.706507</td>\n",
              "      <td>-1.225852</td>\n",
              "      <td>-7.190038e-01</td>\n",
              "      <td>1.216929</td>\n",
              "      <td>101.344672</td>\n",
              "      <td>2.207669</td>\n",
              "    </tr>\n",
              "    <tr>\n",
              "      <th>294223</th>\n",
              "      <td>-0.091051</td>\n",
              "      <td>0.999152</td>\n",
              "      <td>-1.000904</td>\n",
              "      <td>-7.181277e-01</td>\n",
              "      <td>1.217442</td>\n",
              "      <td>101.344672</td>\n",
              "      <td>2.735590</td>\n",
              "    </tr>\n",
              "    <tr>\n",
              "      <th>294224</th>\n",
              "      <td>-0.091051</td>\n",
              "      <td>1.223706</td>\n",
              "      <td>-0.707746</td>\n",
              "      <td>-7.172513e-01</td>\n",
              "      <td>1.217954</td>\n",
              "      <td>101.344672</td>\n",
              "      <td>2.975554</td>\n",
              "    </tr>\n",
              "    <tr>\n",
              "      <th>294225</th>\n",
              "      <td>-0.071769</td>\n",
              "      <td>1.364867</td>\n",
              "      <td>-0.366356</td>\n",
              "      <td>-7.163745e-01</td>\n",
              "      <td>1.218466</td>\n",
              "      <td>101.344672</td>\n",
              "      <td>2.975554</td>\n",
              "    </tr>\n",
              "    <tr>\n",
              "      <th>294226</th>\n",
              "      <td>-0.071769</td>\n",
              "      <td>1.364867</td>\n",
              "      <td>-0.366356</td>\n",
              "      <td>-7.163745e-01</td>\n",
              "      <td>1.218466</td>\n",
              "      <td>101.344672</td>\n",
              "      <td>2.975554</td>\n",
              "    </tr>\n",
              "  </tbody>\n",
              "</table>\n",
              "<p>294227 rows × 7 columns</p>\n",
              "</div>"
            ],
            "text/plain": [
              "        temp_scaled  day_cos_scaled  ...  pressure_scaled  wind_speed_scaled\n",
              "0         -0.805532        1.413014  ...       102.336303           0.959856\n",
              "1         -0.809817        1.364867  ...       102.336303           0.959856\n",
              "2         -0.821600        1.223706  ...       101.939651           0.998250\n",
              "3         -0.829098        0.999152  ...       101.939651           1.046243\n",
              "4         -0.820528        0.706507  ...       101.939651           1.017447\n",
              "...             ...             ...  ...              ...                ...\n",
              "294222    -0.091051        0.706507  ...       101.344672           2.207669\n",
              "294223    -0.091051        0.999152  ...       101.344672           2.735590\n",
              "294224    -0.091051        1.223706  ...       101.344672           2.975554\n",
              "294225    -0.071769        1.364867  ...       101.344672           2.975554\n",
              "294226    -0.071769        1.364867  ...       101.344672           2.975554\n",
              "\n",
              "[294227 rows x 7 columns]"
            ]
          },
          "metadata": {},
          "execution_count": 12
        }
      ]
    },
    {
      "cell_type": "markdown",
      "metadata": {
        "id": "0I2j9AQp1n7A"
      },
      "source": [
        "## Data Modeling"
      ]
    },
    {
      "cell_type": "markdown",
      "metadata": {
        "id": "gDt3EfPbK7VF"
      },
      "source": [
        "## Forecast"
      ]
    },
    {
      "cell_type": "code",
      "metadata": {
        "id": "t9eg0MqIK8Vm"
      },
      "source": [
        "# Number of lags (hours back) to use for models\n",
        "lag = 48\n",
        "\n",
        "# Steps ahead to forecast \n",
        "n_ahead = 1\n",
        "\n",
        "# Share of obs in testing \n",
        "test_share = 0.1\n",
        "\n",
        "# Epochs for training\n",
        "epochs = 20\n",
        "\n",
        "# Batch size \n",
        "batch_size = 512\n",
        "\n",
        "# Learning rate\n",
        "lr = 0.001\n",
        "\n",
        "# Number of neurons in LSTM layer\n",
        "n_layer = 10\n",
        "\n",
        "# The features used in the modeling \n",
        "features_final = ['temp', 'day_cos', 'day_sin', 'month_sin', 'month_cos', 'pressure', 'wind_speed']"
      ],
      "execution_count": 13,
      "outputs": []
    },
    {
      "cell_type": "code",
      "metadata": {
        "id": "SjEsxTpCNk_i"
      },
      "source": [
        "def create_X_Y(ts: np.array, lag=1, n_ahead=1, target_index=0) -> tuple:\n",
        "    \"\"\"\n",
        "    A method to create X and Y matrix from a time series array for the training of \n",
        "    deep learning models \n",
        "    \"\"\"\n",
        "    # Extracting the number of features that are passed from the array \n",
        "    n_features = ts.shape[1]\n",
        "    \n",
        "    # Creating placeholder lists\n",
        "    X, Y = [], []\n",
        "\n",
        "    if len(ts) - lag <= 0:\n",
        "        X.append(ts)\n",
        "    else:\n",
        "        for i in range(len(ts) - lag - n_ahead):\n",
        "            Y.append(ts[(i + lag):(i + lag + n_ahead), target_index])\n",
        "            X.append(ts[i:(i + lag)])\n",
        "\n",
        "    X, Y = np.array(X), np.array(Y)\n",
        "\n",
        "    # Reshaping the X array to an RNN input shape \n",
        "    X = np.reshape(X, (X.shape[0], lag, n_features))\n",
        "\n",
        "    return X, Y"
      ],
      "execution_count": 14,
      "outputs": []
    },
    {
      "cell_type": "markdown",
      "source": [
        "#### Train Test Split"
      ],
      "metadata": {
        "id": "Fx5_vRBhIuOE"
      }
    },
    {
      "cell_type": "code",
      "metadata": {
        "id": "AWgWneSMLLkp"
      },
      "source": [
        "# Subseting only the needed columns \n",
        "ts = pd_final\n",
        "\n",
        "nrows = ts.shape[0]\n",
        "\n",
        "# Spliting into train and test sets\n",
        "train = ts[0:int(nrows * (1 - test_share))]\n",
        "test = ts[int(nrows * (1 - test_share)):]\n",
        "\n",
        "# Creating the final scaled frame \n",
        "ts_s = pd.concat([train, test])\n",
        "X, Y = create_X_Y(ts_s.values, lag=lag, n_ahead=n_ahead)\n",
        "\n",
        "n_ft = X.shape[2]\n",
        "\n",
        "# Spliting into train and test sets \n",
        "Xtrain, Ytrain = X[0:int(X.shape[0] * (1 - test_share))], Y[0:int(X.shape[0] * (1 - test_share))]\n",
        "Xval, Yval = X[int(X.shape[0] * (1 - test_share)):], Y[int(X.shape[0] * (1 - test_share)):]\n"
      ],
      "execution_count": 15,
      "outputs": []
    },
    {
      "cell_type": "code",
      "metadata": {
        "id": "pBAlO2wPLQ5U",
        "colab": {
          "base_uri": "https://localhost:8080/"
        },
        "outputId": "b4d335d3-6e7b-4cda-91b7-0d4c9a167805"
      },
      "source": [
        "class NNMultistepModel_tp():\n",
        "    \n",
        "    def __init__(\n",
        "        self, \n",
        "        X, \n",
        "        Y, \n",
        "        n_outputs,\n",
        "        n_lag,\n",
        "        n_ft,\n",
        "        n_layer,\n",
        "        batch,\n",
        "        epochs, \n",
        "        lr,\n",
        "        Xval=None,\n",
        "        Yval=None,\n",
        "        mask_value=-999.0,\n",
        "        min_delta=0.001,\n",
        "        patience=5\n",
        "    ):\n",
        "        lstm_input = Input(shape=(n_lag, n_ft))\n",
        "\n",
        "        # Series signal \n",
        "        lstm_layer = LSTM(n_layer, activation='relu')(lstm_input)\n",
        "\n",
        "        x = Dense(n_outputs)(lstm_layer)\n",
        "        \n",
        "        self.model = Model(inputs=lstm_input, outputs=x)\n",
        "        self.batch = batch \n",
        "        self.epochs = epochs\n",
        "        self.n_layer=n_layer\n",
        "        self.lr = lr \n",
        "        self.Xval = Xval\n",
        "        self.Yval = Yval\n",
        "        self.X = X\n",
        "        self.Y = Y\n",
        "        self.mask_value = mask_value\n",
        "        self.min_delta = min_delta\n",
        "        self.patience = patience\n",
        "\n",
        "    def trainCallback(self):\n",
        "        return EarlyStopping(monitor='loss', patience=self.patience, min_delta=self.min_delta)\n",
        "\n",
        "    def train(self):\n",
        "        # Getting the untrained model \n",
        "        empty_model = self.model\n",
        "        \n",
        "        # Initiating the optimizer\n",
        "        optimizer = keras.optimizers.Adam(learning_rate=self.lr)\n",
        "\n",
        "        # Compiling the model\n",
        "        empty_model.compile(loss=losses.MeanAbsoluteError(), optimizer=optimizer)\n",
        "\n",
        "        if (self.Xval is not None) & (self.Yval is not None):\n",
        "            history = empty_model.fit(\n",
        "                self.X, \n",
        "                self.Y, \n",
        "                epochs=self.epochs, \n",
        "                batch_size=self.batch, \n",
        "                validation_data=(self.Xval, self.Yval), \n",
        "                shuffle=False,\n",
        "                callbacks=[self.trainCallback()]\n",
        "            )\n",
        "        else:\n",
        "            history = empty_model.fit(\n",
        "                self.X, \n",
        "                self.Y, \n",
        "                epochs=self.epochs, \n",
        "                batch_size=self.batch,\n",
        "                shuffle=False,\n",
        "                callbacks=[self.trainCallback()]\n",
        "            )\n",
        "        \n",
        "        # Saving to original model attribute in the class\n",
        "        self.model = empty_model\n",
        "        \n",
        "        # Returning the training history\n",
        "        return history\n",
        "    \n",
        "    def predict(self, X):\n",
        "        return self.model.predict(X)\n",
        "\n",
        "model = NNMultistepModel_tp(\n",
        "    X=Xtrain,\n",
        "    Y=Ytrain,\n",
        "    n_outputs=n_ahead,\n",
        "    n_lag=lag,\n",
        "    n_ft=n_ft,\n",
        "    n_layer=n_layer,\n",
        "    batch=batch_size,\n",
        "    epochs=epochs, \n",
        "    lr=lr,\n",
        "    Xval=Xval,\n",
        "    Yval=Yval,\n",
        ")"
      ],
      "execution_count": 16,
      "outputs": [
        {
          "output_type": "stream",
          "name": "stdout",
          "text": [
            "WARNING:tensorflow:Layer lstm will not use cuDNN kernels since it doesn't meet the criteria. It will use a generic GPU kernel as fallback when running on GPU.\n"
          ]
        }
      ]
    },
    {
      "cell_type": "code",
      "metadata": {
        "id": "fbhyxZTFLVYV",
        "colab": {
          "base_uri": "https://localhost:8080/"
        },
        "outputId": "be9f1f1b-5400-4607-dec6-0e412657b372"
      },
      "source": [
        "model.model.summary()"
      ],
      "execution_count": 17,
      "outputs": [
        {
          "output_type": "stream",
          "name": "stdout",
          "text": [
            "Model: \"model\"\n",
            "_________________________________________________________________\n",
            " Layer (type)                Output Shape              Param #   \n",
            "=================================================================\n",
            " input_1 (InputLayer)        [(None, 48, 7)]           0         \n",
            "                                                                 \n",
            " lstm (LSTM)                 (None, 10)                720       \n",
            "                                                                 \n",
            " dense (Dense)               (None, 1)                 11        \n",
            "                                                                 \n",
            "=================================================================\n",
            "Total params: 731\n",
            "Trainable params: 731\n",
            "Non-trainable params: 0\n",
            "_________________________________________________________________\n"
          ]
        }
      ]
    },
    {
      "cell_type": "code",
      "metadata": {
        "id": "Zd0bUwE5LYjP",
        "colab": {
          "base_uri": "https://localhost:8080/"
        },
        "outputId": "ca5461bd-db3e-4bc8-bf55-1be2dc7b0301"
      },
      "source": [
        "history = model.train()"
      ],
      "execution_count": 18,
      "outputs": [
        {
          "output_type": "stream",
          "name": "stdout",
          "text": [
            "Epoch 1/20\n",
            "518/518 [==============================] - 76s 142ms/step - loss: 9.7205 - val_loss: 5.4858\n",
            "Epoch 2/20\n",
            "518/518 [==============================] - 73s 141ms/step - loss: 4.8371 - val_loss: 3.8933\n",
            "Epoch 3/20\n",
            "518/518 [==============================] - 74s 142ms/step - loss: 3.2580 - val_loss: 2.3855\n",
            "Epoch 4/20\n",
            "518/518 [==============================] - 73s 142ms/step - loss: 1.8482 - val_loss: 1.1197\n",
            "Epoch 5/20\n",
            "518/518 [==============================] - 73s 142ms/step - loss: 1.0466 - val_loss: 0.7016\n",
            "Epoch 6/20\n",
            "518/518 [==============================] - 72s 139ms/step - loss: 0.9373 - val_loss: 0.6616\n",
            "Epoch 7/20\n",
            "518/518 [==============================] - 73s 141ms/step - loss: 0.9114 - val_loss: 0.6526\n",
            "Epoch 8/20\n",
            "518/518 [==============================] - 71s 137ms/step - loss: 0.8969 - val_loss: 0.6499\n",
            "Epoch 9/20\n",
            "518/518 [==============================] - 72s 138ms/step - loss: 0.8889 - val_loss: 0.6463\n",
            "Epoch 10/20\n",
            "518/518 [==============================] - 73s 141ms/step - loss: 0.8801 - val_loss: 0.6435\n",
            "Epoch 11/20\n",
            "518/518 [==============================] - 73s 142ms/step - loss: 0.8727 - val_loss: 0.6404\n",
            "Epoch 12/20\n",
            "518/518 [==============================] - 74s 143ms/step - loss: 0.8666 - val_loss: 0.6390\n",
            "Epoch 13/20\n",
            "518/518 [==============================] - 74s 143ms/step - loss: 0.8579 - val_loss: 0.6426\n",
            "Epoch 14/20\n",
            "518/518 [==============================] - 76s 146ms/step - loss: 0.8506 - val_loss: 0.6447\n",
            "Epoch 15/20\n",
            "518/518 [==============================] - 76s 146ms/step - loss: 0.8426 - val_loss: 0.6465\n",
            "Epoch 16/20\n",
            "518/518 [==============================] - 76s 146ms/step - loss: 0.8371 - val_loss: 0.6481\n",
            "Epoch 17/20\n",
            "518/518 [==============================] - 76s 147ms/step - loss: 0.8314 - val_loss: 0.6518\n",
            "Epoch 18/20\n",
            "518/518 [==============================] - 76s 146ms/step - loss: 0.8223 - val_loss: 0.6503\n",
            "Epoch 19/20\n",
            "518/518 [==============================] - 76s 147ms/step - loss: 0.8099 - val_loss: 0.6505\n",
            "Epoch 20/20\n",
            "518/518 [==============================] - 75s 146ms/step - loss: 0.8032 - val_loss: 0.6395\n"
          ]
        }
      ]
    },
    {
      "cell_type": "code",
      "metadata": {
        "id": "ENaYJJ9ZLazp",
        "colab": {
          "base_uri": "https://localhost:8080/",
          "height": 442
        },
        "outputId": "24774308-371f-4fe2-b62a-b76f8f25d90f"
      },
      "source": [
        "loss = history.history.get('loss')\n",
        "val_loss = history.history.get('val_loss')\n",
        "\n",
        "n_epochs = range(len(loss))\n",
        "\n",
        "plt.figure(figsize=(9, 7))\n",
        "plt.plot(n_epochs, loss, 'r', label='Training loss', color='blue')\n",
        "if val_loss is not None:\n",
        "    plt.plot(n_epochs, val_loss, 'r', label='Validation loss', color='red')\n",
        "plt.legend(loc=0)\n",
        "plt.xlabel('Epoch')\n",
        "plt.ylabel('Loss value')\n",
        "plt.show()"
      ],
      "execution_count": 19,
      "outputs": [
        {
          "output_type": "display_data",
          "data": {
            "image/png": "[encoded data removed]",
            "text/plain": [
              "<Figure size 648x504 with 1 Axes>"
            ]
          },
          "metadata": {
            "needs_background": "light"
          }
        }
      ]
    },
    {
      "cell_type": "code",
      "metadata": {
        "id": "aKjw3M-RMvir"
      },
      "source": [
        "# Comparing the forecasts with the actual values\n",
        "yhat = [x[0] for x in model.predict(Xval)]\n",
        "y = [y[0] for y in Yval]"
      ],
      "execution_count": 20,
      "outputs": []
    },
    {
      "cell_type": "code",
      "source": [
        "# import pickle\n",
        "# filename = 'Temperature_prediction_lstm_model.sav'\n",
        "# pickle.dump(model, open(filename, 'wb'))"
      ],
      "metadata": {
        "id": "6AKKrEfUKcua"
      },
      "execution_count": 21,
      "outputs": []
    },
    {
      "cell_type": "code",
      "source": [
        "model.model.save('Temperature_prediction_lstm_model.h5')\n",
        "from google.colab import files\n",
        "files.download(\"/content/Temperature_prediction_lstm_model.h5\")"
      ],
      "metadata": {
        "colab": {
          "base_uri": "https://localhost:8080/",
          "height": 16
        },
        "id": "YVR0NkrK4-AV",
        "outputId": "69df91be-55af-491e-96c7-4b7717598742"
      },
      "execution_count": 23,
      "outputs": [
        {
          "output_type": "display_data",
          "data": {
            "application/javascript": [
              "\n",
              "    async function download(id, filename, size) {\n",
              "      if (!google.colab.kernel.accessAllowed) {\n",
              "        return;\n",
              "      }\n",
              "      const div = document.createElement('div');\n",
              "      const label = document.createElement('label');\n",
              "      label.textContent = `Downloading \"${filename}\": `;\n",
              "      div.appendChild(label);\n",
              "      const progress = document.createElement('progress');\n",
              "      progress.max = size;\n",
              "      div.appendChild(progress);\n",
              "      document.body.appendChild(div);\n",
              "\n",
              "      const buffers = [];\n",
              "      let downloaded = 0;\n",
              "\n",
              "      const channel = await google.colab.kernel.comms.open(id);\n",
              "      // Send a message to notify the kernel that we're ready.\n",
              "      channel.send({})\n",
              "\n",
              "      for await (const message of channel.messages) {\n",
              "        // Send a message to notify the kernel that we're ready.\n",
              "        channel.send({})\n",
              "        if (message.buffers) {\n",
              "          for (const buffer of message.buffers) {\n",
              "            buffers.push(buffer);\n",
              "            downloaded += buffer.byteLength;\n",
              "            progress.value = downloaded;\n",
              "          }\n",
              "        }\n",
              "      }\n",
              "      const blob = new Blob(buffers, {type: 'application/binary'});\n",
              "      const a = document.createElement('a');\n",
              "      a.href = window.URL.createObjectURL(blob);\n",
              "      a.download = filename;\n",
              "      div.appendChild(a);\n",
              "      a.click();\n",
              "      div.remove();\n",
              "    }\n",
              "  "
            ],
            "text/plain": [
              "<IPython.core.display.Javascript object>"
            ]
          },
          "metadata": {}
        },
        {
          "output_type": "display_data",
          "data": {
            "application/javascript": [
              "download(\"download_f5a9f509-67b5-4a16-b48d-988040b8b42a\", \"Temperature_prediction_lstm_model.h5\", 41912)"
            ],
            "text/plain": [
              "<IPython.core.display.Javascript object>"
            ]
          },
          "metadata": {}
        }
      ]
    }
  ]
}