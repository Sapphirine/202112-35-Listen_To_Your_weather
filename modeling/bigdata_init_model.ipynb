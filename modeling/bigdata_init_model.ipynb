{
  "nbformat": 4,
  "nbformat_minor": 0,
  "metadata": {
    "colab": {
      "name": "bigdata_init_model",
      "provenance": [],
      "collapsed_sections": [],
      "toc_visible": true
    },
    "kernelspec": {
      "name": "python3",
      "display_name": "Python 3"
    },
    "language_info": {
      "name": "python"
    }
  },
  "cells": [
    {
      "cell_type": "markdown",
      "source": [
        "### Import Dependencies"
      ],
      "metadata": {
        "id": "m7_wcpyEKZQI"
      }
    },
    {
      "cell_type": "code",
      "source": [
        "pip install pyspark"
      ],
      "metadata": {
        "colab": {
          "base_uri": "https://localhost:8080/"
        },
        "id": "gsTDlcTCJSqo",
        "outputId": "dd9da743-de7e-4fe8-887b-cbc9c8039119"
      },
      "execution_count": 1,
      "outputs": [
        {
          "output_type": "stream",
          "name": "stdout",
          "text": [
            "Collecting pyspark\n",
            "  Downloading pyspark-3.2.0.tar.gz (281.3 MB)\n",
            "\u001b[K     |████████████████████████████████| 281.3 MB 30 kB/s \n",
            "\u001b[?25hCollecting py4j==0.10.9.2\n",
            "  Downloading py4j-0.10.9.2-py2.py3-none-any.whl (198 kB)\n",
            "\u001b[K     |████████████████████████████████| 198 kB 55.8 MB/s \n",
            "\u001b[?25hBuilding wheels for collected packages: pyspark\n",
            "  Building wheel for pyspark (setup.py) ... \u001b[?25l\u001b[?25hdone\n",
            "  Created wheel for pyspark: filename=pyspark-3.2.0-py2.py3-none-any.whl size=281805912 sha256=7d740338921ae674e079a3db8e5e204dbc1081638d4d9ea263ecae8c185b2ebf\n",
            "  Stored in directory: /root/.cache/pip/wheels/0b/de/d2/9be5d59d7331c6c2a7c1b6d1a4f463ce107332b1ecd4e80718\n",
            "Successfully built pyspark\n",
            "Installing collected packages: py4j, pyspark\n",
            "Successfully installed py4j-0.10.9.2 pyspark-3.2.0\n"
          ]
        }
      ]
    },
    {
      "cell_type": "code",
      "source": [
        "# Data wrangling\n",
        "import pandas as pd \n",
        "\n",
        "# Visualization\n",
        "import matplotlib.pyplot as plt \n",
        "import seaborn as sns \n",
        "\n",
        "# Date wrangling\n",
        "import datetime\n",
        "import os\n",
        "\n",
        "# Math operations\n",
        "import numpy as np\n",
        "\n",
        "# Random sampling\n",
        "import random\n",
        "\n",
        "# sklearn\n",
        "from sklearn.preprocessing import StandardScaler\n",
        "from sklearn.model_selection import train_test_split\n",
        "from sklearn.pipeline import make_pipeline\n",
        "\n",
        "# Keras API \n",
        "import tensorflow as tf\n",
        "from tensorflow import keras\n",
        "\n",
        "# Deep learning \n",
        "from keras.models import Input, Model, Sequential\n",
        "from keras.layers import Dense, Dropout, LSTM, Concatenate, SimpleRNN, Masking, Flatten\n",
        "from keras import losses\n",
        "from keras.callbacks import EarlyStopping\n",
        "from keras.initializers import RandomNormal\n",
        "\n",
        "# pyspark related\n",
        "# pip install pyspark\n",
        "import pyspark\n",
        "from pyspark.sql.functions import split, explode, to_timestamp, from_unixtime, from_utc_timestamp\n",
        "from pyspark import SparkConf, SparkContext,SQLContext\n",
        "from pyspark.sql import SparkSession\n",
        "from pyspark.sql.types import IntegerType,ArrayType,StringType,DoubleType\n",
        "from pyspark.sql.functions import *\n",
        "from pyspark.sql import Window\n",
        "# from pyspark.ml.feature import StandardScaler\n",
        "from pyspark.ml import Pipeline\n",
        "from pyspark.ml.feature import VectorAssembler\n",
        "#from ts.flint import FlintContext\n",
        "sc = SparkContext.getOrCreate()\n",
        "sqlContext = SQLContext(sc)"
      ],
      "metadata": {
        "colab": {
          "base_uri": "https://localhost:8080/"
        },
        "id": "e8YUoZhHJHeB",
        "outputId": "5203998b-7df3-4c94-89da-cd897c7efa9d"
      },
      "execution_count": 2,
      "outputs": [
        {
          "output_type": "stream",
          "name": "stderr",
          "text": [
            "/usr/local/lib/python3.7/dist-packages/pyspark/sql/context.py:79: FutureWarning: Deprecated in 3.0.0. Use SparkSession.builder.getOrCreate() instead.\n",
            "  FutureWarning\n"
          ]
        }
      ]
    },
    {
      "cell_type": "markdown",
      "source": [
        "### Data"
      ],
      "metadata": {
        "id": "teSbPJbJJEvT"
      }
    },
    {
      "cell_type": "markdown",
      "source": [
        "#### Get Historic Data"
      ],
      "metadata": {
        "id": "Aj2pzah5JA7T"
      }
    },
    {
      "cell_type": "code",
      "execution_count": 3,
      "metadata": {
        "colab": {
          "base_uri": "https://localhost:8080/"
        },
        "id": "D0xGGUPgIz89",
        "outputId": "c6b6a40f-b8a5-408b-bedf-1ef794e44e24"
      },
      "outputs": [
        {
          "output_type": "stream",
          "name": "stderr",
          "text": [
            "Cloning into '/content/data'...\n",
            "warning: redirecting to https://gitlab.com/Dimu_1020/big_data_final.git/\n"
          ]
        }
      ],
      "source": [
        "%%bash\n",
        "if [ ! -d '/content/data' ]; then\n",
        "  git clone https://gitlab.com/Dimu_1020/big_data_final '/content/data'\n",
        "  cd '/content/data'\n",
        "else\n",
        "  echo \"Dataset already downloaded in '/content/data'\"\n",
        "fi"
      ]
    },
    {
      "cell_type": "code",
      "source": [
        "spark = SparkSession.builder.appName(\"DataFrame\").getOrCreate()\n",
        "path_to_file = 'data/HistoryBulk_NY.csv'\n",
        "df = spark.read.csv(path_to_file, header=True)\n",
        "df.show()"
      ],
      "metadata": {
        "colab": {
          "base_uri": "https://localhost:8080/"
        },
        "id": "WGwllPoJKkoj",
        "outputId": "1a795e27-e413-446d-a218-7be44fb82f37"
      },
      "execution_count": 4,
      "outputs": [
        {
          "output_type": "stream",
          "name": "stdout",
          "text": [
            "+---------+--------------------+--------+---------+---------+----------+------+----------+--------+--------+--------+---------+----------+--------+----------+--------+-------+-------+-------+-------+----------+----------+------------+--------------------+------------+\n",
            "|       dt|              dt_iso|timezone|city_name|      lat|       lon|  temp|feels_like|temp_min|temp_max|pressure|sea_level|grnd_level|humidity|wind_speed|wind_deg|rain_1h|rain_3h|snow_1h|snow_3h|clouds_all|weather_id|weather_main| weather_description|weather_icon|\n",
            "+---------+--------------------+--------+---------+---------+----------+------+----------+--------+--------+--------+---------+----------+--------+----------+--------+-------+-------+-------+-------+----------+----------+------------+--------------------+------------+\n",
            "|283996800|1979-01-01 00:00:...|  -18000| New York|40.712775|-74.005973|280.34|    276.58|  280.33|  280.35|    1030|     null|      null|      93|       6.7|     170|   null|   null|   null|   null|        90|       741|         Fog|                 fog|         50n|\n",
            "|283996800|1979-01-01 00:00:...|  -18000| New York|40.712775|-74.005973|280.34|    276.58|  280.33|  280.35|    1030|     null|      null|      93|       6.7|     170|   null|   null|   null|   null|        90|       310|     Drizzle|light intensity d...|         09n|\n",
            "|283996800|1979-01-01 00:00:...|  -18000| New York|40.712775|-74.005973|280.34|    276.58|  280.33|  280.35|    1030|     null|      null|      93|       6.7|     170|   null|   null|   null|   null|        90|       500|        Rain|          light rain|         10n|\n",
            "|284000400|1979-01-01 01:00:...|  -18000| New York|40.712775|-74.005973|280.34|    276.58|  280.33|  280.35|    1030|     null|      null|      93|       6.7|     170|   null|   null|   null|   null|        90|       741|         Fog|                 fog|         50n|\n",
            "|284000400|1979-01-01 01:00:...|  -18000| New York|40.712775|-74.005973|280.34|    276.58|  280.33|  280.35|    1030|     null|      null|      93|       6.7|     170|   null|   null|   null|   null|        90|       310|     Drizzle|light intensity d...|         09n|\n",
            "|284000400|1979-01-01 01:00:...|  -18000| New York|40.712775|-74.005973|280.34|    276.58|  280.33|  280.35|    1030|     null|      null|      93|       6.7|     170|   null|   null|   null|   null|        90|       500|        Rain|          light rain|         10n|\n",
            "|284004000|1979-01-01 02:00:...|  -18000| New York|40.712775|-74.005973|280.51|    276.79|  279.17|  281.55|    1029|     null|      null|      93|       6.7|     170|   null|   null|   null|   null|        90|       500|        Rain|          light rain|         10n|\n",
            "|284007600|1979-01-01 03:00:...|  -18000| New York|40.712775|-74.005973|281.34|    278.39|  280.85|  281.44|    1029|     null|      null|      93|       5.2|     190|   null|   null|   null|   null|        90|       500|        Rain|          light rain|         10n|\n",
            "|284011200|1979-01-01 04:00:...|  -18000| New York|40.712775|-74.005973|281.34|    278.39|  280.85|  281.44|    1029|     null|      null|      93|       5.2|     190|   null|   null|   null|   null|        90|       500|        Rain|          light rain|         10n|\n",
            "|284014800|1979-01-01 05:00:...|  -18000| New York|40.712775|-74.005973|281.51|    278.43|  281.51|  281.51|    1026|     null|      null|      89|      5.67|     184|   null|   null|   null|   null|       100|       804|      Clouds|     overcast clouds|         04n|\n",
            "|284018400|1979-01-01 06:00:...|  -18000| New York|40.712775|-74.005973|281.91|    278.44|  280.85|  282.04|    1026|     null|      null|      93|       7.2|     170|   null|   null|   null|   null|        90|       500|        Rain|          light rain|         10n|\n",
            "|284022000|1979-01-01 07:00:...|  -18000| New York|40.712775|-74.005973|281.91|    278.62|  280.85|  282.04|    1025|     null|      null|      93|       6.6|     180|   0.18|   null|   null|   null|        90|       301|     Drizzle|             drizzle|         09n|\n",
            "|284022000|1979-01-01 07:00:...|  -18000| New York|40.712775|-74.005973|281.91|    278.62|  280.85|  282.04|    1025|     null|      null|      93|       6.6|     180|   0.18|   null|   null|   null|        90|       500|        Rain|          light rain|         10n|\n",
            "|284025600|1979-01-01 08:00:...|  -18000| New York|40.712775|-74.005973|282.21|       279|  281.22|  283.02|    1024|     null|      null|      92|       6.6|     200|   0.15|   null|   null|   null|        90|       500|        Rain|          light rain|         10n|\n",
            "|284029200|1979-01-01 09:00:...|  -18000| New York|40.712775|-74.005973|282.14|    279.21|  280.35|  282.53|    1023|     null|      null|      93|       5.7|     200|   null|   null|   null|   null|        90|       500|        Rain|          light rain|         10n|\n",
            "|284032800|1979-01-01 10:00:...|  -18000| New York|40.712775|-74.005973|282.14|    279.21|  280.35|  282.53|    1023|     null|      null|      93|       5.7|     200|   null|   null|   null|   null|        90|       500|        Rain|          light rain|         10n|\n",
            "|284036400|1979-01-01 11:00:...|  -18000| New York|40.712775|-74.005973|283.03|     282.2|  282.36|  283.71|    1022|     null|      null|      94|         2|     160|   null|   null|   null|   null|        90|       804|      Clouds|     overcast clouds|         04n|\n",
            "|284040000|1979-01-01 12:00:...|  -18000| New York|40.712775|-74.005973|282.89|    281.02|  277.55|  284.23|    1022|     null|      null|      93|       3.6|     160|   null|   null|   null|   null|        90|       741|         Fog|                 fog|         50n|\n",
            "|284043600|1979-01-01 13:00:...|  -18000| New York|40.712775|-74.005973|282.86|    280.99|  277.55|  284.23|    1022|     null|      null|      92|       3.6|     160|   null|   null|   null|   null|        90|       520|        Rain|light intensity s...|         09d|\n",
            "|284047200|1979-01-01 14:00:...|  -18000| New York|40.712775|-74.005973|283.72|    283.18|  282.04|  285.33|    1022|     null|      null|      90|       5.1|     180|   0.19|   null|   null|   null|        90|       721|        Haze|                haze|         50d|\n",
            "+---------+--------------------+--------+---------+---------+----------+------+----------+--------+--------+--------+---------+----------+--------+----------+--------+-------+-------+-------+-------+----------+----------+------------+--------------------+------------+\n",
            "only showing top 20 rows\n",
            "\n"
          ]
        }
      ]
    },
    {
      "cell_type": "markdown",
      "source": [
        "#### Pre-processing"
      ],
      "metadata": {
        "id": "LleTw7diL9b7"
      }
    },
    {
      "cell_type": "code",
      "source": [
        "# convert to datestamp\n",
        "spark.conf.set('spark.sql.session.timeZone', 'UTC')\n",
        "df = df.withColumn(\"dt\",from_unixtime(unix_timestamp(col(\"dt_iso\"),\"yyyy-MM-dd HH:mm:ss '+0000 UTC'\"),'yyyy-MM-dd HH:mm:ss').cast(\"timestamp\"))\n",
        "# Sorting by the date \n",
        "df = df.sort(asc(\"dt\"))\n",
        "df.show()"
      ],
      "metadata": {
        "colab": {
          "base_uri": "https://localhost:8080/"
        },
        "id": "x9xNob7bKneK",
        "outputId": "647e1b81-70fc-425d-f2ba-ebe25c34fe62"
      },
      "execution_count": 5,
      "outputs": [
        {
          "output_type": "stream",
          "name": "stdout",
          "text": [
            "+-------------------+--------------------+--------+---------+---------+----------+------+----------+--------+--------+--------+---------+----------+--------+----------+--------+-------+-------+-------+-------+----------+----------+------------+--------------------+------------+\n",
            "|                 dt|              dt_iso|timezone|city_name|      lat|       lon|  temp|feels_like|temp_min|temp_max|pressure|sea_level|grnd_level|humidity|wind_speed|wind_deg|rain_1h|rain_3h|snow_1h|snow_3h|clouds_all|weather_id|weather_main| weather_description|weather_icon|\n",
            "+-------------------+--------------------+--------+---------+---------+----------+------+----------+--------+--------+--------+---------+----------+--------+----------+--------+-------+-------+-------+-------+----------+----------+------------+--------------------+------------+\n",
            "|1979-01-01 00:00:00|1979-01-01 00:00:...|  -18000| New York|40.712775|-74.005973|280.34|    276.58|  280.33|  280.35|    1030|     null|      null|      93|       6.7|     170|   null|   null|   null|   null|        90|       741|         Fog|                 fog|         50n|\n",
            "|1979-01-01 00:00:00|1979-01-01 00:00:...|  -18000| New York|40.712775|-74.005973|280.34|    276.58|  280.33|  280.35|    1030|     null|      null|      93|       6.7|     170|   null|   null|   null|   null|        90|       500|        Rain|          light rain|         10n|\n",
            "|1979-01-01 00:00:00|1979-01-01 00:00:...|  -18000| New York|40.712775|-74.005973|280.34|    276.58|  280.33|  280.35|    1030|     null|      null|      93|       6.7|     170|   null|   null|   null|   null|        90|       310|     Drizzle|light intensity d...|         09n|\n",
            "|1979-01-01 01:00:00|1979-01-01 01:00:...|  -18000| New York|40.712775|-74.005973|280.34|    276.58|  280.33|  280.35|    1030|     null|      null|      93|       6.7|     170|   null|   null|   null|   null|        90|       310|     Drizzle|light intensity d...|         09n|\n",
            "|1979-01-01 01:00:00|1979-01-01 01:00:...|  -18000| New York|40.712775|-74.005973|280.34|    276.58|  280.33|  280.35|    1030|     null|      null|      93|       6.7|     170|   null|   null|   null|   null|        90|       500|        Rain|          light rain|         10n|\n",
            "|1979-01-01 01:00:00|1979-01-01 01:00:...|  -18000| New York|40.712775|-74.005973|280.34|    276.58|  280.33|  280.35|    1030|     null|      null|      93|       6.7|     170|   null|   null|   null|   null|        90|       741|         Fog|                 fog|         50n|\n",
            "|1979-01-01 02:00:00|1979-01-01 02:00:...|  -18000| New York|40.712775|-74.005973|280.51|    276.79|  279.17|  281.55|    1029|     null|      null|      93|       6.7|     170|   null|   null|   null|   null|        90|       500|        Rain|          light rain|         10n|\n",
            "|1979-01-01 03:00:00|1979-01-01 03:00:...|  -18000| New York|40.712775|-74.005973|281.34|    278.39|  280.85|  281.44|    1029|     null|      null|      93|       5.2|     190|   null|   null|   null|   null|        90|       500|        Rain|          light rain|         10n|\n",
            "|1979-01-01 04:00:00|1979-01-01 04:00:...|  -18000| New York|40.712775|-74.005973|281.34|    278.39|  280.85|  281.44|    1029|     null|      null|      93|       5.2|     190|   null|   null|   null|   null|        90|       500|        Rain|          light rain|         10n|\n",
            "|1979-01-01 05:00:00|1979-01-01 05:00:...|  -18000| New York|40.712775|-74.005973|281.51|    278.43|  281.51|  281.51|    1026|     null|      null|      89|      5.67|     184|   null|   null|   null|   null|       100|       804|      Clouds|     overcast clouds|         04n|\n",
            "|1979-01-01 06:00:00|1979-01-01 06:00:...|  -18000| New York|40.712775|-74.005973|281.91|    278.44|  280.85|  282.04|    1026|     null|      null|      93|       7.2|     170|   null|   null|   null|   null|        90|       500|        Rain|          light rain|         10n|\n",
            "|1979-01-01 07:00:00|1979-01-01 07:00:...|  -18000| New York|40.712775|-74.005973|281.91|    278.62|  280.85|  282.04|    1025|     null|      null|      93|       6.6|     180|   0.18|   null|   null|   null|        90|       500|        Rain|          light rain|         10n|\n",
            "|1979-01-01 07:00:00|1979-01-01 07:00:...|  -18000| New York|40.712775|-74.005973|281.91|    278.62|  280.85|  282.04|    1025|     null|      null|      93|       6.6|     180|   0.18|   null|   null|   null|        90|       301|     Drizzle|             drizzle|         09n|\n",
            "|1979-01-01 08:00:00|1979-01-01 08:00:...|  -18000| New York|40.712775|-74.005973|282.21|       279|  281.22|  283.02|    1024|     null|      null|      92|       6.6|     200|   0.15|   null|   null|   null|        90|       500|        Rain|          light rain|         10n|\n",
            "|1979-01-01 09:00:00|1979-01-01 09:00:...|  -18000| New York|40.712775|-74.005973|282.14|    279.21|  280.35|  282.53|    1023|     null|      null|      93|       5.7|     200|   null|   null|   null|   null|        90|       500|        Rain|          light rain|         10n|\n",
            "|1979-01-01 10:00:00|1979-01-01 10:00:...|  -18000| New York|40.712775|-74.005973|282.14|    279.21|  280.35|  282.53|    1023|     null|      null|      93|       5.7|     200|   null|   null|   null|   null|        90|       500|        Rain|          light rain|         10n|\n",
            "|1979-01-01 11:00:00|1979-01-01 11:00:...|  -18000| New York|40.712775|-74.005973|283.03|     282.2|  282.36|  283.71|    1022|     null|      null|      94|         2|     160|   null|   null|   null|   null|        90|       804|      Clouds|     overcast clouds|         04n|\n",
            "|1979-01-01 12:00:00|1979-01-01 12:00:...|  -18000| New York|40.712775|-74.005973|282.89|    281.02|  277.55|  284.23|    1022|     null|      null|      93|       3.6|     160|   null|   null|   null|   null|        90|       741|         Fog|                 fog|         50n|\n",
            "|1979-01-01 13:00:00|1979-01-01 13:00:...|  -18000| New York|40.712775|-74.005973|282.86|    280.99|  277.55|  284.23|    1022|     null|      null|      92|       3.6|     160|   null|   null|   null|   null|        90|       520|        Rain|light intensity s...|         09d|\n",
            "|1979-01-01 14:00:00|1979-01-01 14:00:...|  -18000| New York|40.712775|-74.005973|283.72|    283.18|  282.04|  285.33|    1022|     null|      null|      90|       5.1|     180|   0.19|   null|   null|   null|        90|       300|     Drizzle|light intensity d...|         09d|\n",
            "+-------------------+--------------------+--------+---------+---------+----------+------+----------+--------+--------+--------+---------+----------+--------+----------+--------+-------+-------+-------+-------+----------+----------+------------+--------------------+------------+\n",
            "only showing top 20 rows\n",
            "\n"
          ]
        }
      ]
    },
    {
      "cell_type": "code",
      "source": [
        "# Listing the min and the max dates\n",
        "first = df.agg({'dt': \"min\"}).collect()[0][0] \n",
        "last = df.agg({'dt': \"max\"}).collect()[0][0]\n",
        "print(f\"First date {first}\")\n",
        "print(f\"Most recent date {last}\")"
      ],
      "metadata": {
        "colab": {
          "base_uri": "https://localhost:8080/"
        },
        "id": "gq3MHRKxKqfR",
        "outputId": "49330113-30ac-43f5-b32a-bb74aba2fab8"
      },
      "execution_count": 6,
      "outputs": [
        {
          "output_type": "stream",
          "name": "stdout",
          "text": [
            "First date 1979-01-01 00:00:00\n",
            "Most recent date 2021-12-11 23:00:00\n"
          ]
        }
      ]
    },
    {
      "cell_type": "code",
      "source": [
        "df = df.withColumn(\"date\",to_date(\"dt_iso\"))\n",
        "df.show()"
      ],
      "metadata": {
        "colab": {
          "base_uri": "https://localhost:8080/"
        },
        "id": "2LCXGzrIKuom",
        "outputId": "cfadb8d9-21b5-4d81-fe93-4c42a26095a9"
      },
      "execution_count": 7,
      "outputs": [
        {
          "output_type": "stream",
          "name": "stdout",
          "text": [
            "+-------------------+--------------------+--------+---------+---------+----------+------+----------+--------+--------+--------+---------+----------+--------+----------+--------+-------+-------+-------+-------+----------+----------+------------+--------------------+------------+----------+\n",
            "|                 dt|              dt_iso|timezone|city_name|      lat|       lon|  temp|feels_like|temp_min|temp_max|pressure|sea_level|grnd_level|humidity|wind_speed|wind_deg|rain_1h|rain_3h|snow_1h|snow_3h|clouds_all|weather_id|weather_main| weather_description|weather_icon|      date|\n",
            "+-------------------+--------------------+--------+---------+---------+----------+------+----------+--------+--------+--------+---------+----------+--------+----------+--------+-------+-------+-------+-------+----------+----------+------------+--------------------+------------+----------+\n",
            "|1979-01-01 00:00:00|1979-01-01 00:00:...|  -18000| New York|40.712775|-74.005973|280.34|    276.58|  280.33|  280.35|    1030|     null|      null|      93|       6.7|     170|   null|   null|   null|   null|        90|       741|         Fog|                 fog|         50n|1979-01-01|\n",
            "|1979-01-01 00:00:00|1979-01-01 00:00:...|  -18000| New York|40.712775|-74.005973|280.34|    276.58|  280.33|  280.35|    1030|     null|      null|      93|       6.7|     170|   null|   null|   null|   null|        90|       500|        Rain|          light rain|         10n|1979-01-01|\n",
            "|1979-01-01 00:00:00|1979-01-01 00:00:...|  -18000| New York|40.712775|-74.005973|280.34|    276.58|  280.33|  280.35|    1030|     null|      null|      93|       6.7|     170|   null|   null|   null|   null|        90|       310|     Drizzle|light intensity d...|         09n|1979-01-01|\n",
            "|1979-01-01 01:00:00|1979-01-01 01:00:...|  -18000| New York|40.712775|-74.005973|280.34|    276.58|  280.33|  280.35|    1030|     null|      null|      93|       6.7|     170|   null|   null|   null|   null|        90|       310|     Drizzle|light intensity d...|         09n|1979-01-01|\n",
            "|1979-01-01 01:00:00|1979-01-01 01:00:...|  -18000| New York|40.712775|-74.005973|280.34|    276.58|  280.33|  280.35|    1030|     null|      null|      93|       6.7|     170|   null|   null|   null|   null|        90|       500|        Rain|          light rain|         10n|1979-01-01|\n",
            "|1979-01-01 01:00:00|1979-01-01 01:00:...|  -18000| New York|40.712775|-74.005973|280.34|    276.58|  280.33|  280.35|    1030|     null|      null|      93|       6.7|     170|   null|   null|   null|   null|        90|       741|         Fog|                 fog|         50n|1979-01-01|\n",
            "|1979-01-01 02:00:00|1979-01-01 02:00:...|  -18000| New York|40.712775|-74.005973|280.51|    276.79|  279.17|  281.55|    1029|     null|      null|      93|       6.7|     170|   null|   null|   null|   null|        90|       500|        Rain|          light rain|         10n|1979-01-01|\n",
            "|1979-01-01 03:00:00|1979-01-01 03:00:...|  -18000| New York|40.712775|-74.005973|281.34|    278.39|  280.85|  281.44|    1029|     null|      null|      93|       5.2|     190|   null|   null|   null|   null|        90|       500|        Rain|          light rain|         10n|1979-01-01|\n",
            "|1979-01-01 04:00:00|1979-01-01 04:00:...|  -18000| New York|40.712775|-74.005973|281.34|    278.39|  280.85|  281.44|    1029|     null|      null|      93|       5.2|     190|   null|   null|   null|   null|        90|       500|        Rain|          light rain|         10n|1979-01-01|\n",
            "|1979-01-01 05:00:00|1979-01-01 05:00:...|  -18000| New York|40.712775|-74.005973|281.51|    278.43|  281.51|  281.51|    1026|     null|      null|      89|      5.67|     184|   null|   null|   null|   null|       100|       804|      Clouds|     overcast clouds|         04n|1979-01-01|\n",
            "|1979-01-01 06:00:00|1979-01-01 06:00:...|  -18000| New York|40.712775|-74.005973|281.91|    278.44|  280.85|  282.04|    1026|     null|      null|      93|       7.2|     170|   null|   null|   null|   null|        90|       500|        Rain|          light rain|         10n|1979-01-01|\n",
            "|1979-01-01 07:00:00|1979-01-01 07:00:...|  -18000| New York|40.712775|-74.005973|281.91|    278.62|  280.85|  282.04|    1025|     null|      null|      93|       6.6|     180|   0.18|   null|   null|   null|        90|       500|        Rain|          light rain|         10n|1979-01-01|\n",
            "|1979-01-01 07:00:00|1979-01-01 07:00:...|  -18000| New York|40.712775|-74.005973|281.91|    278.62|  280.85|  282.04|    1025|     null|      null|      93|       6.6|     180|   0.18|   null|   null|   null|        90|       301|     Drizzle|             drizzle|         09n|1979-01-01|\n",
            "|1979-01-01 08:00:00|1979-01-01 08:00:...|  -18000| New York|40.712775|-74.005973|282.21|       279|  281.22|  283.02|    1024|     null|      null|      92|       6.6|     200|   0.15|   null|   null|   null|        90|       500|        Rain|          light rain|         10n|1979-01-01|\n",
            "|1979-01-01 09:00:00|1979-01-01 09:00:...|  -18000| New York|40.712775|-74.005973|282.14|    279.21|  280.35|  282.53|    1023|     null|      null|      93|       5.7|     200|   null|   null|   null|   null|        90|       500|        Rain|          light rain|         10n|1979-01-01|\n",
            "|1979-01-01 10:00:00|1979-01-01 10:00:...|  -18000| New York|40.712775|-74.005973|282.14|    279.21|  280.35|  282.53|    1023|     null|      null|      93|       5.7|     200|   null|   null|   null|   null|        90|       500|        Rain|          light rain|         10n|1979-01-01|\n",
            "|1979-01-01 11:00:00|1979-01-01 11:00:...|  -18000| New York|40.712775|-74.005973|283.03|     282.2|  282.36|  283.71|    1022|     null|      null|      94|         2|     160|   null|   null|   null|   null|        90|       804|      Clouds|     overcast clouds|         04n|1979-01-01|\n",
            "|1979-01-01 12:00:00|1979-01-01 12:00:...|  -18000| New York|40.712775|-74.005973|282.89|    281.02|  277.55|  284.23|    1022|     null|      null|      93|       3.6|     160|   null|   null|   null|   null|        90|       741|         Fog|                 fog|         50n|1979-01-01|\n",
            "|1979-01-01 13:00:00|1979-01-01 13:00:...|  -18000| New York|40.712775|-74.005973|282.86|    280.99|  277.55|  284.23|    1022|     null|      null|      92|       3.6|     160|   null|   null|   null|   null|        90|       520|        Rain|light intensity s...|         09d|1979-01-01|\n",
            "|1979-01-01 14:00:00|1979-01-01 14:00:...|  -18000| New York|40.712775|-74.005973|283.72|    283.18|  282.04|  285.33|    1022|     null|      null|      90|       5.1|     180|   0.19|   null|   null|   null|        90|       300|     Drizzle|light intensity d...|         09d|1979-01-01|\n",
            "+-------------------+--------------------+--------+---------+---------+----------+------+----------+--------+--------+--------+---------+----------+--------+----------+--------+-------+-------+-------+-------+----------+----------+------------+--------------------+------------+----------+\n",
            "only showing top 20 rows\n",
            "\n"
          ]
        }
      ]
    },
    {
      "cell_type": "code",
      "source": [
        "# Aggregating to hourly level\n",
        "features = ['temp', 'pressure', 'wind_speed','Weather_main']\n",
        "data_col = ['dt', 'date'] + features\n",
        "\n",
        "df_data = df.select(data_col).withColumn(\"temp\", avg(\"temp\").over(Window.partitionBy(\"dt\"))) \\\n",
        "                   .withColumn(\"pressure\", avg(\"pressure\").over(Window.partitionBy(\"dt\"))) \\\n",
        "                   .withColumn(\"wind_speed\", avg(\"wind_speed\").over(Window.partitionBy(\"dt\")))\n",
        "df_data.show()"
      ],
      "metadata": {
        "colab": {
          "base_uri": "https://localhost:8080/"
        },
        "id": "OAuzn7LFMBRG",
        "outputId": "56c1f5de-086d-420a-e155-bfa0e636163f"
      },
      "execution_count": 8,
      "outputs": [
        {
          "output_type": "stream",
          "name": "stdout",
          "text": [
            "+-------------------+----------+------+--------+----------+------------+\n",
            "|                 dt|      date|  temp|pressure|wind_speed|Weather_main|\n",
            "+-------------------+----------+------+--------+----------+------------+\n",
            "|1979-01-01 00:00:00|1979-01-01|280.34|  1030.0|       6.7|         Fog|\n",
            "|1979-01-01 00:00:00|1979-01-01|280.34|  1030.0|       6.7|     Drizzle|\n",
            "|1979-01-01 00:00:00|1979-01-01|280.34|  1030.0|       6.7|        Rain|\n",
            "|1979-01-01 01:00:00|1979-01-01|280.34|  1030.0|       6.7|         Fog|\n",
            "|1979-01-01 01:00:00|1979-01-01|280.34|  1030.0|       6.7|     Drizzle|\n",
            "|1979-01-01 01:00:00|1979-01-01|280.34|  1030.0|       6.7|        Rain|\n",
            "|1979-01-01 02:00:00|1979-01-01|280.51|  1029.0|       6.7|        Rain|\n",
            "|1979-01-01 03:00:00|1979-01-01|281.34|  1029.0|       5.2|        Rain|\n",
            "|1979-01-01 04:00:00|1979-01-01|281.34|  1029.0|       5.2|        Rain|\n",
            "|1979-01-01 05:00:00|1979-01-01|281.51|  1026.0|      5.67|      Clouds|\n",
            "|1979-01-01 06:00:00|1979-01-01|281.91|  1026.0|       7.2|        Rain|\n",
            "|1979-01-01 07:00:00|1979-01-01|281.91|  1025.0|       6.6|     Drizzle|\n",
            "|1979-01-01 07:00:00|1979-01-01|281.91|  1025.0|       6.6|        Rain|\n",
            "|1979-01-01 08:00:00|1979-01-01|282.21|  1024.0|       6.6|        Rain|\n",
            "|1979-01-01 09:00:00|1979-01-01|282.14|  1023.0|       5.7|        Rain|\n",
            "|1979-01-01 10:00:00|1979-01-01|282.14|  1023.0|       5.7|        Rain|\n",
            "|1979-01-01 11:00:00|1979-01-01|283.03|  1022.0|       2.0|      Clouds|\n",
            "|1979-01-01 12:00:00|1979-01-01|282.89|  1022.0|       3.6|         Fog|\n",
            "|1979-01-01 13:00:00|1979-01-01|282.86|  1022.0|       3.6|        Rain|\n",
            "|1979-01-01 14:00:00|1979-01-01|283.72|  1022.0|       5.1|        Haze|\n",
            "+-------------------+----------+------+--------+----------+------------+\n",
            "only showing top 20 rows\n",
            "\n"
          ]
        }
      ]
    },
    {
      "cell_type": "markdown",
      "source": [
        "### Feature Selection"
      ],
      "metadata": {
        "id": "DPxASdaiKzG9"
      }
    },
    {
      "cell_type": "code",
      "source": [
        "# get integer timestamp\n",
        "df_data = df_data.withColumn('timestamp',unix_timestamp(col('dt'), format='yyyy-MM-dd HH:mm:ss').alias('unix_timestamp'))\n",
        "\n",
        "# Seconds in day \n",
        "SECOND = 24 * 60 * 60 \n",
        "\n",
        "# Seconds in year \n",
        "YEAR = (365.25) * SECOND\n",
        "\n",
        "features_final = ['temp', 'day_cos', 'day_sin', 'month_sin', 'month_cos', 'pressure', 'wind_speed', 'weather_main']\n",
        "df_final = df_data.withColumn('hour', hour(df_data.dt)) \\\n",
        "       .withColumn('month', month(df_data.dt)) \\\n",
        "       .withColumn('day_cos', cos(col('hour') * (2 * np.pi / 24))) \\\n",
        "       .withColumn('day_sin', sin(col('hour') * (2 * np.pi /24))) \\\n",
        "       .withColumn('month_cos', cos(col('timestamp') * (2 * np.pi /YEAR))) \\\n",
        "       .withColumn('month_sin', sin(col('timestamp') * (2 * np.pi /YEAR))) \\\n",
        "       .select(features_final)\n",
        "df_final.show()"
      ],
      "metadata": {
        "colab": {
          "base_uri": "https://localhost:8080/"
        },
        "id": "53jPN01RMGmO",
        "outputId": "8880f4f5-2f3b-4884-c52a-86143a8240d1"
      },
      "execution_count": 9,
      "outputs": [
        {
          "output_type": "stream",
          "name": "stdout",
          "text": [
            "+------+--------------------+--------------------+--------------------+------------------+--------+----------+------------+\n",
            "|  temp|             day_cos|             day_sin|           month_sin|         month_cos|pressure|wind_speed|weather_main|\n",
            "+------+--------------------+--------------------+--------------------+------------------+--------+----------+------------+\n",
            "|280.34|                 1.0|                 0.0|-0.00430059270297...|0.9999907524084426|  1030.0|       6.7|         Fog|\n",
            "|280.34|                 1.0|                 0.0|-0.00430059270297...|0.9999907524084426|  1030.0|       6.7|     Drizzle|\n",
            "|280.34|                 1.0|                 0.0|-0.00430059270297...|0.9999907524084426|  1030.0|       6.7|        Rain|\n",
            "|280.34|  0.9659258262890683| 0.25881904510252074|-0.00358383062804...|0.9999935780583941|  1030.0|       6.7|         Fog|\n",
            "|280.34|  0.9659258262890683| 0.25881904510252074|-0.00358383062804...|0.9999935780583941|  1030.0|       6.7|     Drizzle|\n",
            "|280.34|  0.9659258262890683| 0.25881904510252074|-0.00358383062804...|0.9999935780583941|  1030.0|       6.7|        Rain|\n",
            "|280.51|  0.8660254037844387| 0.49999999999999994|-0.00286706671189...|0.9999958899557886|  1029.0|       6.7|        Rain|\n",
            "|281.34|  0.7071067811865476|  0.7071067811865475|-0.00215030132277...|0.9999976880994382|  1029.0|       5.2|        Rain|\n",
            "|281.34|  0.5000000000000001|  0.8660254037844386|-0.00143353482892...|0.9999989724884193|  1029.0|       5.2|        Rain|\n",
            "|281.51| 0.25881904510252096|  0.9659258262890682|-7.16767598580483...|0.9999997431220718|  1026.0|      5.67|      Clouds|\n",
            "|281.91|6.123233995736766...|                 1.0|-2.20436423846523...|               1.0|  1026.0|       7.2|        Rain|\n",
            "|281.91|-0.25881904510252063|  0.9659258262890683|7.167675985831805E-4|0.9999997431220718|  1025.0|       6.6|     Drizzle|\n",
            "|281.91|-0.25881904510252063|  0.9659258262890683|7.167675985831805E-4|0.9999997431220718|  1025.0|       6.6|        Rain|\n",
            "|282.21| -0.4999999999999998|  0.8660254037844387|0.001433534828925...|0.9999989724884193|  1024.0|       6.6|        Rain|\n",
            "|282.14| -0.7071067811865475|  0.7071067811865476|0.002150301322772...|0.9999976880994382|  1023.0|       5.7|        Rain|\n",
            "|282.14| -0.8660254037844385|  0.5000000000000003|0.002867066711897...|0.9999958899557886|  1023.0|       5.7|        Rain|\n",
            "|283.03| -0.9659258262890682|   0.258819045102521|0.003583830628043...|0.9999935780583941|  1022.0|       2.0|      Clouds|\n",
            "|282.89|                -1.0|1.224646799147353...|0.004300592702982189|0.9999907524084426|  1022.0|       3.6|         Fog|\n",
            "|282.86| -0.9659258262890684|-0.25881904510252035|0.005017352568466237|0.9999874130073857|  1022.0|       3.6|        Rain|\n",
            "|283.72| -0.8660254037844388| -0.4999999999999997|0.005734109856248914|0.9999835598569391|  1022.0|       5.1|        Haze|\n",
            "+------+--------------------+--------------------+--------------------+------------------+--------+----------+------------+\n",
            "only showing top 20 rows\n",
            "\n"
          ]
        }
      ]
    },
    {
      "cell_type": "code",
      "source": [
        "pd_final = df_final.toPandas()\n",
        "sunny = pd_final.weather_main == 'Clear'\n",
        "cloudy = pd_final.weather_main == 'Clouds'\n",
        "windy = pd_final.weather_main.isin(['Squall',  'Tornado'])\n",
        "foggy =  pd_final.weather_main.isin(['Mist', 'Haze', 'Dust', 'Fog', 'Smoke'])\n",
        "rainy = pd_final.weather_main.isin(['Drizzle', 'Rain', 'Thunderstorm'])\n",
        "snowy = pd_final.weather_main .isin(['Snow'])\n",
        "pd_final['weather_main'] = pd_final['weather_main'].where(~sunny, 'sunny')\n",
        "pd_final['weather_main'] = pd_final['weather_main'].where(~cloudy, 'cloudy')\n",
        "pd_final['weather_main'] = pd_final['weather_main'].where(~windy, 'windy')\n",
        "pd_final['weather_main'] = pd_final['weather_main'].where(~foggy, 'foggy')\n",
        "pd_final['weather_main'] = pd_final['weather_main'].where(~rainy, 'rainy')\n",
        "pd_final['weather_main'] = pd_final['weather_main'].where(~snowy, 'snowy')\n",
        "conditions = [\n",
        "    (pd_final['weather_main'] == 'sunny'),\n",
        "    (pd_final['weather_main'] == 'cloudy'),\n",
        "    (pd_final['weather_main'] == 'windy'),\n",
        "    (pd_final['weather_main'] == 'foggy'),\n",
        "    (pd_final['weather_main'] == 'rainy'),\n",
        "    (pd_final['weather_main'] == 'snowy')\n",
        "]\n",
        "values = [0, 1, 2, 3, 4, 5]\n",
        "pd_final['weather_id'] = np.select(conditions, values)\n",
        "\n",
        "pd_final"
      ],
      "metadata": {
        "colab": {
          "base_uri": "https://localhost:8080/",
          "height": 423
        },
        "id": "eSFB8Tx6QSAS",
        "outputId": "27204edf-1f1b-4c39-850c-701761b7bef4"
      },
      "execution_count": 10,
      "outputs": [
        {
          "output_type": "execute_result",
          "data": {
            "text/html": [
              "\n",
              "  <div id=\"df-958048a4-5584-4ff2-9933-b659c2630d8b\">\n",
              "    <div class=\"colab-df-container\">\n",
              "      <div>\n",
              "<style scoped>\n",
              "    .dataframe tbody tr th:only-of-type {\n",
              "        vertical-align: middle;\n",
              "    }\n",
              "\n",
              "    .dataframe tbody tr th {\n",
              "        vertical-align: top;\n",
              "    }\n",
              "\n",
              "    .dataframe thead th {\n",
              "        text-align: right;\n",
              "    }\n",
              "</style>\n",
              "<table border=\"1\" class=\"dataframe\">\n",
              "  <thead>\n",
              "    <tr style=\"text-align: right;\">\n",
              "      <th></th>\n",
              "      <th>temp</th>\n",
              "      <th>day_cos</th>\n",
              "      <th>day_sin</th>\n",
              "      <th>month_sin</th>\n",
              "      <th>month_cos</th>\n",
              "      <th>pressure</th>\n",
              "      <th>wind_speed</th>\n",
              "      <th>weather_main</th>\n",
              "      <th>weather_id</th>\n",
              "    </tr>\n",
              "  </thead>\n",
              "  <tbody>\n",
              "    <tr>\n",
              "      <th>0</th>\n",
              "      <td>280.34</td>\n",
              "      <td>1.000000</td>\n",
              "      <td>0.000000</td>\n",
              "      <td>-0.004301</td>\n",
              "      <td>0.999991</td>\n",
              "      <td>1030.0</td>\n",
              "      <td>6.70</td>\n",
              "      <td>foggy</td>\n",
              "      <td>3</td>\n",
              "    </tr>\n",
              "    <tr>\n",
              "      <th>1</th>\n",
              "      <td>280.34</td>\n",
              "      <td>1.000000</td>\n",
              "      <td>0.000000</td>\n",
              "      <td>-0.004301</td>\n",
              "      <td>0.999991</td>\n",
              "      <td>1030.0</td>\n",
              "      <td>6.70</td>\n",
              "      <td>rainy</td>\n",
              "      <td>4</td>\n",
              "    </tr>\n",
              "    <tr>\n",
              "      <th>2</th>\n",
              "      <td>280.34</td>\n",
              "      <td>1.000000</td>\n",
              "      <td>0.000000</td>\n",
              "      <td>-0.004301</td>\n",
              "      <td>0.999991</td>\n",
              "      <td>1030.0</td>\n",
              "      <td>6.70</td>\n",
              "      <td>rainy</td>\n",
              "      <td>4</td>\n",
              "    </tr>\n",
              "    <tr>\n",
              "      <th>3</th>\n",
              "      <td>280.34</td>\n",
              "      <td>0.965926</td>\n",
              "      <td>0.258819</td>\n",
              "      <td>-0.003584</td>\n",
              "      <td>0.999994</td>\n",
              "      <td>1030.0</td>\n",
              "      <td>6.70</td>\n",
              "      <td>foggy</td>\n",
              "      <td>3</td>\n",
              "    </tr>\n",
              "    <tr>\n",
              "      <th>4</th>\n",
              "      <td>280.34</td>\n",
              "      <td>0.965926</td>\n",
              "      <td>0.258819</td>\n",
              "      <td>-0.003584</td>\n",
              "      <td>0.999994</td>\n",
              "      <td>1030.0</td>\n",
              "      <td>6.70</td>\n",
              "      <td>rainy</td>\n",
              "      <td>4</td>\n",
              "    </tr>\n",
              "    <tr>\n",
              "      <th>...</th>\n",
              "      <td>...</td>\n",
              "      <td>...</td>\n",
              "      <td>...</td>\n",
              "      <td>...</td>\n",
              "      <td>...</td>\n",
              "      <td>...</td>\n",
              "      <td>...</td>\n",
              "      <td>...</td>\n",
              "      <td>...</td>\n",
              "    </tr>\n",
              "    <tr>\n",
              "      <th>416544</th>\n",
              "      <td>289.09</td>\n",
              "      <td>0.258819</td>\n",
              "      <td>-0.965926</td>\n",
              "      <td>-0.340673</td>\n",
              "      <td>0.940182</td>\n",
              "      <td>1004.0</td>\n",
              "      <td>0.45</td>\n",
              "      <td>cloudy</td>\n",
              "      <td>1</td>\n",
              "    </tr>\n",
              "    <tr>\n",
              "      <th>416545</th>\n",
              "      <td>289.64</td>\n",
              "      <td>0.500000</td>\n",
              "      <td>-0.866025</td>\n",
              "      <td>-0.339999</td>\n",
              "      <td>0.940426</td>\n",
              "      <td>1003.0</td>\n",
              "      <td>0.45</td>\n",
              "      <td>cloudy</td>\n",
              "      <td>1</td>\n",
              "    </tr>\n",
              "    <tr>\n",
              "      <th>416546</th>\n",
              "      <td>291.16</td>\n",
              "      <td>0.707107</td>\n",
              "      <td>-0.707107</td>\n",
              "      <td>-0.339325</td>\n",
              "      <td>0.940669</td>\n",
              "      <td>1003.0</td>\n",
              "      <td>0.89</td>\n",
              "      <td>cloudy</td>\n",
              "      <td>1</td>\n",
              "    </tr>\n",
              "    <tr>\n",
              "      <th>416547</th>\n",
              "      <td>291.23</td>\n",
              "      <td>0.866025</td>\n",
              "      <td>-0.500000</td>\n",
              "      <td>-0.338650</td>\n",
              "      <td>0.940912</td>\n",
              "      <td>1003.0</td>\n",
              "      <td>0.89</td>\n",
              "      <td>rainy</td>\n",
              "      <td>4</td>\n",
              "    </tr>\n",
              "    <tr>\n",
              "      <th>416548</th>\n",
              "      <td>291.44</td>\n",
              "      <td>0.965926</td>\n",
              "      <td>-0.258819</td>\n",
              "      <td>-0.337976</td>\n",
              "      <td>0.941155</td>\n",
              "      <td>1002.0</td>\n",
              "      <td>0.45</td>\n",
              "      <td>cloudy</td>\n",
              "      <td>1</td>\n",
              "    </tr>\n",
              "  </tbody>\n",
              "</table>\n",
              "<p>416549 rows × 9 columns</p>\n",
              "</div>\n",
              "      <button class=\"colab-df-convert\" onclick=\"convertToInteractive('df-958048a4-5584-4ff2-9933-b659c2630d8b')\"\n",
              "              title=\"Convert this dataframe to an interactive table.\"\n",
              "              style=\"display:none;\">\n",
              "        \n",
              "  <svg xmlns=\"http://www.w3.org/2000/svg\" height=\"24px\"viewBox=\"0 0 24 24\"\n",
              "       width=\"24px\">\n",
              "    <path d=\"M0 0h24v24H0V0z\" fill=\"none\"/>\n",
              "    <path d=\"M18.56 5.44l.94 2.06.94-2.06 2.06-.94-2.06-.94-.94-2.06-.94 2.06-2.06.94zm-11 1L8.5 8.5l.94-2.06 2.06-.94-2.06-.94L8.5 2.5l-.94 2.06-2.06.94zm10 10l.94 2.06.94-2.06 2.06-.94-2.06-.94-.94-2.06-.94 2.06-2.06.94z\"/><path d=\"M17.41 7.96l-1.37-1.37c-.4-.4-.92-.59-1.43-.59-.52 0-1.04.2-1.43.59L10.3 9.45l-7.72 7.72c-.78.78-.78 2.05 0 2.83L4 21.41c.39.39.9.59 1.41.59.51 0 1.02-.2 1.41-.59l7.78-7.78 2.81-2.81c.8-.78.8-2.07 0-2.86zM5.41 20L4 18.59l7.72-7.72 1.47 1.35L5.41 20z\"/>\n",
              "  </svg>\n",
              "      </button>\n",
              "      \n",
              "  <style>\n",
              "    .colab-df-container {\n",
              "      display:flex;\n",
              "      flex-wrap:wrap;\n",
              "      gap: 12px;\n",
              "    }\n",
              "\n",
              "    .colab-df-convert {\n",
              "      background-color: #E8F0FE;\n",
              "      border: none;\n",
              "      border-radius: 50%;\n",
              "      cursor: pointer;\n",
              "      display: none;\n",
              "      fill: #1967D2;\n",
              "      height: 32px;\n",
              "      padding: 0 0 0 0;\n",
              "      width: 32px;\n",
              "    }\n",
              "\n",
              "    .colab-df-convert:hover {\n",
              "      background-color: #E2EBFA;\n",
              "      box-shadow: 0px 1px 2px rgba(60, 64, 67, 0.3), 0px 1px 3px 1px rgba(60, 64, 67, 0.15);\n",
              "      fill: #174EA6;\n",
              "    }\n",
              "\n",
              "    [theme=dark] .colab-df-convert {\n",
              "      background-color: #3B4455;\n",
              "      fill: #D2E3FC;\n",
              "    }\n",
              "\n",
              "    [theme=dark] .colab-df-convert:hover {\n",
              "      background-color: #434B5C;\n",
              "      box-shadow: 0px 1px 3px 1px rgba(0, 0, 0, 0.15);\n",
              "      filter: drop-shadow(0px 1px 2px rgba(0, 0, 0, 0.3));\n",
              "      fill: #FFFFFF;\n",
              "    }\n",
              "  </style>\n",
              "\n",
              "      <script>\n",
              "        const buttonEl =\n",
              "          document.querySelector('#df-958048a4-5584-4ff2-9933-b659c2630d8b button.colab-df-convert');\n",
              "        buttonEl.style.display =\n",
              "          google.colab.kernel.accessAllowed ? 'block' : 'none';\n",
              "\n",
              "        async function convertToInteractive(key) {\n",
              "          const element = document.querySelector('#df-958048a4-5584-4ff2-9933-b659c2630d8b');\n",
              "          const dataTable =\n",
              "            await google.colab.kernel.invokeFunction('convertToInteractive',\n",
              "                                                     [key], {});\n",
              "          if (!dataTable) return;\n",
              "\n",
              "          const docLinkHtml = 'Like what you see? Visit the ' +\n",
              "            '<a target=\"_blank\" href=https://colab.research.google.com/notebooks/data_table.ipynb>data table notebook</a>'\n",
              "            + ' to learn more about interactive tables.';\n",
              "          element.innerHTML = '';\n",
              "          dataTable['output_type'] = 'display_data';\n",
              "          await google.colab.output.renderOutput(dataTable, element);\n",
              "          const docLink = document.createElement('div');\n",
              "          docLink.innerHTML = docLinkHtml;\n",
              "          element.appendChild(docLink);\n",
              "        }\n",
              "      </script>\n",
              "    </div>\n",
              "  </div>\n",
              "  "
            ],
            "text/plain": [
              "          temp   day_cos   day_sin  ...  wind_speed  weather_main  weather_id\n",
              "0       280.34  1.000000  0.000000  ...        6.70         foggy           3\n",
              "1       280.34  1.000000  0.000000  ...        6.70         rainy           4\n",
              "2       280.34  1.000000  0.000000  ...        6.70         rainy           4\n",
              "3       280.34  0.965926  0.258819  ...        6.70         foggy           3\n",
              "4       280.34  0.965926  0.258819  ...        6.70         rainy           4\n",
              "...        ...       ...       ...  ...         ...           ...         ...\n",
              "416544  289.09  0.258819 -0.965926  ...        0.45        cloudy           1\n",
              "416545  289.64  0.500000 -0.866025  ...        0.45        cloudy           1\n",
              "416546  291.16  0.707107 -0.707107  ...        0.89        cloudy           1\n",
              "416547  291.23  0.866025 -0.500000  ...        0.89         rainy           4\n",
              "416548  291.44  0.965926 -0.258819  ...        0.45        cloudy           1\n",
              "\n",
              "[416549 rows x 9 columns]"
            ]
          },
          "metadata": {},
          "execution_count": 10
        }
      ]
    },
    {
      "cell_type": "code",
      "source": [
        "if not os.path.exists(\"/content/data/pd_final.pkl\"):\n",
        "    pd_final.to_pickle('/content/data/pd_final.pkl')\n",
        "else:\n",
        "    pd_final = pd.read_pickle(\"/content/data/pd_final.pkl\")\n",
        "pd_final"
      ],
      "metadata": {
        "colab": {
          "base_uri": "https://localhost:8080/",
          "height": 423
        },
        "id": "PxQoNDbwQUBT",
        "outputId": "bccad1fd-563a-4903-d519-6a11f471e7f1"
      },
      "execution_count": 11,
      "outputs": [
        {
          "output_type": "execute_result",
          "data": {
            "text/html": [
              "\n",
              "  <div id=\"df-6a984cf6-6f4c-4878-b187-c1f37a2a3ace\">\n",
              "    <div class=\"colab-df-container\">\n",
              "      <div>\n",
              "<style scoped>\n",
              "    .dataframe tbody tr th:only-of-type {\n",
              "        vertical-align: middle;\n",
              "    }\n",
              "\n",
              "    .dataframe tbody tr th {\n",
              "        vertical-align: top;\n",
              "    }\n",
              "\n",
              "    .dataframe thead th {\n",
              "        text-align: right;\n",
              "    }\n",
              "</style>\n",
              "<table border=\"1\" class=\"dataframe\">\n",
              "  <thead>\n",
              "    <tr style=\"text-align: right;\">\n",
              "      <th></th>\n",
              "      <th>temp</th>\n",
              "      <th>day_cos</th>\n",
              "      <th>day_sin</th>\n",
              "      <th>month_sin</th>\n",
              "      <th>month_cos</th>\n",
              "      <th>pressure</th>\n",
              "      <th>wind_speed</th>\n",
              "      <th>weather_main</th>\n",
              "      <th>weather_id</th>\n",
              "    </tr>\n",
              "  </thead>\n",
              "  <tbody>\n",
              "    <tr>\n",
              "      <th>0</th>\n",
              "      <td>280.34</td>\n",
              "      <td>1.000000</td>\n",
              "      <td>0.000000</td>\n",
              "      <td>-0.004301</td>\n",
              "      <td>0.999991</td>\n",
              "      <td>1030.0</td>\n",
              "      <td>6.70</td>\n",
              "      <td>foggy</td>\n",
              "      <td>3</td>\n",
              "    </tr>\n",
              "    <tr>\n",
              "      <th>1</th>\n",
              "      <td>280.34</td>\n",
              "      <td>1.000000</td>\n",
              "      <td>0.000000</td>\n",
              "      <td>-0.004301</td>\n",
              "      <td>0.999991</td>\n",
              "      <td>1030.0</td>\n",
              "      <td>6.70</td>\n",
              "      <td>rainy</td>\n",
              "      <td>4</td>\n",
              "    </tr>\n",
              "    <tr>\n",
              "      <th>2</th>\n",
              "      <td>280.34</td>\n",
              "      <td>1.000000</td>\n",
              "      <td>0.000000</td>\n",
              "      <td>-0.004301</td>\n",
              "      <td>0.999991</td>\n",
              "      <td>1030.0</td>\n",
              "      <td>6.70</td>\n",
              "      <td>rainy</td>\n",
              "      <td>4</td>\n",
              "    </tr>\n",
              "    <tr>\n",
              "      <th>3</th>\n",
              "      <td>280.34</td>\n",
              "      <td>0.965926</td>\n",
              "      <td>0.258819</td>\n",
              "      <td>-0.003584</td>\n",
              "      <td>0.999994</td>\n",
              "      <td>1030.0</td>\n",
              "      <td>6.70</td>\n",
              "      <td>foggy</td>\n",
              "      <td>3</td>\n",
              "    </tr>\n",
              "    <tr>\n",
              "      <th>4</th>\n",
              "      <td>280.34</td>\n",
              "      <td>0.965926</td>\n",
              "      <td>0.258819</td>\n",
              "      <td>-0.003584</td>\n",
              "      <td>0.999994</td>\n",
              "      <td>1030.0</td>\n",
              "      <td>6.70</td>\n",
              "      <td>rainy</td>\n",
              "      <td>4</td>\n",
              "    </tr>\n",
              "    <tr>\n",
              "      <th>...</th>\n",
              "      <td>...</td>\n",
              "      <td>...</td>\n",
              "      <td>...</td>\n",
              "      <td>...</td>\n",
              "      <td>...</td>\n",
              "      <td>...</td>\n",
              "      <td>...</td>\n",
              "      <td>...</td>\n",
              "      <td>...</td>\n",
              "    </tr>\n",
              "    <tr>\n",
              "      <th>416544</th>\n",
              "      <td>289.09</td>\n",
              "      <td>0.258819</td>\n",
              "      <td>-0.965926</td>\n",
              "      <td>-0.340673</td>\n",
              "      <td>0.940182</td>\n",
              "      <td>1004.0</td>\n",
              "      <td>0.45</td>\n",
              "      <td>cloudy</td>\n",
              "      <td>1</td>\n",
              "    </tr>\n",
              "    <tr>\n",
              "      <th>416545</th>\n",
              "      <td>289.64</td>\n",
              "      <td>0.500000</td>\n",
              "      <td>-0.866025</td>\n",
              "      <td>-0.339999</td>\n",
              "      <td>0.940426</td>\n",
              "      <td>1003.0</td>\n",
              "      <td>0.45</td>\n",
              "      <td>cloudy</td>\n",
              "      <td>1</td>\n",
              "    </tr>\n",
              "    <tr>\n",
              "      <th>416546</th>\n",
              "      <td>291.16</td>\n",
              "      <td>0.707107</td>\n",
              "      <td>-0.707107</td>\n",
              "      <td>-0.339325</td>\n",
              "      <td>0.940669</td>\n",
              "      <td>1003.0</td>\n",
              "      <td>0.89</td>\n",
              "      <td>cloudy</td>\n",
              "      <td>1</td>\n",
              "    </tr>\n",
              "    <tr>\n",
              "      <th>416547</th>\n",
              "      <td>291.23</td>\n",
              "      <td>0.866025</td>\n",
              "      <td>-0.500000</td>\n",
              "      <td>-0.338650</td>\n",
              "      <td>0.940912</td>\n",
              "      <td>1003.0</td>\n",
              "      <td>0.89</td>\n",
              "      <td>rainy</td>\n",
              "      <td>4</td>\n",
              "    </tr>\n",
              "    <tr>\n",
              "      <th>416548</th>\n",
              "      <td>291.44</td>\n",
              "      <td>0.965926</td>\n",
              "      <td>-0.258819</td>\n",
              "      <td>-0.337976</td>\n",
              "      <td>0.941155</td>\n",
              "      <td>1002.0</td>\n",
              "      <td>0.45</td>\n",
              "      <td>cloudy</td>\n",
              "      <td>1</td>\n",
              "    </tr>\n",
              "  </tbody>\n",
              "</table>\n",
              "<p>416549 rows × 9 columns</p>\n",
              "</div>\n",
              "      <button class=\"colab-df-convert\" onclick=\"convertToInteractive('df-6a984cf6-6f4c-4878-b187-c1f37a2a3ace')\"\n",
              "              title=\"Convert this dataframe to an interactive table.\"\n",
              "              style=\"display:none;\">\n",
              "        \n",
              "  <svg xmlns=\"http://www.w3.org/2000/svg\" height=\"24px\"viewBox=\"0 0 24 24\"\n",
              "       width=\"24px\">\n",
              "    <path d=\"M0 0h24v24H0V0z\" fill=\"none\"/>\n",
              "    <path d=\"M18.56 5.44l.94 2.06.94-2.06 2.06-.94-2.06-.94-.94-2.06-.94 2.06-2.06.94zm-11 1L8.5 8.5l.94-2.06 2.06-.94-2.06-.94L8.5 2.5l-.94 2.06-2.06.94zm10 10l.94 2.06.94-2.06 2.06-.94-2.06-.94-.94-2.06-.94 2.06-2.06.94z\"/><path d=\"M17.41 7.96l-1.37-1.37c-.4-.4-.92-.59-1.43-.59-.52 0-1.04.2-1.43.59L10.3 9.45l-7.72 7.72c-.78.78-.78 2.05 0 2.83L4 21.41c.39.39.9.59 1.41.59.51 0 1.02-.2 1.41-.59l7.78-7.78 2.81-2.81c.8-.78.8-2.07 0-2.86zM5.41 20L4 18.59l7.72-7.72 1.47 1.35L5.41 20z\"/>\n",
              "  </svg>\n",
              "      </button>\n",
              "      \n",
              "  <style>\n",
              "    .colab-df-container {\n",
              "      display:flex;\n",
              "      flex-wrap:wrap;\n",
              "      gap: 12px;\n",
              "    }\n",
              "\n",
              "    .colab-df-convert {\n",
              "      background-color: #E8F0FE;\n",
              "      border: none;\n",
              "      border-radius: 50%;\n",
              "      cursor: pointer;\n",
              "      display: none;\n",
              "      fill: #1967D2;\n",
              "      height: 32px;\n",
              "      padding: 0 0 0 0;\n",
              "      width: 32px;\n",
              "    }\n",
              "\n",
              "    .colab-df-convert:hover {\n",
              "      background-color: #E2EBFA;\n",
              "      box-shadow: 0px 1px 2px rgba(60, 64, 67, 0.3), 0px 1px 3px 1px rgba(60, 64, 67, 0.15);\n",
              "      fill: #174EA6;\n",
              "    }\n",
              "\n",
              "    [theme=dark] .colab-df-convert {\n",
              "      background-color: #3B4455;\n",
              "      fill: #D2E3FC;\n",
              "    }\n",
              "\n",
              "    [theme=dark] .colab-df-convert:hover {\n",
              "      background-color: #434B5C;\n",
              "      box-shadow: 0px 1px 3px 1px rgba(0, 0, 0, 0.15);\n",
              "      filter: drop-shadow(0px 1px 2px rgba(0, 0, 0, 0.3));\n",
              "      fill: #FFFFFF;\n",
              "    }\n",
              "  </style>\n",
              "\n",
              "      <script>\n",
              "        const buttonEl =\n",
              "          document.querySelector('#df-6a984cf6-6f4c-4878-b187-c1f37a2a3ace button.colab-df-convert');\n",
              "        buttonEl.style.display =\n",
              "          google.colab.kernel.accessAllowed ? 'block' : 'none';\n",
              "\n",
              "        async function convertToInteractive(key) {\n",
              "          const element = document.querySelector('#df-6a984cf6-6f4c-4878-b187-c1f37a2a3ace');\n",
              "          const dataTable =\n",
              "            await google.colab.kernel.invokeFunction('convertToInteractive',\n",
              "                                                     [key], {});\n",
              "          if (!dataTable) return;\n",
              "\n",
              "          const docLinkHtml = 'Like what you see? Visit the ' +\n",
              "            '<a target=\"_blank\" href=https://colab.research.google.com/notebooks/data_table.ipynb>data table notebook</a>'\n",
              "            + ' to learn more about interactive tables.';\n",
              "          element.innerHTML = '';\n",
              "          dataTable['output_type'] = 'display_data';\n",
              "          await google.colab.output.renderOutput(dataTable, element);\n",
              "          const docLink = document.createElement('div');\n",
              "          docLink.innerHTML = docLinkHtml;\n",
              "          element.appendChild(docLink);\n",
              "        }\n",
              "      </script>\n",
              "    </div>\n",
              "  </div>\n",
              "  "
            ],
            "text/plain": [
              "          temp   day_cos   day_sin  ...  wind_speed  weather_main  weather_id\n",
              "0       280.34  1.000000  0.000000  ...        6.70         foggy           3\n",
              "1       280.34  1.000000  0.000000  ...        6.70         rainy           4\n",
              "2       280.34  1.000000  0.000000  ...        6.70         rainy           4\n",
              "3       280.34  0.965926  0.258819  ...        6.70         foggy           3\n",
              "4       280.34  0.965926  0.258819  ...        6.70         rainy           4\n",
              "...        ...       ...       ...  ...         ...           ...         ...\n",
              "416544  289.09  0.258819 -0.965926  ...        0.45        cloudy           1\n",
              "416545  289.64  0.500000 -0.866025  ...        0.45        cloudy           1\n",
              "416546  291.16  0.707107 -0.707107  ...        0.89        cloudy           1\n",
              "416547  291.23  0.866025 -0.500000  ...        0.89         rainy           4\n",
              "416548  291.44  0.965926 -0.258819  ...        0.45        cloudy           1\n",
              "\n",
              "[416549 rows x 9 columns]"
            ]
          },
          "metadata": {},
          "execution_count": 11
        }
      ]
    },
    {
      "cell_type": "markdown",
      "source": [
        "#### Train model"
      ],
      "metadata": {
        "id": "wCJbhkHVXuNs"
      }
    },
    {
      "cell_type": "code",
      "source": [
        "# Share of obs in testing \n",
        "train_test_split_share = 0.1\n",
        "\n",
        "# Number of lags (hours back) to use for models\n",
        "lag = 48\n",
        "\n",
        "# Steps ahead to forecast \n",
        "n_ahead = 1"
      ],
      "metadata": {
        "id": "jfGMy_MUXxLq"
      },
      "execution_count": 12,
      "outputs": []
    },
    {
      "cell_type": "code",
      "source": [
        "scaler = StandardScaler()\n",
        "np_final = scaler.fit_transform(pd_final[['temp', 'day_cos', 'day_sin', 'month_sin', 'month_cos', 'pressure',\n",
        "       'wind_speed']])\n",
        "# np_final.concat(pd_final['weather_id'])\n",
        "np_final = np.append(np_final, pd_final['weather_id'].values.reshape(-1,1).astype('int'), axis=1)\n",
        "np_final"
      ],
      "metadata": {
        "colab": {
          "base_uri": "https://localhost:8080/"
        },
        "id": "0RS_6-KOYrBD",
        "outputId": "6adf0d25-8c5f-4c2e-c830-74eae7a1bece"
      },
      "execution_count": 13,
      "outputs": [
        {
          "output_type": "execute_result",
          "data": {
            "text/plain": [
              "array([[-0.58443288,  1.41866325, -0.00454466, ...,  1.64491449,\n",
              "         1.06338435,  3.        ],\n",
              "       [-0.58443288,  1.41866325, -0.00454466, ...,  1.64491449,\n",
              "         1.06338435,  4.        ],\n",
              "       [-0.58443288,  1.41866325, -0.00454466, ...,  1.64491449,\n",
              "         1.06338435,  4.        ],\n",
              "       ...,\n",
              "       [ 0.54947565,  1.00498065, -1.00586154, ..., -1.67457372,\n",
              "        -1.21522996,  1.        ],\n",
              "       [ 0.55681148,  1.22943743, -0.71258262, ..., -1.67457372,\n",
              "        -1.21522996,  4.        ],\n",
              "       [ 0.57881894,  1.37053686, -0.37105207, ..., -1.79751773,\n",
              "        -1.38779284,  1.        ]])"
            ]
          },
          "metadata": {},
          "execution_count": 13
        }
      ]
    },
    {
      "cell_type": "markdown",
      "source": [
        "#### Convert to time series dataset"
      ],
      "metadata": {
        "id": "ISqBSoWxZjuo"
      }
    },
    {
      "cell_type": "code",
      "source": [
        "def create_X_Y(ts: np.array, _lag=48, n_ahead=1, target_index=0) -> tuple:\n",
        "    \"\"\"\n",
        "    - ts: A time series dataframe in series form\n",
        "    - lag: Number of lags (hours back) to use for models\n",
        "    - n_ahead: Steps ahead to forecast \n",
        "    Using <lag> number of data: x_{i}, x_{i+1}, ...x_{i+lag-1} to predict <n_ahead>\n",
        "    number of data x_{i+lag}, ..., x_{i+lag+n_ahead-1}\n",
        "    Thus, X = x_{i}, x_{i+1}, ...x_{i+lag-1}\n",
        "        , Y = x_{i+lag}, ..., x_{i+lag+n_ahead-1}\n",
        "    \"\"\"\n",
        "    # Extract # of features and # of observations\n",
        "    n_obs = ts.shape[0]\n",
        "    n_features = ts.shape[1]\n",
        "    \n",
        "    # Creating placeholder lists\n",
        "    X, Y = [], []\n",
        "\n",
        "    # if we don't have enough obs to predict Y\n",
        "    if n_obs - _lag <= 0:\n",
        "        X.append(ts) # no label, only x\n",
        "    else:\n",
        "        for i in range(n_obs - _lag - n_ahead):\n",
        "            Y.append(ts[(i + _lag):(i + _lag + n_ahead), target_index])\n",
        "            X.append(ts[i:(i + _lag)])\n",
        "\n",
        "    X, Y = np.array(X), np.array(Y)\n",
        "\n",
        "    # Reshaping the X array to an RNN input shape \n",
        "    X = np.reshape(X, (X.shape[0], _lag, n_features))\n",
        "\n",
        "    return X, Y\n",
        "X, Y = create_X_Y(np_final, 48, n_ahead=n_ahead, target_index = 7)"
      ],
      "metadata": {
        "id": "zyV8QRYUZYwA"
      },
      "execution_count": 14,
      "outputs": []
    },
    {
      "cell_type": "code",
      "source": [
        "# # Subseting only the needed columns \n",
        "# ts = pd_final\n",
        "\n",
        "# nrows = ts.shape[0]\n",
        "\n",
        "# # Spliting into train and test sets\n",
        "# test_share = 0.25\n",
        "# train = ts[0:int(nrows * (1 - test_share))]\n",
        "# test = ts[int(nrows * (1 - test_share)):]\n",
        "\n",
        "# # Creating the final scaled frame \n",
        "# ts_s = pd.concat([train, test])\n",
        "# X, Y = create_X_Y(ts_s.values,n_ahead=n_ahead)\n",
        "\n",
        "n_ft = X.shape[2]\n",
        "\n",
        "# Spliting into train and test sets \n",
        "Xtrain, Ytrain = X[0:int(X.shape[0] * (1 - 0.25))], Y[0:int(X.shape[0] * (1 - 0.25))]\n",
        "X_val, Y_val = X[int(X.shape[0] * (1 - 0.25)):], Y[int(X.shape[0] * (1 - 0.25)):]\n",
        "Ytrain = Ytrain.astype('int')\n",
        "Y_val= Y_val.astype('int')"
      ],
      "metadata": {
        "id": "_-QkmS1Wc8qv"
      },
      "execution_count": 15,
      "outputs": []
    },
    {
      "cell_type": "markdown",
      "source": [
        "#### LSTM"
      ],
      "metadata": {
        "id": "8EmAaCpPZsi4"
      }
    },
    {
      "cell_type": "code",
      "source": [
        "class NNMultistepModel():\n",
        "    \n",
        "    def __init__(\n",
        "        self, \n",
        "        X, \n",
        "        Y, \n",
        "        n_outputs,\n",
        "        n_lag,\n",
        "        n_ft,\n",
        "        n_layer,\n",
        "        batch,\n",
        "        epochs, \n",
        "        lr,\n",
        "        Xval=None,\n",
        "        Yval=None,\n",
        "        mask_value=-999.0,\n",
        "        min_delta=0.001,\n",
        "        patience=5\n",
        "    ):\n",
        "        lstm_input = Input(shape=(n_lag, n_ft))\n",
        "\n",
        "        # Series signal \n",
        "        lstm_layer = LSTM(n_layer, activation='relu')(lstm_input)\n",
        "\n",
        "        x = Dense(n_outputs)(lstm_layer)\n",
        "        \n",
        "        self.model = Model(inputs=lstm_input, outputs=x)\n",
        "        self.batch = batch \n",
        "        self.epochs = epochs\n",
        "        self.n_layer=n_layer\n",
        "        self.lr = lr \n",
        "        self.Xval = Xval\n",
        "        self.Yval = Yval\n",
        "        self.X = X\n",
        "        self.Y = Y\n",
        "        self.mask_value = mask_value\n",
        "        self.min_delta = min_delta\n",
        "        self.patience = patience\n",
        "\n",
        "    def trainCallback(self):\n",
        "        return EarlyStopping(monitor='loss', patience=self.patience, min_delta=self.min_delta)\n",
        "\n",
        "    def train(self):\n",
        "        # Getting the untrained model \n",
        "        empty_model = self.model\n",
        "        \n",
        "        # Initiating the optimizer\n",
        "        optimizer = keras.optimizers.Adam(learning_rate=self.lr)\n",
        "\n",
        "        # Compiling the model\n",
        "        empty_model.compile(optimizer=optimizer,\n",
        "                            loss=losses.MeanAbsoluteError(), \n",
        "                            # loss=tf.keras.losses.CategoricalCrossentropy(),\n",
        "                            metrics=[tf.keras.metrics.SparseCategoricalAccuracy()])\n",
        "\n",
        "        if (self.Xval is not None) & (self.Yval is not None):\n",
        "            history = empty_model.fit(\n",
        "                self.X, \n",
        "                self.Y, \n",
        "                epochs=self.epochs, \n",
        "                batch_size=self.batch, \n",
        "                validation_data=(self.Xval, self.Yval), \n",
        "                shuffle=False,\n",
        "                callbacks=[self.trainCallback()]\n",
        "            )\n",
        "        else:\n",
        "            history = empty_model.fit(\n",
        "                self.X, \n",
        "                self.Y, \n",
        "                epochs=self.epochs, \n",
        "                batch_size=self.batch,\n",
        "                shuffle=False,\n",
        "                callbacks=[self.trainCallback()]\n",
        "            )\n",
        "        \n",
        "        # Saving to original model attribute in the class\n",
        "        self.model = empty_model\n",
        "        \n",
        "        # Returning the training history\n",
        "        return history\n",
        "    \n",
        "    def predict(self, X):\n",
        "        return self.model.predict(X)\n",
        "\n",
        "model = NNMultistepModel(\n",
        "    X=Xtrain,\n",
        "    Y=Ytrain,\n",
        "    n_outputs=n_ahead,\n",
        "    n_lag=lag,\n",
        "    n_ft=n_ft,\n",
        "    n_layer=10,\n",
        "    batch=512,\n",
        "    epochs=20, \n",
        "    lr=0.001,\n",
        "    Xval=X_val,\n",
        "    Yval=Y_val,\n",
        ")"
      ],
      "metadata": {
        "id": "aTODvh-9c2oj"
      },
      "execution_count": 16,
      "outputs": []
    },
    {
      "cell_type": "code",
      "source": [
        "model.model.summary()"
      ],
      "metadata": {
        "colab": {
          "base_uri": "https://localhost:8080/"
        },
        "id": "hL_aNnTQd4xK",
        "outputId": "73e586eb-67bf-44c3-dcf0-63900c42b228"
      },
      "execution_count": 17,
      "outputs": [
        {
          "output_type": "stream",
          "name": "stdout",
          "text": [
            "Model: \"model\"\n",
            "_________________________________________________________________\n",
            " Layer (type)                Output Shape              Param #   \n",
            "=================================================================\n",
            " input_1 (InputLayer)        [(None, 48, 8)]           0         \n",
            "                                                                 \n",
            " lstm (LSTM)                 (None, 10)                760       \n",
            "                                                                 \n",
            " dense (Dense)               (None, 1)                 11        \n",
            "                                                                 \n",
            "=================================================================\n",
            "Total params: 771\n",
            "Trainable params: 771\n",
            "Non-trainable params: 0\n",
            "_________________________________________________________________\n"
          ]
        }
      ]
    },
    {
      "cell_type": "code",
      "source": [
        "history = model.train()"
      ],
      "metadata": {
        "colab": {
          "base_uri": "https://localhost:8080/"
        },
        "id": "kADjLIAEd7Df",
        "outputId": "886ad540-fd8b-445f-fbb1-c9b154bcb09f"
      },
      "execution_count": 18,
      "outputs": [
        {
          "output_type": "stream",
          "name": "stdout",
          "text": [
            "Epoch 1/20\n",
            "611/611 [==============================] - 26s 40ms/step - loss: 0.7305 - sparse_categorical_accuracy: 0.2462 - val_loss: 0.6160 - val_sparse_categorical_accuracy: 0.4293\n",
            "Epoch 2/20\n",
            "611/611 [==============================] - 25s 41ms/step - loss: 0.4872 - sparse_categorical_accuracy: 0.2462 - val_loss: 0.5712 - val_sparse_categorical_accuracy: 0.4293\n",
            "Epoch 3/20\n",
            "611/611 [==============================] - 23s 37ms/step - loss: 0.4581 - sparse_categorical_accuracy: 0.2462 - val_loss: 0.5471 - val_sparse_categorical_accuracy: 0.4293\n",
            "Epoch 4/20\n",
            "611/611 [==============================] - 23s 37ms/step - loss: 0.4482 - sparse_categorical_accuracy: 0.2462 - val_loss: 0.5438 - val_sparse_categorical_accuracy: 0.4293\n",
            "Epoch 5/20\n",
            "611/611 [==============================] - 22s 36ms/step - loss: 0.4424 - sparse_categorical_accuracy: 0.2462 - val_loss: 0.5440 - val_sparse_categorical_accuracy: 0.4293\n",
            "Epoch 6/20\n",
            "611/611 [==============================] - 22s 36ms/step - loss: 0.4383 - sparse_categorical_accuracy: 0.2462 - val_loss: 0.5365 - val_sparse_categorical_accuracy: 0.4293\n",
            "Epoch 7/20\n",
            "611/611 [==============================] - 22s 36ms/step - loss: 0.4344 - sparse_categorical_accuracy: 0.2462 - val_loss: 0.5339 - val_sparse_categorical_accuracy: 0.4293\n",
            "Epoch 8/20\n",
            "611/611 [==============================] - 22s 36ms/step - loss: 0.4325 - sparse_categorical_accuracy: 0.2462 - val_loss: 0.5373 - val_sparse_categorical_accuracy: 0.4293\n",
            "Epoch 9/20\n",
            "611/611 [==============================] - 22s 37ms/step - loss: 0.4302 - sparse_categorical_accuracy: 0.2462 - val_loss: 0.5380 - val_sparse_categorical_accuracy: 0.4293\n",
            "Epoch 10/20\n",
            "611/611 [==============================] - 22s 36ms/step - loss: 0.4280 - sparse_categorical_accuracy: 0.2462 - val_loss: 0.5367 - val_sparse_categorical_accuracy: 0.4293\n",
            "Epoch 11/20\n",
            "611/611 [==============================] - 22s 35ms/step - loss: 0.4261 - sparse_categorical_accuracy: 0.2462 - val_loss: 0.5311 - val_sparse_categorical_accuracy: 0.4293\n",
            "Epoch 12/20\n",
            "611/611 [==============================] - 22s 36ms/step - loss: 0.4249 - sparse_categorical_accuracy: 0.2462 - val_loss: 0.5293 - val_sparse_categorical_accuracy: 0.4293\n",
            "Epoch 13/20\n",
            "611/611 [==============================] - 24s 39ms/step - loss: 0.4224 - sparse_categorical_accuracy: 0.2462 - val_loss: 0.5324 - val_sparse_categorical_accuracy: 0.4293\n",
            "Epoch 14/20\n",
            "611/611 [==============================] - 22s 36ms/step - loss: 0.4215 - sparse_categorical_accuracy: 0.2462 - val_loss: 0.5236 - val_sparse_categorical_accuracy: 0.4293\n",
            "Epoch 15/20\n",
            "611/611 [==============================] - 23s 38ms/step - loss: 0.4197 - sparse_categorical_accuracy: 0.2462 - val_loss: 0.5285 - val_sparse_categorical_accuracy: 0.4293\n",
            "Epoch 16/20\n",
            "611/611 [==============================] - 22s 37ms/step - loss: 0.4192 - sparse_categorical_accuracy: 0.2462 - val_loss: 0.5210 - val_sparse_categorical_accuracy: 0.4293\n",
            "Epoch 17/20\n",
            "611/611 [==============================] - 24s 39ms/step - loss: 0.4172 - sparse_categorical_accuracy: 0.2462 - val_loss: 0.5256 - val_sparse_categorical_accuracy: 0.4293\n",
            "Epoch 18/20\n",
            "611/611 [==============================] - 25s 40ms/step - loss: 0.4170 - sparse_categorical_accuracy: 0.2462 - val_loss: 0.5191 - val_sparse_categorical_accuracy: 0.4293\n",
            "Epoch 19/20\n",
            "611/611 [==============================] - 25s 41ms/step - loss: 0.4153 - sparse_categorical_accuracy: 0.2462 - val_loss: 0.5229 - val_sparse_categorical_accuracy: 0.4293\n",
            "Epoch 20/20\n",
            "611/611 [==============================] - 25s 41ms/step - loss: 0.4151 - sparse_categorical_accuracy: 0.2462 - val_loss: 0.5175 - val_sparse_categorical_accuracy: 0.4293\n"
          ]
        }
      ]
    },
    {
      "cell_type": "code",
      "source": [
        "sns.set()\n",
        "loss = history.history.get('loss')\n",
        "val_loss = history.history.get('val_loss')\n",
        "n_epochs = range(len(loss))\n",
        "\n",
        "fig = plt.figure(figsize = (8, 5))\n",
        "plt.plot(loss, '.-', \n",
        "         label='train_loss', color = 'darkblue')\n",
        "plt.plot(val_loss, '.-',\n",
        "         label = 'val_loss', color = 'darkred')\n",
        "plt.xlabel('Epoch')\n",
        "plt.ylabel('Loss')\n",
        "plt.xticks(np.arange(0, 20, 1))\n",
        "plt.legend(loc='upper right')\n",
        "plt.title('Loss of LSTM model')"
      ],
      "metadata": {
        "colab": {
          "base_uri": "https://localhost:8080/",
          "height": 373
        },
        "id": "SCeoKdz-d9xm",
        "outputId": "28a12884-a9d1-4ca6-c15e-e149cd818bf1"
      },
      "execution_count": 19,
      "outputs": [
        {
          "output_type": "execute_result",
          "data": {
            "text/plain": [
              "Text(0.5, 1.0, 'Loss of LSTM model')"
            ]
          },
          "metadata": {},
          "execution_count": 19
        },
        {
          "output_type": "display_data",
          "data": {
            "image/png": "[encoded data removed]",
            "text/plain": [
              "<Figure size 576x360 with 1 Axes>"
            ]
          },
          "metadata": {}
        }
      ]
    },
    {
      "cell_type": "code",
      "source": [
        "# import pickle\n",
        "# filename = 'NNMultistepModel_lstm_model.sav'\n",
        "# pickle.dump(model, open(filename, 'wb'))"
      ],
      "metadata": {
        "id": "BDTd8RPpTgbT"
      },
      "execution_count": 20,
      "outputs": []
    },
    {
      "cell_type": "code",
      "source": [
        "# # some time later...\n",
        "# # load the model from disk\n",
        "# loaded_model = pickle.load(open(filename, 'rb'))\n",
        "# result = model.predict(X_val)\n",
        "# print(np.around(result).astype(np.uint64))"
      ],
      "metadata": {
        "id": "lVUFpjBFOTP6"
      },
      "execution_count": 21,
      "outputs": []
    },
    {
      "cell_type": "code",
      "source": [
        "model.model.save(\"NNMultistepModel_lstm_model.h5\")"
      ],
      "metadata": {
        "id": "yWyCsqyX10QB"
      },
      "execution_count": 22,
      "outputs": []
    },
    {
      "cell_type": "code",
      "source": [
        "from google.colab import files\n",
        "files.download(\"/content/NNMultistepModel_lstm_model.h5\")"
      ],
      "metadata": {
        "colab": {
          "base_uri": "https://localhost:8080/",
          "height": 16
        },
        "id": "uQOuQJ-MVLXB",
        "outputId": "aa25d175-d2f7-4b05-cf85-124113da7b1f"
      },
      "execution_count": 23,
      "outputs": [
        {
          "output_type": "display_data",
          "data": {
            "application/javascript": [
              "\n",
              "    async function download(id, filename, size) {\n",
              "      if (!google.colab.kernel.accessAllowed) {\n",
              "        return;\n",
              "      }\n",
              "      const div = document.createElement('div');\n",
              "      const label = document.createElement('label');\n",
              "      label.textContent = `Downloading \"${filename}\": `;\n",
              "      div.appendChild(label);\n",
              "      const progress = document.createElement('progress');\n",
              "      progress.max = size;\n",
              "      div.appendChild(progress);\n",
              "      document.body.appendChild(div);\n",
              "\n",
              "      const buffers = [];\n",
              "      let downloaded = 0;\n",
              "\n",
              "      const channel = await google.colab.kernel.comms.open(id);\n",
              "      // Send a message to notify the kernel that we're ready.\n",
              "      channel.send({})\n",
              "\n",
              "      for await (const message of channel.messages) {\n",
              "        // Send a message to notify the kernel that we're ready.\n",
              "        channel.send({})\n",
              "        if (message.buffers) {\n",
              "          for (const buffer of message.buffers) {\n",
              "            buffers.push(buffer);\n",
              "            downloaded += buffer.byteLength;\n",
              "            progress.value = downloaded;\n",
              "          }\n",
              "        }\n",
              "      }\n",
              "      const blob = new Blob(buffers, {type: 'application/binary'});\n",
              "      const a = document.createElement('a');\n",
              "      a.href = window.URL.createObjectURL(blob);\n",
              "      a.download = filename;\n",
              "      div.appendChild(a);\n",
              "      a.click();\n",
              "      div.remove();\n",
              "    }\n",
              "  "
            ],
            "text/plain": [
              "<IPython.core.display.Javascript object>"
            ]
          },
          "metadata": {}
        },
        {
          "output_type": "display_data",
          "data": {
            "application/javascript": [
              "download(\"download_1050679e-308b-4428-b79c-a31e332c221b\", \"NNMultistepModel_lstm_model.h5\", 41912)"
            ],
            "text/plain": [
              "<IPython.core.display.Javascript object>"
            ]
          },
          "metadata": {}
        }
      ]
    }
  ]
}